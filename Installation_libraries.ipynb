{
 "cells": [
  {
   "cell_type": "code",
   "execution_count": null,
   "metadata": {},
   "outputs": [],
   "source": [
    "!conda install -c anaconda gcc "
   ]
  },
  {
   "cell_type": "code",
   "execution_count": null,
   "metadata": {},
   "outputs": [],
   "source": [
    "!conda install -c r r-essentials --yes\n",
    "# if R doesn't work then probably \n",
    "#!conda install -c r r --yes\n"
   ]
  },
  {
   "cell_type": "code",
   "execution_count": null,
   "metadata": {},
   "outputs": [],
   "source": []
  },
  {
   "cell_type": "code",
   "execution_count": 1,
   "metadata": {},
   "outputs": [
    {
     "name": "stdout",
     "output_type": "stream",
     "text": [
      "Requirement already satisfied: msgpack in /anaconda3/lib/python3.6/site-packages (0.5.6)\r\n"
     ]
    }
   ],
   "source": [
    "!pip install msgpack"
   ]
  },
  {
   "cell_type": "code",
   "execution_count": 2,
   "metadata": {},
   "outputs": [
    {
     "name": "stdout",
     "output_type": "stream",
     "text": [
      "Collecting scanpy\n",
      "Requirement already satisfied: matplotlib>=2.2 in /anaconda3/lib/python3.6/site-packages (from scanpy) (2.2.2)\n",
      "Requirement already satisfied: scikit-learn>=0.19.1 in /anaconda3/lib/python3.6/site-packages (from scanpy) (0.19.1)\n",
      "Requirement already satisfied: tables in /anaconda3/lib/python3.6/site-packages (from scanpy) (3.4.3)\n",
      "Collecting joblib (from scanpy)\n",
      "  Using cached https://files.pythonhosted.org/packages/4f/51/870b2ec270fc29c5d89f85353da420606a9cb39fba4747127e7c7d7eb25d/joblib-0.11-py2.py3-none-any.whl\n",
      "Requirement already satisfied: anndata>=0.6.2 in /anaconda3/lib/python3.6/site-packages (from scanpy) (0.6.4)\n",
      "Requirement already satisfied: statsmodels in /anaconda3/lib/python3.6/site-packages (from scanpy) (0.9.0)\n",
      "Requirement already satisfied: scipy in /anaconda3/lib/python3.6/site-packages (from scanpy) (1.1.0)\n",
      "Requirement already satisfied: pandas>=0.21 in /anaconda3/lib/python3.6/site-packages (from scanpy) (0.23.0)\n",
      "Requirement already satisfied: networkx in /anaconda3/lib/python3.6/site-packages (from scanpy) (2.1)\n",
      "Requirement already satisfied: natsort in /anaconda3/lib/python3.6/site-packages (from scanpy) (5.3.2)\n",
      "Requirement already satisfied: h5py in /anaconda3/lib/python3.6/site-packages (from scanpy) (2.8.0)\n",
      "Requirement already satisfied: numba in /anaconda3/lib/python3.6/site-packages (from scanpy) (0.38.0)\n",
      "Requirement already satisfied: seaborn in /anaconda3/lib/python3.6/site-packages (from scanpy) (0.8.1)\n",
      "Requirement already satisfied: numpy>=1.7.1 in /anaconda3/lib/python3.6/site-packages (from matplotlib>=2.2->scanpy) (1.14.3)\n",
      "Requirement already satisfied: cycler>=0.10 in /anaconda3/lib/python3.6/site-packages (from matplotlib>=2.2->scanpy) (0.10.0)\n",
      "Requirement already satisfied: pyparsing!=2.0.4,!=2.1.2,!=2.1.6,>=2.0.1 in /anaconda3/lib/python3.6/site-packages (from matplotlib>=2.2->scanpy) (2.2.0)\n",
      "Requirement already satisfied: python-dateutil>=2.1 in /anaconda3/lib/python3.6/site-packages (from matplotlib>=2.2->scanpy) (2.7.3)\n",
      "Requirement already satisfied: pytz in /anaconda3/lib/python3.6/site-packages (from matplotlib>=2.2->scanpy) (2018.4)\n",
      "Requirement already satisfied: six>=1.10 in /anaconda3/lib/python3.6/site-packages (from matplotlib>=2.2->scanpy) (1.11.0)\n",
      "Requirement already satisfied: kiwisolver>=1.0.1 in /anaconda3/lib/python3.6/site-packages (from matplotlib>=2.2->scanpy) (1.0.1)\n",
      "Requirement already satisfied: numexpr>=2.5.2 in /anaconda3/lib/python3.6/site-packages (from tables->scanpy) (2.6.5)\n",
      "Requirement already satisfied: decorator>=4.1.0 in /anaconda3/lib/python3.6/site-packages (from networkx->scanpy) (4.3.0)\n",
      "Requirement already satisfied: llvmlite>=0.23.0dev0 in /anaconda3/lib/python3.6/site-packages (from numba->scanpy) (0.23.1)\n",
      "Requirement already satisfied: setuptools in /anaconda3/lib/python3.6/site-packages (from kiwisolver>=1.0.1->matplotlib>=2.2->scanpy) (39.2.0)\n",
      "Installing collected packages: joblib, scanpy\n",
      "Successfully installed joblib-0.11 scanpy-1.2.2\n"
     ]
    }
   ],
   "source": [
    "!pip install scanpy"
   ]
  },
  {
   "cell_type": "code",
   "execution_count": 3,
   "metadata": {},
   "outputs": [
    {
     "name": "stdout",
     "output_type": "stream",
     "text": [
      "Requirement already satisfied: mnnpy in /anaconda3/lib/python3.6/site-packages (0.1.9.4)\n",
      "Requirement already satisfied: anndata in /anaconda3/lib/python3.6/site-packages (from mnnpy) (0.6.4)\n",
      "Requirement already satisfied: numba in /anaconda3/lib/python3.6/site-packages (from mnnpy) (0.38.0)\n",
      "Requirement already satisfied: scipy in /anaconda3/lib/python3.6/site-packages (from mnnpy) (1.1.0)\n",
      "Requirement already satisfied: pandas in /anaconda3/lib/python3.6/site-packages (from mnnpy) (0.23.0)\n",
      "Requirement already satisfied: numpy in /anaconda3/lib/python3.6/site-packages (from mnnpy) (1.14.3)\n",
      "Requirement already satisfied: natsort in /anaconda3/lib/python3.6/site-packages (from anndata->mnnpy) (5.3.2)\n",
      "Requirement already satisfied: h5py in /anaconda3/lib/python3.6/site-packages (from anndata->mnnpy) (2.8.0)\n",
      "Requirement already satisfied: llvmlite>=0.23.0dev0 in /anaconda3/lib/python3.6/site-packages (from numba->mnnpy) (0.23.1)\n",
      "Requirement already satisfied: python-dateutil>=2.5.0 in /anaconda3/lib/python3.6/site-packages (from pandas->mnnpy) (2.7.3)\n",
      "Requirement already satisfied: pytz>=2011k in /anaconda3/lib/python3.6/site-packages (from pandas->mnnpy) (2018.4)\n",
      "Requirement already satisfied: six in /anaconda3/lib/python3.6/site-packages (from h5py->anndata->mnnpy) (1.11.0)\n"
     ]
    }
   ],
   "source": [
    "!pip install mnnpy"
   ]
  },
  {
   "cell_type": "code",
   "execution_count": null,
   "metadata": {},
   "outputs": [],
   "source": []
  }
 ],
 "metadata": {
  "kernelspec": {
   "display_name": "Python 3",
   "language": "python",
   "name": "python3"
  },
  "language_info": {
   "codemirror_mode": {
    "name": "ipython",
    "version": 3
   },
   "file_extension": ".py",
   "mimetype": "text/x-python",
   "name": "python",
   "nbconvert_exporter": "python",
   "pygments_lexer": "ipython3",
   "version": "3.6.5"
  }
 },
 "nbformat": 4,
 "nbformat_minor": 2
}
