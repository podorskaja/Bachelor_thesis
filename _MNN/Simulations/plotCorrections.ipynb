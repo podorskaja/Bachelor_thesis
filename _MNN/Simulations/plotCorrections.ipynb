{
 "cells": [
  {
   "cell_type": "markdown",
   "metadata": {
    "toc": "true"
   },
   "source": [
    " # Table of Contents\n",
    "<div class=\"toc\" style=\"margin-top: 1em;\"><ul class=\"toc-item\" id=\"toc-level0\"></ul></div>"
   ]
  },
  {
   "cell_type": "code",
   "execution_count": 1,
   "metadata": {},
   "outputs": [
    {
     "name": "stderr",
     "output_type": "stream",
     "text": [
      "Loading required package: BiocParallel\n",
      "Loading required package: SingleCellExperiment\n",
      "Loading required package: SummarizedExperiment\n",
      "Loading required package: GenomicRanges\n",
      "Loading required package: stats4\n",
      "Loading required package: BiocGenerics\n",
      "Loading required package: parallel\n",
      "\n",
      "Attaching package: ‘BiocGenerics’\n",
      "\n",
      "The following objects are masked from ‘package:parallel’:\n",
      "\n",
      "    clusterApply, clusterApplyLB, clusterCall, clusterEvalQ,\n",
      "    clusterExport, clusterMap, parApply, parCapply, parLapply,\n",
      "    parLapplyLB, parRapply, parSapply, parSapplyLB\n",
      "\n",
      "The following objects are masked from ‘package:stats’:\n",
      "\n",
      "    IQR, mad, sd, var, xtabs\n",
      "\n",
      "The following objects are masked from ‘package:base’:\n",
      "\n",
      "    Filter, Find, Map, Position, Reduce, anyDuplicated, append,\n",
      "    as.data.frame, cbind, colMeans, colSums, colnames, do.call,\n",
      "    duplicated, eval, evalq, get, grep, grepl, intersect, is.unsorted,\n",
      "    lapply, lengths, mapply, match, mget, order, paste, pmax, pmax.int,\n",
      "    pmin, pmin.int, rank, rbind, rowMeans, rowSums, rownames, sapply,\n",
      "    setdiff, sort, table, tapply, union, unique, unsplit, which,\n",
      "    which.max, which.min\n",
      "\n",
      "Loading required package: S4Vectors\n",
      "\n",
      "Attaching package: ‘S4Vectors’\n",
      "\n",
      "The following object is masked from ‘package:base’:\n",
      "\n",
      "    expand.grid\n",
      "\n",
      "Loading required package: IRanges\n",
      "Loading required package: GenomeInfoDb\n",
      "Loading required package: Biobase\n",
      "Welcome to Bioconductor\n",
      "\n",
      "    Vignettes contain introductory material; view with\n",
      "    'browseVignettes()'. To cite Bioconductor, see\n",
      "    'citation(\"Biobase\")', and for packages 'citation(\"pkgname\")'.\n",
      "\n",
      "Loading required package: DelayedArray\n",
      "Loading required package: matrixStats\n",
      "\n",
      "Attaching package: ‘matrixStats’\n",
      "\n",
      "The following objects are masked from ‘package:Biobase’:\n",
      "\n",
      "    anyMissing, rowMedians\n",
      "\n",
      "\n",
      "Attaching package: ‘DelayedArray’\n",
      "\n",
      "The following objects are masked from ‘package:matrixStats’:\n",
      "\n",
      "    colMaxs, colMins, colRanges, rowMaxs, rowMins, rowRanges\n",
      "\n",
      "The following object is masked from ‘package:base’:\n",
      "\n",
      "    apply\n",
      "\n",
      "Loading required package: Rtsne\n",
      "\n",
      "Attaching package: ‘limma’\n",
      "\n",
      "The following object is masked from ‘package:BiocGenerics’:\n",
      "\n",
      "    plotMA\n",
      "\n",
      "Loading required package: mgcv\n",
      "Loading required package: nlme\n",
      "\n",
      "Attaching package: ‘nlme’\n",
      "\n",
      "The following object is masked from ‘package:IRanges’:\n",
      "\n",
      "    collapse\n",
      "\n",
      "This is mgcv 1.8-22. For overview type 'help(\"mgcv-package\")'.\n",
      "Loading required package: genefilter\n",
      "\n",
      "Attaching package: ‘genefilter’\n",
      "\n",
      "The following objects are masked from ‘package:matrixStats’:\n",
      "\n",
      "    rowSds, rowVars\n",
      "\n"
     ]
    }
   ],
   "source": [
    "library(scran)\n",
    "require(Rtsne)\n",
    "library(limma)\n",
    "library(sva)\n",
    "library(scales)"
   ]
  },
  {
   "cell_type": "code",
   "execution_count": 2,
   "metadata": {},
   "outputs": [],
   "source": [
    "load(\"Sim.RData\")\n",
    "dir.create(\"figs\", showWarnings=FALSE)"
   ]
  },
  {
   "cell_type": "code",
   "execution_count": 3,
   "metadata": {},
   "outputs": [],
   "source": [
    "plotFUN <- function(fname, Y, batch.id, cols, xlab=\"tSNE 1\", ylab=\"tSNE 2\", ...) {\n",
    "\n",
    "    png(fname, width=900, height=700)\n",
    "    par(mfrow=c(1,1),mar=c(6,6,4,2),cex.axis=2,cex.main=3,cex.lab=2.5)\n",
    "    plot(Y[,1], Y[,2], \n",
    "         pch=c(16, 2)[batch.id],\n",
    "         cex=c(2.5, 3.5)[batch.id],\n",
    "         col=alpha(cols, 0.6),\n",
    "         xlab=xlab, ylab=ylab, ...)\n",
    "    dev.off()\n",
    "}"
   ]
  },
  {
   "cell_type": "code",
   "execution_count": 4,
   "metadata": {},
   "outputs": [
    {
     "ename": "ERROR",
     "evalue": "Error in eval(expr, envir, enclos): объект 'raw.all' не найден\n",
     "output_type": "error",
     "traceback": [
      "Error in eval(expr, envir, enclos): объект 'raw.all' не найден\nTraceback:\n"
     ]
    }
   ],
   "source": [
    "dim(raw.all)"
   ]
  },
  {
   "cell_type": "code",
   "execution_count": null,
   "metadata": {},
   "outputs": [],
   "source": [
    "head(raw.all)"
   ]
  },
  {
   "cell_type": "code",
   "execution_count": null,
   "metadata": {},
   "outputs": [],
   "source": [
    "length(all.dists2.unc)"
   ]
  },
  {
   "cell_type": "code",
   "execution_count": null,
   "metadata": {},
   "outputs": [],
   "source": [
    "Rtsne(c(1,2,3,4,1), is_distance=TRUE,perplexity = 0.1)"
   ]
  },
  {
   "cell_type": "code",
   "execution_count": null,
   "metadata": {},
   "outputs": [],
   "source": [
    "tsne.unc"
   ]
  },
  {
   "cell_type": "code",
   "execution_count": null,
   "metadata": {},
   "outputs": [],
   "source": [
    "# Running through all of the methods.\n",
    "\n",
    "for (easy in c(x, TRUE)) {\n",
    "    if (easy) {\n",
    "        B2 <- B2ii\n",
    "        clust2 <- clust2ii\n",
    "        prefix <- \"easy_\"\n",
    "    } else {\n",
    "        B2 <- B2i\n",
    "        clust2 <- clust2i\n",
    "        prefix <- \"\"\n",
    "    }\n",
    "\n",
    "    # Uncorrected.\n",
    "    raw.all <- cbind(B1, B2)\n",
    "    clust.cols <- c(clust1, clust2)\n",
    "    batch.id <- rep(1:2, c(ncol(B1), ncol(B2)))\n",
    "\n",
    "    all.dists2.unc <- as.matrix(dist(t(raw.all)))\n",
    "    set.seed(0)\n",
    "    tsne.unc <- Rtsne(all.dists2.unc, is_distance=TRUE)#, perplexity = 0.9)\n",
    "    plotFUN(paste0(\"figs/\", prefix, \"unc.png\"), Y=tsne.unc$Y, batch.id=batch.id, cols=clust.cols, main=\"Uncorrected\")\n",
    "\n",
    "    # MNN corrected (default parameters at time of testing).\n",
    "    Xmnn <- mnnCorrect(B1, B2, k=20, sigma=1, cos.norm.in=FALSE, cos.norm.out=FALSE, var.adj=TRUE)\n",
    "\n",
    "    corre <- cbind(Xmnn$corrected[[1]],Xmnn$corrected[[2]])\n",
    "    all.dists2.c <- as.matrix(dist(t(corre)))\n",
    "\n",
    "    set.seed(0)\n",
    "    tsne.c <- Rtsne(all.dists2.c, is_distance=TRUE)#, perplexity = 0.9)\n",
    "    plotFUN(paste0(\"figs/\", prefix, \"mnn.png\"), Y=tsne.c$Y, batch.id=batch.id, col=clust.cols, main=\"MNN\")\n",
    "\n",
    "    # limma.\n",
    "    Xlm <- removeBatchEffect(raw.all, factor(batch.id))\n",
    "    all.dists2.lm <- as.matrix(dist(t(Xlm)))\n",
    "\n",
    "    set.seed(0)\n",
    "    tsne.lm <- Rtsne(all.dists2.lm, is_distance=TRUE)#, perplexity = 0.9)\n",
    "    plotFUN(paste0(\"figs/\", prefix, \"lmfit.png\"), Y=tsne.lm$Y, batch.id=batch.id, col=clust.cols, main=\"limma\")\n",
    "\n",
    "    # ComBat.\n",
    "    cleandat <- ComBat(raw.all, factor(batch.id), mod=NULL, prior.plots = FALSE)\n",
    "    all.dists.combat <- as.matrix(dist(t(cleandat)))\n",
    "    \n",
    "    set.seed(0)\n",
    "    tsne.combat<-Rtsne(all.dists.combat, is_distance=TRUE)\n",
    "    plotFUN(paste0(\"figs/\", prefix, \"combat.png\"), Y=tsne.combat$Y, batch.id=batch.id, col=clust.cols, main=\"ComBat\")\n",
    "}"
   ]
  },
  {
   "cell_type": "code",
   "execution_count": null,
   "metadata": {},
   "outputs": [],
   "source": [
    "# Printing out the legend \n",
    "\n",
    "png(file=\"figs/leg.png\",width=900,height=700)\n",
    "plot.new()\n",
    "legend(\"topleft\", legend = c(\"Cell type 1\", \"Cell type 2\", \"Cell type 3\", \"Batch 1\", \"Batch 2\"),\n",
    "       col = c(\"brown1\", \"gold2\", \"blue\", \"black\", \"black\"), \n",
    "       pch = c(15, 15, 15, 16, 2),\n",
    "       cex = 2.7,bty = \"n\")   \n",
    "dev.off()"
   ]
  },
  {
   "cell_type": "code",
   "execution_count": null,
   "metadata": {},
   "outputs": [],
   "source": [
    "getAnywhere(mnnCorrect)"
   ]
  },
  {
   "cell_type": "code",
   "execution_count": null,
   "metadata": {},
   "outputs": [],
   "source": []
  },
  {
   "cell_type": "code",
   "execution_count": null,
   "metadata": {},
   "outputs": [],
   "source": []
  }
 ],
 "metadata": {
  "kernelspec": {
   "display_name": "R",
   "language": "R",
   "name": "ir"
  },
  "language_info": {
   "codemirror_mode": "r",
   "file_extension": ".r",
   "mimetype": "text/x-r-source",
   "name": "R",
   "pygments_lexer": "r",
   "version": "3.4.3"
  },
  "toc": {
   "collapse_to_match_collapsible_headings": false,
   "colors": {
    "hover_highlight": "#DAA520",
    "navigate_num": "#000000",
    "navigate_text": "#333333",
    "running_highlight": "#FF0000",
    "selected_highlight": "#FFD700",
    "sidebar_border": "#EEEEEE",
    "wrapper_background": "#FFFFFF"
   },
   "moveMenuLeft": true,
   "nav_menu": {
    "height": "0px",
    "width": "250px"
   },
   "navigate_menu": true,
   "number_sections": true,
   "sideBar": true,
   "skip_h1_title": false,
   "threshold": 4,
   "toc_cell": true,
   "toc_section_display": "block",
   "toc_window_display": false,
   "widenNotebook": false
  }
 },
 "nbformat": 4,
 "nbformat_minor": 2
}
