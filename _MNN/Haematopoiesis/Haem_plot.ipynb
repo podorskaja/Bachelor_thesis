{
 "cells": [
  {
   "cell_type": "markdown",
   "metadata": {
    "toc": "true"
   },
   "source": [
    " # Table of Contents\n",
    "<div class=\"toc\" style=\"margin-top: 1em;\"><ul class=\"toc-item\" id=\"toc-level0\"></ul></div>"
   ]
  },
  {
   "cell_type": "code",
   "execution_count": 1,
   "metadata": {},
   "outputs": [
    {
     "ename": "ERROR",
     "evalue": "Error in dirname(parent.frame(2)$ofile): нужен аргумент -- текстовый вектор\n",
     "output_type": "error",
     "traceback": [
      "Error in dirname(parent.frame(2)$ofile): нужен аргумент -- текстовый вектор\nTraceback:\n",
      "1. dirname(parent.frame(2)$ofile)"
     ]
    }
   ],
   "source": [
    "# Batch correction and t-SNE plots of haematopoietic data sets, as in Figure 3.\n",
    "this.dir <- dirname(parent.frame(2)$ofile)\n",
    "setwd(this.dir)"
   ]
  },
  {
   "cell_type": "code",
   "execution_count": 2,
   "metadata": {},
   "outputs": [
    {
     "name": "stderr",
     "output_type": "stream",
     "text": [
      "Loading required package: BiocParallel\n",
      "Loading required package: SingleCellExperiment\n",
      "Loading required package: SummarizedExperiment\n",
      "Loading required package: GenomicRanges\n",
      "Loading required package: stats4\n",
      "Loading required package: BiocGenerics\n",
      "Loading required package: parallel\n",
      "\n",
      "Attaching package: ‘BiocGenerics’\n",
      "\n",
      "The following objects are masked from ‘package:parallel’:\n",
      "\n",
      "    clusterApply, clusterApplyLB, clusterCall, clusterEvalQ,\n",
      "    clusterExport, clusterMap, parApply, parCapply, parLapply,\n",
      "    parLapplyLB, parRapply, parSapply, parSapplyLB\n",
      "\n",
      "The following objects are masked from ‘package:stats’:\n",
      "\n",
      "    IQR, mad, sd, var, xtabs\n",
      "\n",
      "The following objects are masked from ‘package:base’:\n",
      "\n",
      "    Filter, Find, Map, Position, Reduce, anyDuplicated, append,\n",
      "    as.data.frame, cbind, colMeans, colSums, colnames, do.call,\n",
      "    duplicated, eval, evalq, get, grep, grepl, intersect, is.unsorted,\n",
      "    lapply, lengths, mapply, match, mget, order, paste, pmax, pmax.int,\n",
      "    pmin, pmin.int, rank, rbind, rowMeans, rowSums, rownames, sapply,\n",
      "    setdiff, sort, table, tapply, union, unique, unsplit, which,\n",
      "    which.max, which.min\n",
      "\n",
      "Loading required package: S4Vectors\n",
      "\n",
      "Attaching package: ‘S4Vectors’\n",
      "\n",
      "The following object is masked from ‘package:base’:\n",
      "\n",
      "    expand.grid\n",
      "\n",
      "Loading required package: IRanges\n",
      "Loading required package: GenomeInfoDb\n",
      "Loading required package: Biobase\n",
      "Welcome to Bioconductor\n",
      "\n",
      "    Vignettes contain introductory material; view with\n",
      "    'browseVignettes()'. To cite Bioconductor, see\n",
      "    'citation(\"Biobase\")', and for packages 'citation(\"pkgname\")'.\n",
      "\n",
      "Loading required package: DelayedArray\n",
      "Loading required package: matrixStats\n",
      "\n",
      "Attaching package: ‘matrixStats’\n",
      "\n",
      "The following objects are masked from ‘package:Biobase’:\n",
      "\n",
      "    anyMissing, rowMedians\n",
      "\n",
      "\n",
      "Attaching package: ‘DelayedArray’\n",
      "\n",
      "The following objects are masked from ‘package:matrixStats’:\n",
      "\n",
      "    colMaxs, colMins, colRanges, rowMaxs, rowMins, rowRanges\n",
      "\n",
      "The following object is masked from ‘package:base’:\n",
      "\n",
      "    apply\n",
      "\n"
     ]
    }
   ],
   "source": [
    "library(scran)\n",
    "dir.create(\"results\", showWarning=FALSE)"
   ]
  },
  {
   "cell_type": "code",
   "execution_count": 3,
   "metadata": {},
   "outputs": [],
   "source": [
    "# Load the output of \"preparedata.R\".\n",
    "load(\"logdataFandA_all.RData\") \n",
    "colnames(logDataF3)[colnames(logDataF3)==\"other\"] <- \"Unsorted\"\n",
    "colnames(logDataA3)[colnames(logDataA3)==\"ERY\"] <- \"MEP\"\n",
    "raw.all <- cbind(logDataF3, logDataA3)\n",
    "first.batch <- rep(c(TRUE, FALSE), c(ncol(logDataF3), ncol(logDataA3)))"
   ]
  },
  {
   "cell_type": "code",
   "execution_count": 4,
   "metadata": {},
   "outputs": [],
   "source": [
    "# Adding colours.\n",
    "#base.color <- \"grey\"\n",
    "color.legendF <- c(MEP=\"orange\", GMP=\"chartreuse4\", CMP=\"magenta\", \n",
    "                   HSPC=\"cyan\", LTHSC=\"dodgerblue\", MPP=\"blue\", LMPP=\"light blue\", Unsorted=\"grey\")\n",
    "colmatF <- col2rgb(color.legendF) \n",
    "\n",
    "colmatA <- colmatF + 100 # A lighter shade.\n",
    "colmatA[colmatA > 255] <- 255"
   ]
  },
  {
   "cell_type": "code",
   "execution_count": 5,
   "metadata": {},
   "outputs": [],
   "source": [
    "#colmatF<-colmatF+200\n",
    "#colmatF[colmatF > 255] <- 255\n",
    "color.legendA <- setNames(rgb(colmatA[1,], colmatA[2,], colmatA[3,], maxColorValue=255), names(color.legendF))\n",
    "allcolors <- c(color.legendF[colnames(logDataF3)], color.legendA[colnames(logDataA3)])\n",
    "batch<-c( rep(1,ncol(logDataF3)),rep(2,ncol(logDataA3)) )"
   ]
  },
  {
   "cell_type": "code",
   "execution_count": 6,
   "metadata": {},
   "outputs": [],
   "source": [
    "# Only keeping common cell types for PCA.\n",
    "celltypes <- c(colnames(logDataF3), colnames(logDataA3))\n",
    "pca.retain <- celltypes %in% c(\"MEP\", \"GMP\", \"CMP\") "
   ]
  },
  {
   "cell_type": "code",
   "execution_count": 7,
   "metadata": {},
   "outputs": [],
   "source": [
    "# Making a plotting function.\n",
    "plotFUN <- function(fname, Y, subset=NULL, ..., xlab=\"tSNE 1\",ylab=\"tSNE 2\",main=\"\") {\n",
    "  if (is.null(subset)) {\n",
    "    subset <- seq_len(nrow(Y))\n",
    "  }\n",
    "  png(fname,width=900,height=700)\n",
    "  par(mfrow=c(1,1),mar=c(6,6,4,2),cex.axis=2,cex.main=3,cex.lab=2.5)\n",
    "  plot(Y[,1], Y[,2], cex=2,\n",
    "       pch=ifelse(first.batch, 21, 1)[subset], \n",
    "       col=ifelse(first.batch, \"black\", allcolors)[subset],\n",
    "       bg=allcolors[subset], xlab=xlab, ylab=ylab, main=main) \n",
    "    dev.off()\n",
    "}"
   ]
  },
  {
   "cell_type": "code",
   "execution_count": 8,
   "metadata": {},
   "outputs": [],
   "source": [
    "batchcolor=c(\"lavender\",\"lightcoral\")\n",
    "plotFUNb <- function(fname, Y, subset=NULL, ...) {\n",
    "  if (is.null(subset)) {\n",
    "    subset <- seq_len(nrow(Y))\n",
    "  }\n",
    "  png(fname,width=900,height=700)\n",
    "  par(mfrow=c(1,1),mar=c(6,6,4,2),cex.axis=2,cex.main=3,cex.lab=2.5)\n",
    "  plot(Y[,1], Y[,2], cex=2,\n",
    "       pch=ifelse(first.batch, 21, 1)[subset], \n",
    "       col=ifelse(first.batch, \"black\", batchcolor[batch[subset]]),\n",
    "       bg=batchcolor[batch[subset]], ...)#,  xlab=\"tSNE 1\",ylab=\"tSNE 2\")\n",
    "  dev.off()\n",
    "}"
   ]
  },
  {
   "cell_type": "code",
   "execution_count": 9,
   "metadata": {},
   "outputs": [],
   "source": [
    "######################\n",
    "# No correction.\n",
    "\n",
    "X.unc <- raw.all\n",
    "t.unc <- t(X.unc)"
   ]
  },
  {
   "cell_type": "code",
   "execution_count": 1,
   "metadata": {},
   "outputs": [],
   "source": [
    "library(Rtsne)"
   ]
  },
  {
   "cell_type": "code",
   "execution_count": 10,
   "metadata": {},
   "outputs": [
    {
     "data": {
      "text/html": [
       "<strong>pdf:</strong> 2"
      ],
      "text/latex": [
       "\\textbf{pdf:} 2"
      ],
      "text/markdown": [
       "**pdf:** 2"
      ],
      "text/plain": [
       "pdf \n",
       "  2 "
      ]
     },
     "metadata": {},
     "output_type": "display_data"
    },
    {
     "data": {
      "text/html": [
       "<strong>pdf:</strong> 2"
      ],
      "text/latex": [
       "\\textbf{pdf:} 2"
      ],
      "text/markdown": [
       "**pdf:** 2"
      ],
      "text/plain": [
       "pdf \n",
       "  2 "
      ]
     },
     "metadata": {},
     "output_type": "display_data"
    }
   ],
   "source": [
    "## Generating a t-SNE plot.\n",
    "#require(Rtsne)\n",
    "set.seed(0)\n",
    "all.dists.unc <- as.matrix(dist(t.unc))\n",
    "tsne.unc <- Rtsne(all.dists.unc, is_distance=TRUE, perplexity = 90)\n",
    "plotFUN(\"results/uncFA.png\", tsne.unc$Y, main=\"Uncorrected\",  xlab=\"tSNE 1\",ylab=\"tSNE 2\")\n",
    "plotFUNb(\"results/uncFAb.png\", tsne.unc$Y, main=\"Uncorrected\",  xlab=\"tSNE 1\",ylab=\"tSNE 2\")"
   ]
  },
  {
   "cell_type": "code",
   "execution_count": 11,
   "metadata": {},
   "outputs": [
    {
     "data": {
      "text/html": [
       "<table>\n",
       "<thead><tr><th></th><th scope=col>used</th><th scope=col>(Mb)</th><th scope=col>gc trigger</th><th scope=col>(Mb)</th><th scope=col>max used</th><th scope=col>(Mb)</th></tr></thead>\n",
       "<tbody>\n",
       "\t<tr><th scope=row>Ncells</th><td> 3782303 </td><td>202.0    </td><td>  5684620</td><td> 303.6   </td><td>  4703850</td><td> 251.3   </td></tr>\n",
       "\t<tr><th scope=row>Vcells</th><td>52046379 </td><td>397.1    </td><td>153117260</td><td>1168.2   </td><td>139288639</td><td>1062.7   </td></tr>\n",
       "</tbody>\n",
       "</table>\n"
      ],
      "text/latex": [
       "\\begin{tabular}{r|llllll}\n",
       "  & used & (Mb) & gc trigger & (Mb) & max used & (Mb)\\\\\n",
       "\\hline\n",
       "\tNcells &  3782303  & 202.0     &   5684620 &  303.6    &   4703850 &  251.3   \\\\\n",
       "\tVcells & 52046379  & 397.1     & 153117260 & 1168.2    & 139288639 & 1062.7   \\\\\n",
       "\\end{tabular}\n"
      ],
      "text/markdown": [
       "\n",
       "| <!--/--> | used | (Mb) | gc trigger | (Mb) | max used | (Mb) | \n",
       "|---|---|\n",
       "| Ncells |  3782303  | 202.0     |   5684620 |  303.6    |   4703850 |  251.3    | \n",
       "| Vcells | 52046379  | 397.1     | 153117260 | 1168.2    | 139288639 | 1062.7    | \n",
       "\n",
       "\n"
      ],
      "text/plain": [
       "       used     (Mb)  gc trigger (Mb)   max used  (Mb)  \n",
       "Ncells  3782303 202.0   5684620   303.6   4703850  251.3\n",
       "Vcells 52046379 397.1 153117260  1168.2 139288639 1062.7"
      ]
     },
     "metadata": {},
     "output_type": "display_data"
    }
   ],
   "source": [
    "rm(all.dists.unc)\n",
    "gc()"
   ]
  },
  {
   "cell_type": "code",
   "execution_count": 12,
   "metadata": {},
   "outputs": [
    {
     "data": {
      "text/html": [
       "<strong>pdf:</strong> 2"
      ],
      "text/latex": [
       "\\textbf{pdf:} 2"
      ],
      "text/markdown": [
       "**pdf:** 2"
      ],
      "text/plain": [
       "pdf \n",
       "  2 "
      ]
     },
     "metadata": {},
     "output_type": "display_data"
    }
   ],
   "source": [
    "# Generating a PCA plot.\n",
    "pca.unc <- prcomp(t.unc[pca.retain,], rank=2)\n",
    "pca.unc$x[ (pca.unc$x<(-0.08))]<- (-0.08)\n",
    "plotFUN(\"results/pca_raw.png\", pca.unc$x, subset=pca.retain, main=\"Uncorrected\", ylim=c(-0.1, max(pca.unc$x[,2])),  xlab=\"PC 1\",ylab=\"PC 2\")"
   ]
  },
  {
   "cell_type": "code",
   "execution_count": 13,
   "metadata": {},
   "outputs": [
    {
     "data": {
      "text/html": [
       "<table>\n",
       "<thead><tr><th></th><th scope=col>used</th><th scope=col>(Mb)</th><th scope=col>gc trigger</th><th scope=col>(Mb)</th><th scope=col>max used</th><th scope=col>(Mb)</th></tr></thead>\n",
       "<tbody>\n",
       "\t<tr><th scope=row>Ncells</th><td> 3788127 </td><td>202.4    </td><td>  5684620</td><td>303.6    </td><td>  4703850</td><td> 251.3   </td></tr>\n",
       "\t<tr><th scope=row>Vcells</th><td>35866323 </td><td>273.7    </td><td>122493808</td><td>934.6    </td><td>151056250</td><td>1152.5   </td></tr>\n",
       "</tbody>\n",
       "</table>\n"
      ],
      "text/latex": [
       "\\begin{tabular}{r|llllll}\n",
       "  & used & (Mb) & gc trigger & (Mb) & max used & (Mb)\\\\\n",
       "\\hline\n",
       "\tNcells &  3788127  & 202.4     &   5684620 & 303.6     &   4703850 &  251.3   \\\\\n",
       "\tVcells & 35866323  & 273.7     & 122493808 & 934.6     & 151056250 & 1152.5   \\\\\n",
       "\\end{tabular}\n"
      ],
      "text/markdown": [
       "\n",
       "| <!--/--> | used | (Mb) | gc trigger | (Mb) | max used | (Mb) | \n",
       "|---|---|\n",
       "| Ncells |  3788127  | 202.4     |   5684620 | 303.6     |   4703850 |  251.3    | \n",
       "| Vcells | 35866323  | 273.7     | 122493808 | 934.6     | 151056250 | 1152.5    | \n",
       "\n",
       "\n"
      ],
      "text/plain": [
       "       used     (Mb)  gc trigger (Mb)  max used  (Mb)  \n",
       "Ncells  3788127 202.4   5684620  303.6   4703850  251.3\n",
       "Vcells 35866323 273.7 122493808  934.6 151056250 1152.5"
      ]
     },
     "metadata": {},
     "output_type": "display_data"
    }
   ],
   "source": [
    "rm(t.unc)\n",
    "gc()\n",
    "######################## "
   ]
  },
  {
   "cell_type": "code",
   "execution_count": 14,
   "metadata": {},
   "outputs": [
    {
     "name": "stderr",
     "output_type": "stream",
     "text": [
      "Updating HTML index of packages in '.Library'\n",
      "Making 'packages.html' ... done\n"
     ]
    }
   ],
   "source": [
    "install.packages('pracma')"
   ]
  },
  {
   "cell_type": "code",
   "execution_count": 15,
   "metadata": {},
   "outputs": [],
   "source": [
    "library(pracma)"
   ]
  },
  {
   "cell_type": "code",
   "execution_count": 16,
   "metadata": {},
   "outputs": [],
   "source": [
    "# Performing the correction with MNN (turned down the sigma to improve mixing).\n",
    "\n",
    "mnn.out<-mnnCorrect(logDataF3, logDataA3,k=20, sigma=0.1,cos.norm.in=TRUE, cos.norm.out=TRUE, var.adj=TRUE,compute.angle=TRUE)\n",
    "\n",
    "X.mnn <- cbind(mnn.out$corrected[[1]], mnn.out$corrected[[2]])\n",
    "t.mnn <- t(X.mnn)"
   ]
  },
  {
   "cell_type": "code",
   "execution_count": 17,
   "metadata": {},
   "outputs": [
    {
     "data": {
      "text/html": [
       "<strong>pdf:</strong> 2"
      ],
      "text/latex": [
       "\\textbf{pdf:} 2"
      ],
      "text/markdown": [
       "**pdf:** 2"
      ],
      "text/plain": [
       "pdf \n",
       "  2 "
      ]
     },
     "metadata": {},
     "output_type": "display_data"
    }
   ],
   "source": [
    "# plot histogram of angles between batch vectors and 2 svds of the reference batch.\n",
    "png(file=\"results/angles.png\",width=900,height=700)\n",
    "par(mfrow=c(1,1),mar=c(6,6,4,2),cex.axis=2,cex.main=3,cex.lab=2.5)\n",
    "hist(mnn.out$angles[[2]],xlab=\"Angle\",ylab=\"Frequency\",main=\"\")\n",
    "dev.off()"
   ]
  },
  {
   "cell_type": "code",
   "execution_count": 18,
   "metadata": {},
   "outputs": [
    {
     "data": {
      "text/html": [
       "<strong>pdf:</strong> 2"
      ],
      "text/latex": [
       "\\textbf{pdf:} 2"
      ],
      "text/markdown": [
       "**pdf:** 2"
      ],
      "text/plain": [
       "pdf \n",
       "  2 "
      ]
     },
     "metadata": {},
     "output_type": "display_data"
    },
    {
     "data": {
      "text/html": [
       "<strong>pdf:</strong> 2"
      ],
      "text/latex": [
       "\\textbf{pdf:} 2"
      ],
      "text/markdown": [
       "**pdf:** 2"
      ],
      "text/plain": [
       "pdf \n",
       "  2 "
      ]
     },
     "metadata": {},
     "output_type": "display_data"
    }
   ],
   "source": [
    "# Generating a t-SNE plot.\n",
    "set.seed(0)\n",
    "all.dists.mnn <- as.matrix(dist(t.mnn))\n",
    "tsne.mnn <- Rtsne(all.dists.mnn, is_distance=TRUE, perplexity = 90)\n",
    "plotFUN(\"results/mnnFA.png\", tsne.mnn$Y, main=\"MNN\",  xlab=\"tSNE 1\",ylab=\"tSNE 2\")\n",
    "plotFUNb(\"results/mnnFAb3.png\", tsne.mnn$Y, main=\"MNN\",  xlab=\"tSNE 1\",ylab=\"tSNE 2\")"
   ]
  },
  {
   "cell_type": "code",
   "execution_count": 19,
   "metadata": {},
   "outputs": [
    {
     "data": {
      "text/html": [
       "<strong>pdf:</strong> 2"
      ],
      "text/latex": [
       "\\textbf{pdf:} 2"
      ],
      "text/markdown": [
       "**pdf:** 2"
      ],
      "text/plain": [
       "pdf \n",
       "  2 "
      ]
     },
     "metadata": {},
     "output_type": "display_data"
    }
   ],
   "source": [
    "set.seed(0)\n",
    "tsne.mnn2 <- Rtsne(t.mnn, perplexity = 90)\n",
    "plotFUN(\"results/mnnFA_conventsne.png\", tsne.mnn2$Y, main=\"MNN\",  xlab=\"tSNE 1\",ylab=\"tSNE 2\")"
   ]
  },
  {
   "cell_type": "code",
   "execution_count": 20,
   "metadata": {},
   "outputs": [
    {
     "data": {
      "text/html": [
       "<table>\n",
       "<thead><tr><th></th><th scope=col>used</th><th scope=col>(Mb)</th><th scope=col>gc trigger</th><th scope=col>(Mb)</th><th scope=col>max used</th><th scope=col>(Mb)</th></tr></thead>\n",
       "<tbody>\n",
       "\t<tr><th scope=row>Ncells</th><td> 3826591 </td><td>204.4    </td><td>  5684620</td><td> 303.6   </td><td>  5684620</td><td> 303.6   </td></tr>\n",
       "\t<tr><th scope=row>Vcells</th><td>84833130 </td><td>647.3    </td><td>211960498</td><td>1617.2   </td><td>203634455</td><td>1553.7   </td></tr>\n",
       "</tbody>\n",
       "</table>\n"
      ],
      "text/latex": [
       "\\begin{tabular}{r|llllll}\n",
       "  & used & (Mb) & gc trigger & (Mb) & max used & (Mb)\\\\\n",
       "\\hline\n",
       "\tNcells &  3826591  & 204.4     &   5684620 &  303.6    &   5684620 &  303.6   \\\\\n",
       "\tVcells & 84833130  & 647.3     & 211960498 & 1617.2    & 203634455 & 1553.7   \\\\\n",
       "\\end{tabular}\n"
      ],
      "text/markdown": [
       "\n",
       "| <!--/--> | used | (Mb) | gc trigger | (Mb) | max used | (Mb) | \n",
       "|---|---|\n",
       "| Ncells |  3826591  | 204.4     |   5684620 |  303.6    |   5684620 |  303.6    | \n",
       "| Vcells | 84833130  | 647.3     | 211960498 | 1617.2    | 203634455 | 1553.7    | \n",
       "\n",
       "\n"
      ],
      "text/plain": [
       "       used     (Mb)  gc trigger (Mb)   max used  (Mb)  \n",
       "Ncells  3826591 204.4   5684620   303.6   5684620  303.6\n",
       "Vcells 84833130 647.3 211960498  1617.2 203634455 1553.7"
      ]
     },
     "metadata": {},
     "output_type": "display_data"
    }
   ],
   "source": [
    "rm(all.dists.mnn)\n",
    "gc()"
   ]
  },
  {
   "cell_type": "code",
   "execution_count": 21,
   "metadata": {},
   "outputs": [
    {
     "data": {
      "text/html": [
       "<strong>pdf:</strong> 2"
      ],
      "text/latex": [
       "\\textbf{pdf:} 2"
      ],
      "text/markdown": [
       "**pdf:** 2"
      ],
      "text/plain": [
       "pdf \n",
       "  2 "
      ]
     },
     "metadata": {},
     "output_type": "display_data"
    }
   ],
   "source": [
    "# Generating a PCA plot.\n",
    "pca.mnn <- prcomp(t.mnn[pca.retain,], rank=2)\n",
    "#pca.mnn$x[ (pca.mnn$x<(-0.08))]<- (-0.08)\n",
    "plotFUN(\"results/pca_mnn.png\", pca.mnn$x, subset=pca.retain, main=\"MNN\", ylim=c(-0.08,0.05),  xlab=\"PC 1\",ylab=\"PC 2\")"
   ]
  },
  {
   "cell_type": "code",
   "execution_count": 23,
   "metadata": {},
   "outputs": [
    {
     "name": "stderr",
     "output_type": "stream",
     "text": [
      "Warning message:\n",
      "“package ‘destiny’ is not available (for R version 3.4.3)”"
     ]
    }
   ],
   "source": [
    "install.packages(\"destiny\")"
   ]
  },
  {
   "cell_type": "code",
   "execution_count": 24,
   "metadata": {},
   "outputs": [
    {
     "ename": "ERROR",
     "evalue": "Error in library(destiny): there is no package called ‘destiny’\n",
     "output_type": "error",
     "traceback": [
      "Error in library(destiny): there is no package called ‘destiny’\nTraceback:\n",
      "1. library(destiny)",
      "2. stop(txt, domain = NA)"
     ]
    }
   ],
   "source": [
    "# Generating diffusion map plots.\n",
    "library(destiny)\n",
    "dm<-DiffusionMap(t.mnn,n_local = 150)\n",
    "plotFUN(\"results/mnnFAdm12.png\", dm@eigenvectors[,1:2], main=\"MNN\",  xlab=\"DC 1\",ylab=\"DC 2\")\n",
    "plotFUN(\"results/mnnFAdm23.png\", cbind(dm@eigenvectors[,2],dm@eigenvectors[,3]), main=\"MNN\",  xlab=\"DC 2\",ylab=\"DC 4\")\n",
    "plotFUN(\"results/mnnFAdm13.png\", cbind(dm@eigenvectors[,1],dm@eigenvectors[,3]), main=\"MNN\",  xlab=\"DC 2\",ylab=\"DC 4\")"
   ]
  },
  {
   "cell_type": "code",
   "execution_count": null,
   "metadata": {},
   "outputs": [],
   "source": [
    "rm(t.mnn)\n",
    "gc()"
   ]
  },
  {
   "cell_type": "code",
   "execution_count": null,
   "metadata": {},
   "outputs": [],
   "source": [
    "######################## \n",
    "# Performing the correction with limma.\n",
    "\n",
    "library(limma)\n",
    "X.lm <- removeBatchEffect(raw.all, factor(first.batch))\n",
    "t.lm <- t(X.lm)"
   ]
  },
  {
   "cell_type": "code",
   "execution_count": null,
   "metadata": {},
   "outputs": [],
   "source": [
    "## Generating a t-SNE plot.\n",
    "set.seed(0)\n",
    "all.dists.lm <- as.matrix(dist(t.lm))\n",
    "tsne.lm <- Rtsne(all.dists.lm, is_distance=TRUE, perplexity = 90)\n",
    "plotFUN(\"results/lmfitFA.png\", tsne.lm$Y, main=\"limma\",  xlab=\"tSNE 1\",ylab=\"tSNE 2\")\n",
    "plotFUNb(\"results/lmfitFAb.png\", tsne.lm$Y, main=\"limma\",  xlab=\"tSNE 1\",ylab=\"tSNE 2\")"
   ]
  },
  {
   "cell_type": "code",
   "execution_count": null,
   "metadata": {},
   "outputs": [],
   "source": [
    "rm(all.dists.lm)\n",
    "gc()"
   ]
  },
  {
   "cell_type": "code",
   "execution_count": null,
   "metadata": {},
   "outputs": [],
   "source": [
    "# Generating a PCA plot.\n",
    "pca.lm <- prcomp(t.lm[pca.retain,], rank=2)\n",
    "pca.lm$x[ (pca.lm$x[,2] > (0.08)),2]<- (0.08)\n",
    "\n",
    "plotFUN(\"results/pca_lm.png\", pca.lm$x, subset=pca.retain, main=\"limma\", ylim=c(min(pca.lm$x[,2]), 0.05),  xlab=\"PC 1\",ylab=\"PC 2\")"
   ]
  },
  {
   "cell_type": "code",
   "execution_count": null,
   "metadata": {},
   "outputs": [],
   "source": [
    "rm(t.lm)\n",
    "gc()"
   ]
  },
  {
   "cell_type": "code",
   "execution_count": null,
   "metadata": {},
   "outputs": [],
   "source": [
    "######################## \n",
    "# Performing the correction with ComBat.\n",
    "\n",
    "library(sva)\n",
    "Z <- factor(first.batch)\n",
    "X.combat <- ComBat(raw.all,Z,mod=NULL,prior.plots = FALSE)\n",
    "t.combat <- t(X.combat)"
   ]
  },
  {
   "cell_type": "code",
   "execution_count": null,
   "metadata": {},
   "outputs": [],
   "source": [
    "## Generating a t-SNE plot.\n",
    "set.seed(0)\n",
    "all.dists.combat <- as.matrix(dist(t.combat))\n",
    "tsne.combat<-Rtsne(all.dists.combat, is_distance=TRUE,perplexity = 90)\n",
    "plotFUN(\"results/combatFA.png\", tsne.combat$Y, main=\"ComBat\",  xlab=\"tSNE 1\",ylab=\"tSNE 2\")\n",
    "plotFUNb(\"results/combatFAb.png\", tsne.combat$Y, main=\"ComBat\",  xlab=\"tSNE 1\",ylab=\"tSNE 2\")"
   ]
  },
  {
   "cell_type": "code",
   "execution_count": null,
   "metadata": {},
   "outputs": [],
   "source": [
    "rm(all.dists.combat)\n",
    "gc()"
   ]
  },
  {
   "cell_type": "code",
   "execution_count": null,
   "metadata": {},
   "outputs": [],
   "source": [
    "# Generating a PCA plot.\n",
    "pca.combat <- prcomp(t.combat[pca.retain,], rank=2)\n",
    "plotFUN(\"results/pca_com.png\", pca.combat$x, subset=pca.retain, main=\"ComBat\", ylim=c(min(pca.combat$x[,2]), 0.05),  xlab=\"PC 1\",ylab=\"PC 2\")"
   ]
  },
  {
   "cell_type": "code",
   "execution_count": null,
   "metadata": {},
   "outputs": [],
   "source": [
    "rm(t.combat)\n",
    "gc()"
   ]
  },
  {
   "cell_type": "code",
   "execution_count": null,
   "metadata": {},
   "outputs": [],
   "source": [
    "######################## \n",
    "# Making the legend (using PDF for better resolution).\n",
    "\n",
    "pdf(file=\"results/legend.pdf\", width=7, height=7)\n",
    "plot(0,0,type=\"n\", bty=\"n\", axes=FALSE, xlab=\"\", ylab=\"\")\n",
    "legend(x=-1, y=1, legend=names(color.legendF), pch=21, cex=2.5, col=\"black\", pt.bg=color.legendF, bty=\"n\")\n",
    "legend(x=0, y=1, legend=names(color.legendA)[1:3], pch=21, cex=2.5, col=\"black\", pt.bg=color.legendA[1:3], bty=\"n\")\n",
    "dev.off()\n",
    "\n",
    "######################## \n",
    "# END"
   ]
  },
  {
   "cell_type": "code",
   "execution_count": null,
   "metadata": {},
   "outputs": [],
   "source": [
    "object.size()"
   ]
  },
  {
   "cell_type": "code",
   "execution_count": 29,
   "metadata": {},
   "outputs": [
    {
     "ename": "ERROR",
     "evalue": "Error in parse(text = x, srcfile = src): <text>:1:7: неожиданный симфол\n1: !head unitab_amit.txt\n          ^\n",
     "output_type": "error",
     "traceback": [
      "Error in parse(text = x, srcfile = src): <text>:1:7: неожиданный симфол\n1: !head unitab_amit.txt\n          ^\nTraceback:\n"
     ]
    }
   ],
   "source": [
    "!head unitab_amit.txt"
   ]
  },
  {
   "cell_type": "code",
   "execution_count": null,
   "metadata": {},
   "outputs": [],
   "source": []
  }
 ],
 "metadata": {
  "kernelspec": {
   "display_name": "R",
   "language": "R",
   "name": "ir"
  },
  "language_info": {
   "codemirror_mode": "r",
   "file_extension": ".r",
   "mimetype": "text/x-r-source",
   "name": "R",
   "pygments_lexer": "r",
   "version": "3.4.3"
  },
  "toc": {
   "collapse_to_match_collapsible_headings": false,
   "colors": {
    "hover_highlight": "#DAA520",
    "navigate_num": "#000000",
    "navigate_text": "#333333",
    "running_highlight": "#FF0000",
    "selected_highlight": "#FFD700",
    "sidebar_border": "#EEEEEE",
    "wrapper_background": "#FFFFFF"
   },
   "moveMenuLeft": true,
   "nav_menu": {
    "height": "0px",
    "width": "250px"
   },
   "navigate_menu": true,
   "number_sections": true,
   "sideBar": true,
   "skip_h1_title": false,
   "threshold": 4,
   "toc_cell": true,
   "toc_section_display": "block",
   "toc_window_display": false,
   "widenNotebook": false
  }
 },
 "nbformat": 4,
 "nbformat_minor": 2
}
