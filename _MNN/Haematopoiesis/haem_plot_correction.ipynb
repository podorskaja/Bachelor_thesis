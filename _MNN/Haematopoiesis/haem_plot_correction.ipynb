{
 "cells": [
  {
   "cell_type": "markdown",
   "metadata": {
    "toc": "true"
   },
   "source": [
    " # Table of Contents\n",
    "<div class=\"toc\" style=\"margin-top: 1em;\"><ul class=\"toc-item\" id=\"toc-level0\"></ul></div>"
   ]
  },
  {
   "cell_type": "code",
   "execution_count": 6,
   "metadata": {},
   "outputs": [],
   "source": [
    "library(scran)\n",
    "dir.create(\"results\", showWarning=FALSE)\n"
   ]
  },
  {
   "cell_type": "code",
   "execution_count": 7,
   "metadata": {},
   "outputs": [],
   "source": [
    "# Load the output of \"preparedata.R\"."
   ]
  },
  {
   "cell_type": "code",
   "execution_count": 8,
   "metadata": {},
   "outputs": [],
   "source": [
    "load(\"logdataFandA_all.RData\") "
   ]
  },
  {
   "cell_type": "code",
   "execution_count": 9,
   "metadata": {},
   "outputs": [],
   "source": [
    "colnames(logDataF3)[colnames(logDataF3)==\"other\"] <- \"Unsorted\""
   ]
  },
  {
   "cell_type": "code",
   "execution_count": 10,
   "metadata": {},
   "outputs": [],
   "source": [
    "colnames(logDataA3)[colnames(logDataA3)==\"ERY\"] <- \"MEP\""
   ]
  },
  {
   "cell_type": "code",
   "execution_count": 11,
   "metadata": {},
   "outputs": [],
   "source": [
    "raw.all <- cbind(logDataF3, logDataA3)"
   ]
  },
  {
   "cell_type": "code",
   "execution_count": 12,
   "metadata": {},
   "outputs": [],
   "source": [
    "first.batch <- rep(c(TRUE, FALSE), c(ncol(logDataF3), ncol(logDataA3)))"
   ]
  },
  {
   "cell_type": "code",
   "execution_count": 13,
   "metadata": {},
   "outputs": [],
   "source": [
    "# Adding colours.\n",
    "#base.color <- \"grey\"\n",
    "color.legendF <- c(MEP=\"orange\", GMP=\"chartreuse4\", CMP=\"magenta\", \n",
    "                   HSPC=\"cyan\", LTHSC=\"dodgerblue\", MPP=\"blue\", LMPP=\"light blue\", Unsorted=\"grey\")\n",
    "colmatF <- col2rgb(color.legendF) \n",
    "\n",
    "colmatA <- colmatF + 100 # A lighter shade.\n",
    "colmatA[colmatA > 255] <- 255\n"
   ]
  },
  {
   "cell_type": "code",
   "execution_count": 14,
   "metadata": {},
   "outputs": [],
   "source": [
    "#colmatF<-colmatF+200\n",
    "#colmatF[colmatF > 255] <- 255\n",
    "color.legendA <- setNames(rgb(colmatA[1,], colmatA[2,], colmatA[3,], maxColorValue=255), names(color.legendF))\n",
    "allcolors <- c(color.legendF[colnames(logDataF3)], color.legendA[colnames(logDataA3)])\n",
    "batch<-c( rep(1,ncol(logDataF3)),rep(2,ncol(logDataA3)) )"
   ]
  },
  {
   "cell_type": "code",
   "execution_count": 15,
   "metadata": {},
   "outputs": [],
   "source": [
    "# Only keeping common cell types for PCA.\n",
    "celltypes <- c(colnames(logDataF3), colnames(logDataA3))\n",
    "pca.retain <- celltypes %in% c(\"MEP\", \"GMP\", \"CMP\") "
   ]
  },
  {
   "cell_type": "code",
   "execution_count": 16,
   "metadata": {},
   "outputs": [],
   "source": [
    "# Making a plotting function.\n",
    "plotFUN <- function(fname, Y, subset=NULL, ..., xlab=\"tSNE 1\",ylab=\"tSNE 2\",main=\"\") {\n",
    "  if (is.null(subset)) {\n",
    "    subset <- seq_len(nrow(Y))\n",
    "  }\n",
    "  png(fname,width=900,height=700)\n",
    "  par(mfrow=c(1,1),mar=c(6,6,4,2),cex.axis=2,cex.main=3,cex.lab=2.5)\n",
    "  plot(Y[,1], Y[,2], cex=2,\n",
    "       pch=ifelse(first.batch, 21, 1)[subset], \n",
    "       col=ifelse(first.batch, \"black\", allcolors)[subset],\n",
    "       bg=allcolors[subset], xlab=xlab, ylab=ylab, main=main) \n",
    "    dev.off()\n",
    "}"
   ]
  },
  {
   "cell_type": "code",
   "execution_count": 17,
   "metadata": {},
   "outputs": [],
   "source": [
    "batchcolor=c(\"lavender\",\"lightcoral\")\n",
    "plotFUNb <- function(fname, Y, subset=NULL, ...) {\n",
    "  if (is.null(subset)) {\n",
    "    subset <- seq_len(nrow(Y))\n",
    "  }\n",
    "  png(fname,width=900,height=700)\n",
    "  par(mfrow=c(1,1),mar=c(6,6,4,2),cex.axis=2,cex.main=3,cex.lab=2.5)\n",
    "  plot(Y[,1], Y[,2], cex=2,\n",
    "       pch=ifelse(first.batch, 21, 1)[subset], \n",
    "       col=ifelse(first.batch, \"black\", batchcolor[batch[subset]]),\n",
    "       bg=batchcolor[batch[subset]], ...)#,  xlab=\"tSNE 1\",ylab=\"tSNE 2\")\n",
    "  dev.off()\n",
    "}\n"
   ]
  },
  {
   "cell_type": "code",
   "execution_count": 18,
   "metadata": {},
   "outputs": [
    {
     "name": "stderr",
     "output_type": "stream",
     "text": [
      "Updating HTML index of packages in '.Library'\n",
      "Making 'packages.html' ... done\n"
     ]
    }
   ],
   "source": [
    "install.packages('Rtsne')"
   ]
  },
  {
   "cell_type": "code",
   "execution_count": 19,
   "metadata": {},
   "outputs": [],
   "source": [
    "# No correction.\n",
    "\n",
    "X.unc <- raw.all"
   ]
  },
  {
   "cell_type": "code",
   "execution_count": 20,
   "metadata": {},
   "outputs": [],
   "source": [
    "t.unc <- t(X.unc)"
   ]
  },
  {
   "cell_type": "code",
   "execution_count": 21,
   "metadata": {},
   "outputs": [
    {
     "ename": "ERROR",
     "evalue": "Error in Rtsne(all.dists.unc, is_distance = TRUE, perplexity = 90): не могу найти функцию \"Rtsne\"\n",
     "output_type": "error",
     "traceback": [
      "Error in Rtsne(all.dists.unc, is_distance = TRUE, perplexity = 90): не могу найти функцию \"Rtsne\"\nTraceback:\n"
     ]
    }
   ],
   "source": [
    "## Generating a t-SNE plot.\n",
    "#require()\n",
    "set.seed(0)\n",
    "all.dists.unc <- as.matrix(dist(t.unc))\n",
    "tsne.unc <- Rtsne(all.dists.unc, is_distance=TRUE, perplexity = 90)\n",
    "plotFUN(\"results/uncFA.png\", tsne.unc$Y, main=\"Uncorrected\",  xlab=\"tSNE 1\",ylab=\"tSNE 2\")\n",
    "plotFUNb(\"results/uncFAb.png\", tsne.unc$Y, main=\"Uncorrected\",  xlab=\"tSNE 1\",ylab=\"tSNE 2\")\n",
    "\n",
    "rm(all.dists.unc)\n",
    "gc()"
   ]
  },
  {
   "cell_type": "code",
   "execution_count": null,
   "metadata": {},
   "outputs": [],
   "source": [
    "# Generating a PCA plot.\n",
    "pca.unc <- prcomp(t.unc[pca.retain,], rank=2)\n",
    "pca.unc$x[ (pca.unc$x<(-0.08))]<- (-0.08)\n",
    "plotFUN(\"results/pca_raw.png\", pca.unc$x, subset=pca.retain, main=\"Uncorrected\", ylim=c(-0.1, max(pca.unc$x[,2])),  xlab=\"PC 1\",ylab=\"PC 2\")\n",
    "\n",
    "rm(t.unc)\n"
   ]
  },
  {
   "cell_type": "code",
   "execution_count": 6,
   "metadata": {},
   "outputs": [],
   "source": [
    "mnnCorrect1 <- function(...)\n",
    "{\n",
    "    batches <- batches0 <- list(...)\n",
    "    nbatches <- length(batches) \n",
    "    if (nbatches < 2L) { stop(\"at least two batches must be specified\") }\n",
    "\n",
    "    first <- batches[[1]]\n",
    "    ref.nrow <- nrow(first)\n",
    "    print(ref.nrow)\n",
    "    ref.rownames <- rownames(first)  \n",
    "    for (b in 2:nbatches) {\n",
    "        current <- batches[[b]]\n",
    "        if (!identical(nrow(current), ref.nrow)) {\n",
    "            stop(\"number of rows is not the same across batches\")\n",
    "        } else if (!identical(rownames(current), ref.rownames)) {\n",
    "            stop(\"row names are not the same across batches\")\n",
    "        }\n",
    "    }\n",
    "\n",
    "    # Subsetting to the desired subset of genes.\n",
    "    if (!is.null(inquiry.genes)) {\n",
    "        batches0 <- lapply(batches0, \"[\", i=inquiry.genes, , drop=FALSE) # Need the extra comma!\n",
    "    }\n",
    "    if (!is.null(hvg.genes)) { \n",
    "        batches <- lapply(batches, \"[\", i=hvg.genes, , drop=FALSE)\n",
    "    }\n",
    "    inquiry.genes <- .subset_to_index(inquiry.genes, first, byrow=TRUE)\n",
    "    print(inquiry.genes)\n",
    "}"
   ]
  },
  {
   "cell_type": "code",
   "execution_count": 8,
   "metadata": {},
   "outputs": [
    {
     "data": {
      "text/plain": [
       "{\n",
       "    batches <- list(...)\n",
       "    nbatches <- length(batches)\n",
       "    if (nbatches < 2L) {\n",
       "        stop(\"at least two batches must be specified\")\n",
       "    }\n",
       "    prep.out <- prepare.input.data(batches, cos.norm.in = cos.norm.in, \n",
       "        cos.norm.out = cos.norm.out, subset.row = subset.row)\n",
       "    in.batches <- prep.out$In\n",
       "    out.batches <- prep.out$Out\n",
       "    subset.row <- prep.out$Subset\n",
       "    same.set <- prep.out$Same\n",
       "    if (is.null(order)) {\n",
       "        order <- seq_len(nbatches)\n",
       "    }\n",
       "    else {\n",
       "        order <- as.integer(order)\n",
       "        if (!identical(seq_len(nbatches), sort(order))) {\n",
       "            stop(sprintf(\"'order' should contain values in 1:%i\", \n",
       "                nbatches))\n",
       "        }\n",
       "    }\n",
       "    ref <- order[1]\n",
       "    ref.batch.in <- t(in.batches[[ref]])\n",
       "    if (!same.set) {\n",
       "        ref.batch.out <- t(out.batches[[ref]])\n",
       "    }\n",
       "    output <- vector(\"list\", nbatches)\n",
       "    output[[ref]] <- out.batches[[ref]]\n",
       "    mnn.list <- vector(\"list\", nbatches)\n",
       "    mnn.list[[ref]] <- DataFrame(current.cell = integer(0), other.cell = integer(0), \n",
       "        other.batch = integer(0))\n",
       "    original.batch <- rep(ref, nrow(ref.batch.in))\n",
       "    angle.list <- vector(\"list\", nbatches)\n",
       "    angle.list[[ref]] <- numeric(0)\n",
       "    for (b in 2:nbatches) {\n",
       "        target <- order[b]\n",
       "        other.batch.in.untrans <- in.batches[[target]]\n",
       "        other.batch.in <- t(other.batch.in.untrans)\n",
       "        if (!same.set) {\n",
       "            other.batch.out.untrans <- out.batches[[target]]\n",
       "            other.batch.out <- t(other.batch.out.untrans)\n",
       "        }\n",
       "        sets <- find.mutual.nn(ref.batch.in, other.batch.in, \n",
       "            k1 = k, k2 = k, BPPARAM = BPPARAM)\n",
       "        s1 <- sets$first\n",
       "        s2 <- sets$second\n",
       "        correction.in <- compute.correction.vectors(ref.batch.in, \n",
       "            other.batch.in, s1, s2, other.batch.in.untrans, sigma)\n",
       "        if (!same.set) {\n",
       "            correction.out <- compute.correction.vectors(ref.batch.out, \n",
       "                other.batch.out, s1, s2, other.batch.in.untrans, \n",
       "                sigma)\n",
       "        }\n",
       "        if (compute.angle) {\n",
       "            ref.centred <- t(ref.batch.in)\n",
       "            ref.centred <- ref.centred - rowMeans(ref.centred)\n",
       "            ref.basis <- .svd_internal(ref.centred, nu = 2, nv = 0, \n",
       "                pc.approx = pc.approx, irlba.args = irlba.args)$u\n",
       "            angle.out <- numeric(nrow(correction.in))\n",
       "            for (i in seq_along(angle.out)) {\n",
       "                angle.out[i] <- find.shared.subspace(ref.basis, \n",
       "                  t(correction.in[i, , drop = FALSE]))$angle\n",
       "            }\n",
       "            angle.list[[target]] <- angle.out\n",
       "        }\n",
       "        if (svd.dim > 0) {\n",
       "            u1 <- unique(s1)\n",
       "            u2 <- unique(s2)\n",
       "            in.span1 <- get.bio.span(t(ref.batch.in[u1, , drop = FALSE]), \n",
       "                ndim = svd.dim, pc.approx = pc.approx, irlba.args = irlba.args)\n",
       "            in.span2 <- get.bio.span(other.batch.in.untrans[, \n",
       "                u2, drop = FALSE], ndim = svd.dim, pc.approx = pc.approx, \n",
       "                irlba.args = irlba.args)\n",
       "            correction.in <- subtract.bio(correction.in, in.span1, \n",
       "                in.span2)\n",
       "            if (!same.set) {\n",
       "                out.span1 <- get.bio.span(t(ref.batch.out[u1, \n",
       "                  , drop = FALSE]), subset.row = subset.row, \n",
       "                  ndim = svd.dim, pc.approx = pc.approx, irlba.args = irlba.args)\n",
       "                out.span2 <- get.bio.span(other.batch.out.untrans[, \n",
       "                  u2, drop = FALSE], subset.row = subset.row, \n",
       "                  ndim = svd.dim, pc.approx = pc.approx, irlba.args = irlba.args)\n",
       "                correction.out <- subtract.bio(correction.out, \n",
       "                  out.span1, out.span2, subset.row = subset.row)\n",
       "            }\n",
       "        }\n",
       "        if (var.adj) {\n",
       "            correction.in <- adjust.shift.variance(ref.batch.in, \n",
       "                other.batch.in, correction.in, sigma = sigma)\n",
       "            if (!same.set) {\n",
       "                correction.out <- adjust.shift.variance(ref.batch.out, \n",
       "                  other.batch.out, correction.out, sigma = sigma, \n",
       "                  subset.row = subset.row)\n",
       "            }\n",
       "        }\n",
       "        other.batch.in <- other.batch.in + correction.in\n",
       "        ref.batch.in <- rbind(ref.batch.in, other.batch.in)\n",
       "        if (same.set) {\n",
       "            output[[target]] <- t(other.batch.in)\n",
       "        }\n",
       "        else {\n",
       "            other.batch.out <- other.batch.out + correction.out\n",
       "            ref.batch.out <- rbind(ref.batch.out, other.batch.out)\n",
       "            output[[target]] <- t(other.batch.out)\n",
       "        }\n",
       "        mnn.list[[target]] <- DataFrame(current.cell = s2, other.cell = Rle(s1), \n",
       "            other.batch = Rle(original.batch[s1]))\n",
       "        original.batch <- c(original.batch, rep(target, nrow(other.batch.in)))\n",
       "    }\n",
       "    names(output) <- names(batches)\n",
       "    names(mnn.list) <- names(batches)\n",
       "    final <- list(corrected = output, pairs = mnn.list)\n",
       "    if (compute.angle) {\n",
       "        names(angle.list) <- names(batches)\n",
       "        final$angles <- angle.list\n",
       "    }\n",
       "    return(final)\n",
       "}"
      ]
     },
     "metadata": {},
     "output_type": "display_data"
    }
   ],
   "source": [
    "functionBody(mnnCorrect)"
   ]
  },
  {
   "cell_type": "code",
   "execution_count": null,
   "metadata": {},
   "outputs": [],
   "source": []
  },
  {
   "cell_type": "code",
   "execution_count": null,
   "metadata": {},
   "outputs": [],
   "source": []
  },
  {
   "cell_type": "code",
   "execution_count": null,
   "metadata": {},
   "outputs": [],
   "source": []
  },
  {
   "cell_type": "code",
   "execution_count": null,
   "metadata": {},
   "outputs": [],
   "source": []
  },
  {
   "cell_type": "code",
   "execution_count": null,
   "metadata": {},
   "outputs": [],
   "source": []
  },
  {
   "cell_type": "code",
   "execution_count": null,
   "metadata": {},
   "outputs": [],
   "source": []
  },
  {
   "cell_type": "code",
   "execution_count": null,
   "metadata": {},
   "outputs": [],
   "source": []
  },
  {
   "cell_type": "code",
   "execution_count": null,
   "metadata": {},
   "outputs": [],
   "source": []
  },
  {
   "cell_type": "code",
   "execution_count": null,
   "metadata": {},
   "outputs": [],
   "source": []
  },
  {
   "cell_type": "code",
   "execution_count": 5,
   "metadata": {},
   "outputs": [
    {
     "data": {
      "text/html": [
       "<ol class=list-inline>\n",
       "\t<li>3491</li>\n",
       "\t<li>2729</li>\n",
       "</ol>\n"
      ],
      "text/latex": [
       "\\begin{enumerate*}\n",
       "\\item 3491\n",
       "\\item 2729\n",
       "\\end{enumerate*}\n"
      ],
      "text/markdown": [
       "1. 3491\n",
       "2. 2729\n",
       "\n",
       "\n"
      ],
      "text/plain": [
       "[1] 3491 2729"
      ]
     },
     "metadata": {},
     "output_type": "display_data"
    }
   ],
   "source": [
    "dim(logDataA3)"
   ]
  },
  {
   "cell_type": "code",
   "execution_count": null,
   "metadata": {},
   "outputs": [],
   "source": [
    "# Performing the correction with MNN (turned down the sigma to improve mixing).\n",
    "\n",
    "mnn.out<-mnnCorrect(logDataF3, logDataA3,k=20, sigma=0.1,\n",
    "                    cos.norm.in=TRUE, cos.norm.out=TRUE, var.adj=TRUE,compute.angle=TRUE)\n",
    "\n",
    "X.mnn <- cbind(mnn.out$corrected[[1]], mnn.out$corrected[[2]])\n",
    "t.mnn <- t(X.mnn)"
   ]
  },
  {
   "cell_type": "code",
   "execution_count": null,
   "metadata": {},
   "outputs": [],
   "source": [
    "# plot histogram of angles between batch vectors and 2 svds of the reference batch.\n",
    "png(file=\"results/angles.png\",width=900,height=700)\n",
    "par(mfrow=c(1,1),mar=c(6,6,4,2),cex.axis=2,cex.main=3,cex.lab=2.5)\n",
    "hist(mnn.out$angles[[2]],xlab=\"Angle\",ylab=\"Frequency\",main=\"\")\n",
    "dev.off()"
   ]
  },
  {
   "cell_type": "code",
   "execution_count": null,
   "metadata": {},
   "outputs": [],
   "source": [
    "# Generating a t-SNE plot.\n",
    "set.seed(0)\n",
    "all.dists.mnn <- as.matrix(dist(t.mnn))\n",
    "tsne.mnn <- Rtsne(all.dists.mnn, is_distance=TRUE, perplexity = 90)\n",
    "plotFUN(\"results/mnnFA.png\", tsne.mnn$Y, main=\"MNN\",  xlab=\"tSNE 1\",ylab=\"tSNE 2\")\n",
    "plotFUNb(\"results/mnnFAb3.png\", tsne.mnn$Y, main=\"MNN\",  xlab=\"tSNE 1\",ylab=\"tSNE 2\")"
   ]
  },
  {
   "cell_type": "code",
   "execution_count": null,
   "metadata": {},
   "outputs": [],
   "source": [
    "set.seed(0)\n",
    "tsne.mnn2 <- Rtsne(t.mnn, perplexity = 90)\n",
    "plotFUN(\"results/mnnFA_conventsne.png\", tsne.mnn2$Y, main=\"MNN\",  xlab=\"tSNE 1\",ylab=\"tSNE 2\")"
   ]
  },
  {
   "cell_type": "code",
   "execution_count": null,
   "metadata": {},
   "outputs": [],
   "source": [
    "rm(all.dists.mnn)\n",
    "gc()"
   ]
  },
  {
   "cell_type": "code",
   "execution_count": null,
   "metadata": {},
   "outputs": [],
   "source": [
    "# Generating a PCA plot.\n",
    "pca.mnn <- prcomp(t.mnn[pca.retain,], rank=2)\n",
    "#pca.mnn$x[ (pca.mnn$x<(-0.08))]<- (-0.08)\n",
    "plotFUN(\"results/pca_mnn.png\", pca.mnn$x, subset=pca.retain, main=\"MNN\", ylim=c(-0.08,0.05),  xlab=\"PC 1\",ylab=\"PC 2\")"
   ]
  },
  {
   "cell_type": "code",
   "execution_count": null,
   "metadata": {},
   "outputs": [],
   "source": [
    "# Generating diffusion map plots.\n",
    "library(destiny)\n",
    "dm<-DiffusionMap(t.mnn,n_local = 150)\n",
    "plotFUN(\"results/mnnFAdm12.png\", dm@eigenvectors[,1:2], main=\"MNN\",  xlab=\"DC 1\",ylab=\"DC 2\")\n",
    "plotFUN(\"results/mnnFAdm23.png\", cbind(dm@eigenvectors[,2],dm@eigenvectors[,3]), main=\"MNN\",  xlab=\"DC 2\",ylab=\"DC 4\")\n",
    "plotFUN(\"results/mnnFAdm13.png\", cbind(dm@eigenvectors[,1],dm@eigenvectors[,3]), main=\"MNN\",  xlab=\"DC 2\",ylab=\"DC 4\")\n",
    "\n",
    "rm(t.mnn)\n",
    "gc()\n"
   ]
  },
  {
   "cell_type": "code",
   "execution_count": null,
   "metadata": {},
   "outputs": [],
   "source": []
  }
 ],
 "metadata": {
  "kernelspec": {
   "display_name": "R",
   "language": "R",
   "name": "ir"
  },
  "language_info": {
   "codemirror_mode": "r",
   "file_extension": ".r",
   "mimetype": "text/x-r-source",
   "name": "R",
   "pygments_lexer": "r",
   "version": "3.4.3"
  },
  "toc": {
   "collapse_to_match_collapsible_headings": false,
   "colors": {
    "hover_highlight": "#DAA520",
    "navigate_num": "#000000",
    "navigate_text": "#333333",
    "running_highlight": "#FF0000",
    "selected_highlight": "#FFD700",
    "sidebar_border": "#EEEEEE",
    "wrapper_background": "#FFFFFF"
   },
   "moveMenuLeft": true,
   "nav_menu": {
    "height": "0px",
    "width": "250px"
   },
   "navigate_menu": true,
   "number_sections": true,
   "sideBar": true,
   "skip_h1_title": false,
   "threshold": 4,
   "toc_cell": true,
   "toc_section_display": "block",
   "toc_window_display": false,
   "widenNotebook": false
  }
 },
 "nbformat": 4,
 "nbformat_minor": 2
}
