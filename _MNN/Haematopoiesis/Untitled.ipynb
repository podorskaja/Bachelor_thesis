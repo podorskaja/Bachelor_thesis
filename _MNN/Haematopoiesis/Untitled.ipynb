{
 "cells": [
  {
   "cell_type": "markdown",
   "metadata": {
    "toc": "true"
   },
   "source": [
    " # Table of Contents\n",
    "<div class=\"toc\" style=\"margin-top: 1em;\"><ul class=\"toc-item\" id=\"toc-level0\"></ul></div>"
   ]
  },
  {
   "cell_type": "code",
   "execution_count": 1,
   "metadata": {},
   "outputs": [
    {
     "data": {
      "text/html": [
       "<ol class=list-inline>\n",
       "\t<li>46175</li>\n",
       "\t<li>1920</li>\n",
       "</ol>\n"
      ],
      "text/latex": [
       "\\begin{enumerate*}\n",
       "\\item 46175\n",
       "\\item 1920\n",
       "\\end{enumerate*}\n"
      ],
      "text/markdown": [
       "1. 46175\n",
       "2. 1920\n",
       "\n",
       "\n"
      ],
      "text/plain": [
       "[1] 46175  1920"
      ]
     },
     "metadata": {},
     "output_type": "display_data"
    }
   ],
   "source": [
    "# This script prepares data for the haematopoiesis analysis.\n",
    "# It involves two batches of publicly available data.\n",
    "\n",
    "##########################################\n",
    "##########################################\n",
    "\n",
    "# Download and read the counts, metadata of Nestorowa et al. 2016\n",
    "fname <- \"GSE81682_HTSeq_counts.txt.gz\"\n",
    "if (!file.exists(fname)) { download.file(\"https://www.ncbi.nlm.nih.gov/geo/download/?acc=GSE81682&format=file&file=GSE81682%5FHTSeq%5Fcounts%2Etxt%2Egz\", fname) }\n",
    "dataF <- read.table(fname, header=TRUE, row.names=1, check.names=FALSE)\n",
    "dataF <- as.matrix(dataF)\n",
    "dim(dataF)"
   ]
  },
  {
   "cell_type": "code",
   "execution_count": 18,
   "metadata": {},
   "outputs": [
    {
     "data": {
      "text/html": [
       "<table>\n",
       "<thead><tr><th></th><th scope=col>other</th><th scope=col>LMPP</th><th scope=col>LMPP</th><th scope=col>MPP</th><th scope=col>MPP</th><th scope=col>MPP</th><th scope=col>LTHSC</th><th scope=col>MPP</th><th scope=col>LMPP</th><th scope=col>MPP</th><th scope=col>⋯</th><th scope=col>CMP</th><th scope=col>CMP</th><th scope=col>MEP</th><th scope=col>MEP</th><th scope=col>CMP</th><th scope=col>CMP</th><th scope=col>GMP</th><th scope=col>GMP</th><th scope=col>MEP</th><th scope=col>CMP</th></tr></thead>\n",
       "<tbody>\n",
       "\t<tr><th scope=row>ENSMUSG00000000001</th><td>0   </td><td>7   </td><td>1   </td><td>185 </td><td>2   </td><td>2   </td><td>136 </td><td>232 </td><td>354 </td><td>181 </td><td>⋯   </td><td>43  </td><td>1652</td><td>182 </td><td>500 </td><td>516 </td><td>137 </td><td>267 </td><td>317 </td><td> 85 </td><td>676 </td></tr>\n",
       "\t<tr><th scope=row>ENSMUSG00000000003</th><td>0   </td><td>0   </td><td>0   </td><td>  0 </td><td>0   </td><td>0   </td><td>  0 </td><td>  0 </td><td>  0 </td><td>  0 </td><td>⋯   </td><td> 0  </td><td>   0</td><td>  0 </td><td>  0 </td><td>  0 </td><td>  0 </td><td>  0 </td><td>  0 </td><td>  0 </td><td>  0 </td></tr>\n",
       "\t<tr><th scope=row>ENSMUSG00000000028</th><td>4   </td><td>1   </td><td>2   </td><td>  4 </td><td>3   </td><td>1   </td><td>  1 </td><td>  2 </td><td>  2 </td><td>  0 </td><td>⋯   </td><td> 5  </td><td>   4</td><td> 50 </td><td>401 </td><td>293 </td><td>  5 </td><td>596 </td><td>649 </td><td>102 </td><td>457 </td></tr>\n",
       "\t<tr><th scope=row>ENSMUSG00000000031</th><td>0   </td><td>0   </td><td>0   </td><td>  0 </td><td>0   </td><td>0   </td><td>  0 </td><td>  0 </td><td>  0 </td><td>  0 </td><td>⋯   </td><td> 0  </td><td>   0</td><td>  0 </td><td>  0 </td><td>  0 </td><td>  0 </td><td>  0 </td><td>  0 </td><td>  0 </td><td>  0 </td></tr>\n",
       "\t<tr><th scope=row>ENSMUSG00000000037</th><td>0   </td><td>0   </td><td>0   </td><td>  0 </td><td>0   </td><td>0   </td><td>  0 </td><td>  0 </td><td>  1 </td><td> 20 </td><td>⋯   </td><td> 3  </td><td>   1</td><td>  0 </td><td>  0 </td><td>  0 </td><td>  0 </td><td>  0 </td><td>  0 </td><td>  1 </td><td>134 </td></tr>\n",
       "\t<tr><th scope=row>ENSMUSG00000000049</th><td>0   </td><td>0   </td><td>0   </td><td>  0 </td><td>0   </td><td>0   </td><td>  0 </td><td>  0 </td><td>  0 </td><td>  0 </td><td>⋯   </td><td> 0  </td><td>   0</td><td>  0 </td><td>  0 </td><td>  0 </td><td>  0 </td><td>  0 </td><td>  0 </td><td>  0 </td><td>  0 </td></tr>\n",
       "</tbody>\n",
       "</table>\n"
      ],
      "text/latex": [
       "\\begin{tabular}{r|llllllllllllllllllllllllllllllllllllllllllllllllllllllllllllllllllllllllllllllllllllllllllllllllllllllllllllllllllllllllllllllllllllllllllllllllllllllllllllllllllllllllllllllllllllllllllllllllllllllllllllllllllllllllllllllllllllllllllllllllllllllllllllllllllllllllllllllllllllllllllllllllllllllllllllllllllllllllllllllllllllllllllllllllllllllllllllllllllllllllllllllllllllllllllllllllllllllllllllllllllllllllllllllllllllllllllllllllllllllllllllllllllllllllllllllllllllllllllllllllllllllllllllllllllllllllllllllllllllllllllllllllllllllllllllllllllllllllllllllllllllllllllllllllllllllllllllllllllllllllllllllllllllllllllllllllllllllllllllllllllllllllllllllllllllllllllllllllllllllllllllllllllllllllllllllllllllllllllllllllllllllllllllllllllllllllllllllllllllllllllllllllllllllllllllllllllllllllllllllllllllllllllllllllllllllllllllllllllllllllllllllllllllllllllllllllllllllllllllllllllllllllllllllllllllllllllllllllllllllllllllllllllllllllllllllllllllllllllllllllllllllllllllllllllllllllllllllllllllllllllllllllllllllllllllllllllllllllllllllllllllllllllllllllllllllllllllllllllllllllllllllllllllllllllllllllllllllllllllllllllllllllllllllllllllllllllllllllllllllllllllllllllllllllllllllllllllllllllllllllllllllllllllllllllllllllllllllllllllllllllllllllllllllllllllllllllllllllllllllllllllllllllllllllllllllllllllllllllllllllllllllllllllllllllllllllllllllllllllllllllllllllllllllllllllllllllllllllllllllllllllllllllllllllllllllllllllllllllllllllllllllllllllllllllllllllllllllllllllllllllllllllllllllllllllllllllllllllllllllllllllllllllllllllllllllllllllllllllllllllllllllllllllllllllllllllllllllllllllllllllllllllllllllllllllllllllllllllllllllllllllllllllllllllllllllllllllllllllllllllllllllllllllllllllllllllllllllllllllllllllllllllllllllllllllllllllllllllllllllllllllllllllllllllllllllllllllllllllllllllllllllllllllllllllllllllllllllllllllllllllllllllllllllllllllllllllllllllllllllllllllllllllllllllllllllllllllllllllllllll}\n",
       "  & other & LMPP & LMPP & MPP & MPP & MPP & LTHSC & MPP & LMPP & MPP & ⋯ & CMP & CMP & MEP & MEP & CMP & CMP & GMP & GMP & MEP & CMP\\\\\n",
       "\\hline\n",
       "\tENSMUSG00000000001 & 0    & 7    & 1    & 185  & 2    & 2    & 136  & 232  & 354  & 181  & ⋯    & 43   & 1652 & 182  & 500  & 516  & 137  & 267  & 317  &  85  & 676 \\\\\n",
       "\tENSMUSG00000000003 & 0    & 0    & 0    &   0  & 0    & 0    &   0  &   0  &   0  &   0  & ⋯    &  0   &    0 &   0  &   0  &   0  &   0  &   0  &   0  &   0  &   0 \\\\\n",
       "\tENSMUSG00000000028 & 4    & 1    & 2    &   4  & 3    & 1    &   1  &   2  &   2  &   0  & ⋯    &  5   &    4 &  50  & 401  & 293  &   5  & 596  & 649  & 102  & 457 \\\\\n",
       "\tENSMUSG00000000031 & 0    & 0    & 0    &   0  & 0    & 0    &   0  &   0  &   0  &   0  & ⋯    &  0   &    0 &   0  &   0  &   0  &   0  &   0  &   0  &   0  &   0 \\\\\n",
       "\tENSMUSG00000000037 & 0    & 0    & 0    &   0  & 0    & 0    &   0  &   0  &   1  &  20  & ⋯    &  3   &    1 &   0  &   0  &   0  &   0  &   0  &   0  &   1  & 134 \\\\\n",
       "\tENSMUSG00000000049 & 0    & 0    & 0    &   0  & 0    & 0    &   0  &   0  &   0  &   0  & ⋯    &  0   &    0 &   0  &   0  &   0  &   0  &   0  &   0  &   0  &   0 \\\\\n",
       "\\end{tabular}\n"
      ],
      "text/markdown": [
       "\n",
       "| <!--/--> | other | LMPP | LMPP | MPP | MPP | MPP | LTHSC | MPP | LMPP | MPP | ⋯ | CMP | CMP | MEP | MEP | CMP | CMP | GMP | GMP | MEP | CMP | \n",
       "|---|---|---|---|---|---|\n",
       "| ENSMUSG00000000001 | 0    | 7    | 1    | 185  | 2    | 2    | 136  | 232  | 354  | 181  | ⋯    | 43   | 1652 | 182  | 500  | 516  | 137  | 267  | 317  |  85  | 676  | \n",
       "| ENSMUSG00000000003 | 0    | 0    | 0    |   0  | 0    | 0    |   0  |   0  |   0  |   0  | ⋯    |  0   |    0 |   0  |   0  |   0  |   0  |   0  |   0  |   0  |   0  | \n",
       "| ENSMUSG00000000028 | 4    | 1    | 2    |   4  | 3    | 1    |   1  |   2  |   2  |   0  | ⋯    |  5   |    4 |  50  | 401  | 293  |   5  | 596  | 649  | 102  | 457  | \n",
       "| ENSMUSG00000000031 | 0    | 0    | 0    |   0  | 0    | 0    |   0  |   0  |   0  |   0  | ⋯    |  0   |    0 |   0  |   0  |   0  |   0  |   0  |   0  |   0  |   0  | \n",
       "| ENSMUSG00000000037 | 0    | 0    | 0    |   0  | 0    | 0    |   0  |   0  |   1  |  20  | ⋯    |  3   |    1 |   0  |   0  |   0  |   0  |   0  |   0  |   1  | 134  | \n",
       "| ENSMUSG00000000049 | 0    | 0    | 0    |   0  | 0    | 0    |   0  |   0  |   0  |   0  | ⋯    |  0   |    0 |   0  |   0  |   0  |   0  |   0  |   0  |   0  |   0  | \n",
       "\n",
       "\n"
      ],
      "text/plain": [
       "                   other LMPP LMPP MPP MPP MPP LTHSC MPP LMPP MPP ⋯ CMP CMP \n",
       "ENSMUSG00000000001 0     7    1    185 2   2   136   232 354  181 ⋯ 43  1652\n",
       "ENSMUSG00000000003 0     0    0      0 0   0     0     0   0    0 ⋯  0     0\n",
       "ENSMUSG00000000028 4     1    2      4 3   1     1     2   2    0 ⋯  5     4\n",
       "ENSMUSG00000000031 0     0    0      0 0   0     0     0   0    0 ⋯  0     0\n",
       "ENSMUSG00000000037 0     0    0      0 0   0     0     0   1   20 ⋯  3     1\n",
       "ENSMUSG00000000049 0     0    0      0 0   0     0     0   0    0 ⋯  0     0\n",
       "                   MEP MEP CMP CMP GMP GMP MEP CMP\n",
       "ENSMUSG00000000001 182 500 516 137 267 317  85 676\n",
       "ENSMUSG00000000003   0   0   0   0   0   0   0   0\n",
       "ENSMUSG00000000028  50 401 293   5 596 649 102 457\n",
       "ENSMUSG00000000031   0   0   0   0   0   0   0   0\n",
       "ENSMUSG00000000037   0   0   0   0   0   0   1 134\n",
       "ENSMUSG00000000049   0   0   0   0   0   0   0   0"
      ]
     },
     "metadata": {},
     "output_type": "display_data"
    }
   ],
   "source": [
    "head(dataF)"
   ]
  },
  {
   "cell_type": "code",
   "execution_count": 2,
   "metadata": {},
   "outputs": [],
   "source": [
    "fname <- \"metaF.txt\"\n",
    "if (!file.exists(fname)) { download.file(\"http://blood.stemcells.cam.ac.uk/data/all_cell_types.txt\", fname) }\n",
    "metaF <- read.table(fname, stringsAsFactors = FALSE, header=TRUE, check.names=FALSE)\n",
    "metainds <- match(colnames(dataF), rownames(metaF))\n",
    "missing.meta <- is.na(metainds)\n",
    "metaF <- metaF[metainds,] # This will contain NA's... which is okay, at this point, to preserve length."
   ]
  },
  {
   "cell_type": "code",
   "execution_count": 3,
   "metadata": {},
   "outputs": [],
   "source": [
    "# Defining the cell type based on the metadata.\n",
    "metatypeF <- rep(\"other\", nrow(metaF))\n",
    "for (col in rev(colnames(metaF))) { # reverse, so earlier columns end up overwriting later ones.\n",
    "    chosen <- metaF[,col]==1\n",
    "    metatypeF[chosen] <- sub(\"[0-9]?_.*\", \"\", col)\n",
    "}\n",
    "metatypeF[metatypeF==\"ESLAM\"] <- \"HSPC\""
   ]
  },
  {
   "cell_type": "code",
   "execution_count": 4,
   "metadata": {},
   "outputs": [],
   "source": [
    "# Filling in metadata from the cell sorting label, if metadata was missing.\n",
    "metatypeF[missing.meta] <- sub(\"_.*\", \"\", colnames(dataF)[missing.meta])\n",
    "metatypeF[metatypeF==\"LT-HSC\"] <- \"LTHSC\"\n",
    "metatypeF[metatypeF==\"Prog\"] <- \"other\"\n",
    "colnames(dataF)<-metatypeF"
   ]
  },
  {
   "cell_type": "code",
   "execution_count": 5,
   "metadata": {},
   "outputs": [
    {
     "name": "stderr",
     "output_type": "stream",
     "text": [
      "Loading required package: BiocParallel\n",
      "Loading required package: SingleCellExperiment\n",
      "Loading required package: SummarizedExperiment\n",
      "Loading required package: GenomicRanges\n",
      "Loading required package: stats4\n",
      "Loading required package: BiocGenerics\n",
      "Loading required package: parallel\n",
      "\n",
      "Attaching package: ‘BiocGenerics’\n",
      "\n",
      "The following objects are masked from ‘package:parallel’:\n",
      "\n",
      "    clusterApply, clusterApplyLB, clusterCall, clusterEvalQ,\n",
      "    clusterExport, clusterMap, parApply, parCapply, parLapply,\n",
      "    parLapplyLB, parRapply, parSapply, parSapplyLB\n",
      "\n",
      "The following objects are masked from ‘package:stats’:\n",
      "\n",
      "    IQR, mad, sd, var, xtabs\n",
      "\n",
      "The following objects are masked from ‘package:base’:\n",
      "\n",
      "    Filter, Find, Map, Position, Reduce, anyDuplicated, append,\n",
      "    as.data.frame, cbind, colMeans, colSums, colnames, do.call,\n",
      "    duplicated, eval, evalq, get, grep, grepl, intersect, is.unsorted,\n",
      "    lapply, lengths, mapply, match, mget, order, paste, pmax, pmax.int,\n",
      "    pmin, pmin.int, rank, rbind, rowMeans, rowSums, rownames, sapply,\n",
      "    setdiff, sort, table, tapply, union, unique, unsplit, which,\n",
      "    which.max, which.min\n",
      "\n",
      "Loading required package: S4Vectors\n",
      "\n",
      "Attaching package: ‘S4Vectors’\n",
      "\n",
      "The following object is masked from ‘package:base’:\n",
      "\n",
      "    expand.grid\n",
      "\n",
      "Loading required package: IRanges\n",
      "Loading required package: GenomeInfoDb\n",
      "Loading required package: Biobase\n",
      "Welcome to Bioconductor\n",
      "\n",
      "    Vignettes contain introductory material; view with\n",
      "    'browseVignettes()'. To cite Bioconductor, see\n",
      "    'citation(\"Biobase\")', and for packages 'citation(\"pkgname\")'.\n",
      "\n",
      "Loading required package: DelayedArray\n",
      "Loading required package: matrixStats\n",
      "\n",
      "Attaching package: ‘matrixStats’\n",
      "\n",
      "The following objects are masked from ‘package:Biobase’:\n",
      "\n",
      "    anyMissing, rowMedians\n",
      "\n",
      "\n",
      "Attaching package: ‘DelayedArray’\n",
      "\n",
      "The following objects are masked from ‘package:matrixStats’:\n",
      "\n",
      "    colMaxs, colMins, colRanges, rowMaxs, rowMins, rowRanges\n",
      "\n",
      "The following object is masked from ‘package:base’:\n",
      "\n",
      "    apply\n",
      "\n"
     ]
    }
   ],
   "source": [
    "# Perform size factor normalization within this data set.\n",
    "library(scran)\n",
    "high.abF <- scater::calcAverage(dataF) > 1\n",
    "clustF <- quickCluster(dataF, method=\"igraph\", subset.row=high.abF)\n",
    "sizeF <- computeSumFactors(dataF, cluster=clustF, subset.row=high.abF)\n",
    "dataF2 <- t(t(dataF)/sizeF)"
   ]
  },
  {
   "cell_type": "code",
   "execution_count": 19,
   "metadata": {},
   "outputs": [
    {
     "data": {
      "text/html": [
       "<table>\n",
       "<thead><tr><th></th><th scope=col>other</th><th scope=col>LMPP</th><th scope=col>LMPP</th><th scope=col>MPP</th><th scope=col>MPP</th><th scope=col>MPP</th><th scope=col>LTHSC</th><th scope=col>MPP</th><th scope=col>LMPP</th><th scope=col>MPP</th><th scope=col>⋯</th><th scope=col>CMP</th><th scope=col>CMP</th><th scope=col>MEP</th><th scope=col>MEP</th><th scope=col>CMP</th><th scope=col>CMP</th><th scope=col>GMP</th><th scope=col>GMP</th><th scope=col>MEP</th><th scope=col>CMP</th></tr></thead>\n",
       "<tbody>\n",
       "\t<tr><th scope=row>ENSMUSG00000000001</th><td>  0.0000   </td><td>70.77609   </td><td> 60.62664  </td><td>344.669050 </td><td>1.544963   </td><td>3.802663   </td><td>774.353951 </td><td>94.3758999 </td><td>637.941140 </td><td>522.20630  </td><td>⋯          </td><td>58.421890  </td><td>907.1998198</td><td>275.51728  </td><td>243.1427   </td><td>201.3878   </td><td>70.785144  </td><td>145.4816   </td><td>239.2203   </td><td>124.7205   </td><td>234.27721  </td></tr>\n",
       "\t<tr><th scope=row>ENSMUSG00000000003</th><td>  0.0000   </td><td> 0.00000   </td><td>  0.00000  </td><td>  0.000000 </td><td>0.000000   </td><td>0.000000   </td><td>  0.000000 </td><td> 0.0000000 </td><td>  0.000000 </td><td>  0.00000  </td><td>⋯          </td><td> 0.000000  </td><td>  0.0000000</td><td>  0.00000  </td><td>  0.0000   </td><td>  0.0000   </td><td> 0.000000  </td><td>  0.0000   </td><td>  0.0000   </td><td>  0.0000   </td><td>  0.00000  </td></tr>\n",
       "\t<tr><th scope=row>ENSMUSG00000000028</th><td>230.4496   </td><td>10.11087   </td><td>121.25327  </td><td>  7.452304 </td><td>2.317445   </td><td>1.901332   </td><td>  5.693779 </td><td> 0.8135853 </td><td>  3.604187 </td><td>  0.00000  </td><td>⋯          </td><td> 6.793243  </td><td>  2.1966097</td><td> 75.69156  </td><td>195.0005   </td><td>114.3539   </td><td> 2.583399  </td><td>324.7454   </td><td>489.7603   </td><td>149.6646   </td><td>158.37971  </td></tr>\n",
       "\t<tr><th scope=row>ENSMUSG00000000031</th><td>  0.0000   </td><td> 0.00000   </td><td>  0.00000  </td><td>  0.000000 </td><td>0.000000   </td><td>0.000000   </td><td>  0.000000 </td><td> 0.0000000 </td><td>  0.000000 </td><td>  0.00000  </td><td>⋯          </td><td> 0.000000  </td><td>  0.0000000</td><td>  0.00000  </td><td>  0.0000   </td><td>  0.0000   </td><td> 0.000000  </td><td>  0.0000   </td><td>  0.0000   </td><td>  0.0000   </td><td>  0.00000  </td></tr>\n",
       "\t<tr><th scope=row>ENSMUSG00000000037</th><td>  0.0000   </td><td> 0.00000   </td><td>  0.00000  </td><td>  0.000000 </td><td>0.000000   </td><td>0.000000   </td><td>  0.000000 </td><td> 0.0000000 </td><td>  1.802094 </td><td> 57.70235  </td><td>⋯          </td><td> 4.075946  </td><td>  0.5491524</td><td>  0.00000  </td><td>  0.0000   </td><td>  0.0000   </td><td> 0.000000  </td><td>  0.0000   </td><td>  0.0000   </td><td>  1.4673   </td><td> 46.43956  </td></tr>\n",
       "\t<tr><th scope=row>ENSMUSG00000000049</th><td>  0.0000   </td><td> 0.00000   </td><td>  0.00000  </td><td>  0.000000 </td><td>0.000000   </td><td>0.000000   </td><td>  0.000000 </td><td> 0.0000000 </td><td>  0.000000 </td><td>  0.00000  </td><td>⋯          </td><td> 0.000000  </td><td>  0.0000000</td><td>  0.00000  </td><td>  0.0000   </td><td>  0.0000   </td><td> 0.000000  </td><td>  0.0000   </td><td>  0.0000   </td><td>  0.0000   </td><td>  0.00000  </td></tr>\n",
       "</tbody>\n",
       "</table>\n"
      ],
      "text/latex": [
       "\\begin{tabular}{r|llllllllllllllllllllllllllllllllllllllllllllllllllllllllllllllllllllllllllllllllllllllllllllllllllllllllllllllllllllllllllllllllllllllllllllllllllllllllllllllllllllllllllllllllllllllllllllllllllllllllllllllllllllllllllllllllllllllllllllllllllllllllllllllllllllllllllllllllllllllllllllllllllllllllllllllllllllllllllllllllllllllllllllllllllllllllllllllllllllllllllllllllllllllllllllllllllllllllllllllllllllllllllllllllllllllllllllllllllllllllllllllllllllllllllllllllllllllllllllllllllllllllllllllllllllllllllllllllllllllllllllllllllllllllllllllllllllllllllllllllllllllllllllllllllllllllllllllllllllllllllllllllllllllllllllllllllllllllllllllllllllllllllllllllllllllllllllllllllllllllllllllllllllllllllllllllllllllllllllllllllllllllllllllllllllllllllllllllllllllllllllllllllllllllllllllllllllllllllllllllllllllllllllllllllllllllllllllllllllllllllllllllllllllllllllllllllllllllllllllllllllllllllllllllllllllllllllllllllllllllllllllllllllllllllllllllllllllllllllllllllllllllllllllllllllllllllllllllllllllllllllllllllllllllllllllllllllllllllllllllllllllllllllllllllllllllllllllllllllllllllllllllllllllllllllllllllllllllllllllllllllllllllllllllllllllllllllllllllllllllllllllllllllllllllllllllllllllllllllllllllllllllllllllllllllllllllllllllllllllllllllllllllllllllllllllllllllllllllllllllllllllllllllllllllllllllllllllllllllllllllllllllllllllllllllllllllllllllllllllllllllllllllllllllllllllllllllllllllllllllllllllllllllllllllllllllllllllllllllllllllllllllllllllllllllllllllllllllllllllllllllllllllllllllllllllllllllllllllllllllllllllllllllllllllllllllllllllllllllllllllllllllllllllllllllllllllllllllllllllllllllllllllllllllllllllllllllllllllllllllllllllllllllllllllllllllllllllllllllllllllllllllllllllllllllllllllllllllllllllllllllllllllllllllllllllllllllllllllllllllllllllllllllllllllllllllllllllllllllllllllllllllllllllllllllllllllllllllllllllllllllllllllllllllllllllllllllllllllllllllllllllllllllllllllllllllllllllllllllllll}\n",
       "  & other & LMPP & LMPP & MPP & MPP & MPP & LTHSC & MPP & LMPP & MPP & ⋯ & CMP & CMP & MEP & MEP & CMP & CMP & GMP & GMP & MEP & CMP\\\\\n",
       "\\hline\n",
       "\tENSMUSG00000000001 &   0.0000    & 70.77609    &  60.62664   & 344.669050  & 1.544963    & 3.802663    & 774.353951  & 94.3758999  & 637.941140  & 522.20630   & ⋯           & 58.421890   & 907.1998198 & 275.51728   & 243.1427    & 201.3878    & 70.785144   & 145.4816    & 239.2203    & 124.7205    & 234.27721  \\\\\n",
       "\tENSMUSG00000000003 &   0.0000    &  0.00000    &   0.00000   &   0.000000  & 0.000000    & 0.000000    &   0.000000  &  0.0000000  &   0.000000  &   0.00000   & ⋯           &  0.000000   &   0.0000000 &   0.00000   &   0.0000    &   0.0000    &  0.000000   &   0.0000    &   0.0000    &   0.0000    &   0.00000  \\\\\n",
       "\tENSMUSG00000000028 & 230.4496    & 10.11087    & 121.25327   &   7.452304  & 2.317445    & 1.901332    &   5.693779  &  0.8135853  &   3.604187  &   0.00000   & ⋯           &  6.793243   &   2.1966097 &  75.69156   & 195.0005    & 114.3539    &  2.583399   & 324.7454    & 489.7603    & 149.6646    & 158.37971  \\\\\n",
       "\tENSMUSG00000000031 &   0.0000    &  0.00000    &   0.00000   &   0.000000  & 0.000000    & 0.000000    &   0.000000  &  0.0000000  &   0.000000  &   0.00000   & ⋯           &  0.000000   &   0.0000000 &   0.00000   &   0.0000    &   0.0000    &  0.000000   &   0.0000    &   0.0000    &   0.0000    &   0.00000  \\\\\n",
       "\tENSMUSG00000000037 &   0.0000    &  0.00000    &   0.00000   &   0.000000  & 0.000000    & 0.000000    &   0.000000  &  0.0000000  &   1.802094  &  57.70235   & ⋯           &  4.075946   &   0.5491524 &   0.00000   &   0.0000    &   0.0000    &  0.000000   &   0.0000    &   0.0000    &   1.4673    &  46.43956  \\\\\n",
       "\tENSMUSG00000000049 &   0.0000    &  0.00000    &   0.00000   &   0.000000  & 0.000000    & 0.000000    &   0.000000  &  0.0000000  &   0.000000  &   0.00000   & ⋯           &  0.000000   &   0.0000000 &   0.00000   &   0.0000    &   0.0000    &  0.000000   &   0.0000    &   0.0000    &   0.0000    &   0.00000  \\\\\n",
       "\\end{tabular}\n"
      ],
      "text/markdown": [
       "\n",
       "| <!--/--> | other | LMPP | LMPP | MPP | MPP | MPP | LTHSC | MPP | LMPP | MPP | ⋯ | CMP | CMP | MEP | MEP | CMP | CMP | GMP | GMP | MEP | CMP | \n",
       "|---|---|---|---|---|---|\n",
       "| ENSMUSG00000000001 |   0.0000    | 70.77609    |  60.62664   | 344.669050  | 1.544963    | 3.802663    | 774.353951  | 94.3758999  | 637.941140  | 522.20630   | ⋯           | 58.421890   | 907.1998198 | 275.51728   | 243.1427    | 201.3878    | 70.785144   | 145.4816    | 239.2203    | 124.7205    | 234.27721   | \n",
       "| ENSMUSG00000000003 |   0.0000    |  0.00000    |   0.00000   |   0.000000  | 0.000000    | 0.000000    |   0.000000  |  0.0000000  |   0.000000  |   0.00000   | ⋯           |  0.000000   |   0.0000000 |   0.00000   |   0.0000    |   0.0000    |  0.000000   |   0.0000    |   0.0000    |   0.0000    |   0.00000   | \n",
       "| ENSMUSG00000000028 | 230.4496    | 10.11087    | 121.25327   |   7.452304  | 2.317445    | 1.901332    |   5.693779  |  0.8135853  |   3.604187  |   0.00000   | ⋯           |  6.793243   |   2.1966097 |  75.69156   | 195.0005    | 114.3539    |  2.583399   | 324.7454    | 489.7603    | 149.6646    | 158.37971   | \n",
       "| ENSMUSG00000000031 |   0.0000    |  0.00000    |   0.00000   |   0.000000  | 0.000000    | 0.000000    |   0.000000  |  0.0000000  |   0.000000  |   0.00000   | ⋯           |  0.000000   |   0.0000000 |   0.00000   |   0.0000    |   0.0000    |  0.000000   |   0.0000    |   0.0000    |   0.0000    |   0.00000   | \n",
       "| ENSMUSG00000000037 |   0.0000    |  0.00000    |   0.00000   |   0.000000  | 0.000000    | 0.000000    |   0.000000  |  0.0000000  |   1.802094  |  57.70235   | ⋯           |  4.075946   |   0.5491524 |   0.00000   |   0.0000    |   0.0000    |  0.000000   |   0.0000    |   0.0000    |   1.4673    |  46.43956   | \n",
       "| ENSMUSG00000000049 |   0.0000    |  0.00000    |   0.00000   |   0.000000  | 0.000000    | 0.000000    |   0.000000  |  0.0000000  |   0.000000  |   0.00000   | ⋯           |  0.000000   |   0.0000000 |   0.00000   |   0.0000    |   0.0000    |  0.000000   |   0.0000    |   0.0000    |   0.0000    |   0.00000   | \n",
       "\n",
       "\n"
      ],
      "text/plain": [
       "                   other    LMPP     LMPP      MPP        MPP      MPP     \n",
       "ENSMUSG00000000001   0.0000 70.77609  60.62664 344.669050 1.544963 3.802663\n",
       "ENSMUSG00000000003   0.0000  0.00000   0.00000   0.000000 0.000000 0.000000\n",
       "ENSMUSG00000000028 230.4496 10.11087 121.25327   7.452304 2.317445 1.901332\n",
       "ENSMUSG00000000031   0.0000  0.00000   0.00000   0.000000 0.000000 0.000000\n",
       "ENSMUSG00000000037   0.0000  0.00000   0.00000   0.000000 0.000000 0.000000\n",
       "ENSMUSG00000000049   0.0000  0.00000   0.00000   0.000000 0.000000 0.000000\n",
       "                   LTHSC      MPP        LMPP       MPP       ⋯ CMP      \n",
       "ENSMUSG00000000001 774.353951 94.3758999 637.941140 522.20630 ⋯ 58.421890\n",
       "ENSMUSG00000000003   0.000000  0.0000000   0.000000   0.00000 ⋯  0.000000\n",
       "ENSMUSG00000000028   5.693779  0.8135853   3.604187   0.00000 ⋯  6.793243\n",
       "ENSMUSG00000000031   0.000000  0.0000000   0.000000   0.00000 ⋯  0.000000\n",
       "ENSMUSG00000000037   0.000000  0.0000000   1.802094  57.70235 ⋯  4.075946\n",
       "ENSMUSG00000000049   0.000000  0.0000000   0.000000   0.00000 ⋯  0.000000\n",
       "                   CMP         MEP       MEP      CMP      CMP       GMP     \n",
       "ENSMUSG00000000001 907.1998198 275.51728 243.1427 201.3878 70.785144 145.4816\n",
       "ENSMUSG00000000003   0.0000000   0.00000   0.0000   0.0000  0.000000   0.0000\n",
       "ENSMUSG00000000028   2.1966097  75.69156 195.0005 114.3539  2.583399 324.7454\n",
       "ENSMUSG00000000031   0.0000000   0.00000   0.0000   0.0000  0.000000   0.0000\n",
       "ENSMUSG00000000037   0.5491524   0.00000   0.0000   0.0000  0.000000   0.0000\n",
       "ENSMUSG00000000049   0.0000000   0.00000   0.0000   0.0000  0.000000   0.0000\n",
       "                   GMP      MEP      CMP      \n",
       "ENSMUSG00000000001 239.2203 124.7205 234.27721\n",
       "ENSMUSG00000000003   0.0000   0.0000   0.00000\n",
       "ENSMUSG00000000028 489.7603 149.6646 158.37971\n",
       "ENSMUSG00000000031   0.0000   0.0000   0.00000\n",
       "ENSMUSG00000000037   0.0000   1.4673  46.43956\n",
       "ENSMUSG00000000049   0.0000   0.0000   0.00000"
      ]
     },
     "metadata": {},
     "output_type": "display_data"
    }
   ],
   "source": [
    "head(dataF2)"
   ]
  },
  {
   "cell_type": "code",
   "execution_count": 6,
   "metadata": {},
   "outputs": [
    {
     "data": {
      "text/html": [
       "<table>\n",
       "<thead><tr><th></th><th scope=col>used</th><th scope=col>(Mb)</th><th scope=col>gc trigger</th><th scope=col>(Mb)</th><th scope=col>max used</th><th scope=col>(Mb)</th></tr></thead>\n",
       "<tbody>\n",
       "\t<tr><th scope=row>Ncells</th><td>  3839102</td><td> 205.1   </td><td>  5684620</td><td> 303.6   </td><td>  4816072</td><td> 257.3   </td></tr>\n",
       "\t<tr><th scope=row>Vcells</th><td>136594542</td><td>1042.2   </td><td>323757950</td><td>2470.1   </td><td>270016852</td><td>2060.1   </td></tr>\n",
       "</tbody>\n",
       "</table>\n"
      ],
      "text/latex": [
       "\\begin{tabular}{r|llllll}\n",
       "  & used & (Mb) & gc trigger & (Mb) & max used & (Mb)\\\\\n",
       "\\hline\n",
       "\tNcells &   3839102 &  205.1    &   5684620 &  303.6    &   4816072 &  257.3   \\\\\n",
       "\tVcells & 136594542 & 1042.2    & 323757950 & 2470.1    & 270016852 & 2060.1   \\\\\n",
       "\\end{tabular}\n"
      ],
      "text/markdown": [
       "\n",
       "| <!--/--> | used | (Mb) | gc trigger | (Mb) | max used | (Mb) | \n",
       "|---|---|\n",
       "| Ncells |   3839102 |  205.1    |   5684620 |  303.6    |   4816072 |  257.3    | \n",
       "| Vcells | 136594542 | 1042.2    | 323757950 | 2470.1    | 270016852 | 2060.1    | \n",
       "\n",
       "\n"
      ],
      "text/plain": [
       "       used      (Mb)   gc trigger (Mb)   max used  (Mb)  \n",
       "Ncells   3839102  205.1   5684620   303.6   4816072  257.3\n",
       "Vcells 136594542 1042.2 323757950  2470.1 270016852 2060.1"
      ]
     },
     "metadata": {},
     "output_type": "display_data"
    }
   ],
   "source": [
    "# Cleaning up memory.\n",
    "gc() "
   ]
  },
  {
   "cell_type": "code",
   "execution_count": 7,
   "metadata": {},
   "outputs": [
    {
     "data": {
      "text/html": [
       "<ol class=list-inline>\n",
       "\t<li>27297</li>\n",
       "\t<li>10368</li>\n",
       "</ol>\n"
      ],
      "text/latex": [
       "\\begin{enumerate*}\n",
       "\\item 27297\n",
       "\\item 10368\n",
       "\\end{enumerate*}\n"
      ],
      "text/markdown": [
       "1. 27297\n",
       "2. 10368\n",
       "\n",
       "\n"
      ],
      "text/plain": [
       "[1] 27297 10368"
      ]
     },
     "metadata": {},
     "output_type": "display_data"
    }
   ],
   "source": [
    "##########################################\n",
    "##########################################\n",
    "\n",
    "# Download and read the counts and meta data of Paul et al. 2015\n",
    "fname <- \"umitab_Amit.txt.gz\"\n",
    "if (!file.exists(fname)) { download.file(\"https://www.ncbi.nlm.nih.gov/geo/download/?acc=GSE72857&format=file&file=GSE72857%5Fumitab%2Etxt%2Egz\", fname) }\n",
    "dataA <- read.table(fname, header=TRUE, row.names=1)\n",
    "metaA <- read.csv2(\"MAP.csv\",sep=\",\",stringsAsFactors = FALSE, head=TRUE, row.names=1)\n",
    "dim(dataA)"
   ]
  },
  {
   "cell_type": "code",
   "execution_count": 30,
   "metadata": {},
   "outputs": [
    {
     "data": {
      "text/html": [
       "61865865"
      ],
      "text/latex": [
       "61865865"
      ],
      "text/markdown": [
       "61865865"
      ],
      "text/plain": [
       "[1] 61865865"
      ]
     },
     "metadata": {},
     "output_type": "display_data"
    }
   ],
   "source": [
    "max(dataF)"
   ]
  },
  {
   "cell_type": "code",
   "execution_count": 8,
   "metadata": {},
   "outputs": [],
   "source": [
    "# Only selecting cells that are in the metadata.\n",
    "metainds <- match(rownames(metaA), colnames(dataA))\n",
    "dataA <- dataA[,metainds]\n",
    "dataA <- as.matrix(dataA)"
   ]
  },
  {
   "cell_type": "code",
   "execution_count": 9,
   "metadata": {},
   "outputs": [],
   "source": [
    "# Organizing cell type labels.\n",
    "metatypeA <- character(nrow(metaA))\n",
    "metatypeA[metaA[,1]<7] <- \"ERY\"\n",
    "metatypeA[metaA[,1]>6 & metaA[,1]<12] <- \"CMP\"\n",
    "metatypeA[metaA[,1]>11] <- \"GMP\"\n",
    "colnames(dataA) <- metatypeA"
   ]
  },
  {
   "cell_type": "code",
   "execution_count": 10,
   "metadata": {},
   "outputs": [],
   "source": [
    "# Perform size factor normalization within this data set.\n",
    "high.abA <- scater::calcAverage(dataA) > 1\n",
    "clustA <- quickCluster(dataA, method=\"igraph\", subset.row=high.abA)\n",
    "sizeA <- computeSumFactors(dataA, cluster=clustA, subset.row=high.abA)\n",
    "dataA2 <- t(t(dataA)/sizeA)"
   ]
  },
  {
   "cell_type": "code",
   "execution_count": 11,
   "metadata": {},
   "outputs": [
    {
     "data": {
      "text/html": [
       "<table>\n",
       "<thead><tr><th></th><th scope=col>used</th><th scope=col>(Mb)</th><th scope=col>gc trigger</th><th scope=col>(Mb)</th><th scope=col>max used</th><th scope=col>(Mb)</th></tr></thead>\n",
       "<tbody>\n",
       "\t<tr><th scope=row>Ncells</th><td>  3878161</td><td> 207.2   </td><td>  5684620</td><td> 303.6   </td><td>  5684620</td><td> 303.6   </td></tr>\n",
       "\t<tr><th scope=row>Vcells</th><td>250845441</td><td>1913.8   </td><td>537419139</td><td>4100.2   </td><td>671755572</td><td>5125.1   </td></tr>\n",
       "</tbody>\n",
       "</table>\n"
      ],
      "text/latex": [
       "\\begin{tabular}{r|llllll}\n",
       "  & used & (Mb) & gc trigger & (Mb) & max used & (Mb)\\\\\n",
       "\\hline\n",
       "\tNcells &   3878161 &  207.2    &   5684620 &  303.6    &   5684620 &  303.6   \\\\\n",
       "\tVcells & 250845441 & 1913.8    & 537419139 & 4100.2    & 671755572 & 5125.1   \\\\\n",
       "\\end{tabular}\n"
      ],
      "text/markdown": [
       "\n",
       "| <!--/--> | used | (Mb) | gc trigger | (Mb) | max used | (Mb) | \n",
       "|---|---|\n",
       "| Ncells |   3878161 |  207.2    |   5684620 |  303.6    |   5684620 |  303.6    | \n",
       "| Vcells | 250845441 | 1913.8    | 537419139 | 4100.2    | 671755572 | 5125.1    | \n",
       "\n",
       "\n"
      ],
      "text/plain": [
       "       used      (Mb)   gc trigger (Mb)   max used  (Mb)  \n",
       "Ncells   3878161  207.2   5684620   303.6   5684620  303.6\n",
       "Vcells 250845441 1913.8 537419139  4100.2 671755572 5125.1"
      ]
     },
     "metadata": {},
     "output_type": "display_data"
    }
   ],
   "source": [
    "# Cleaning up memory.\n",
    "gc() \n",
    "\n",
    "##########################################\n",
    "##########################################"
   ]
  },
  {
   "cell_type": "code",
   "execution_count": 12,
   "metadata": {},
   "outputs": [],
   "source": [
    "# Download list of highly variable genes identified by Nestrowa et al. 2016\n",
    "fname <- \"coordinates_gene_counts_flow_cytometry.txt.gz\"\n",
    "if (!file.exists(fname)) { download.file(\"http://blood.stemcells.cam.ac.uk/data/coordinates_gene_counts_flow_cytometry.txt.gz\", fname) }\n",
    "TFs <- read.table(fname, nrows=1, stringsAsFactors=FALSE)\n",
    "features <- as.character(unlist(TFs))\n",
    "features <- features[grep(\"ENSMUS\", features)]"
   ]
  },
  {
   "cell_type": "code",
   "execution_count": 13,
   "metadata": {},
   "outputs": [],
   "source": [
    "# Pull down IDs from BioMaRt.\n",
    "library(biomaRt)\n",
    "mart <- useMart(\"ensembl\", dataset = \"mmusculus_gene_ensembl\", host=\"www.ensembl.org\" )\n",
    "out <- getBM(attributes = c(\"ensembl_gene_id\", \"mgi_symbol\"), values = features, mart = mart,filters = \"ensembl_gene_id\")"
   ]
  },
  {
   "cell_type": "code",
   "execution_count": 14,
   "metadata": {},
   "outputs": [],
   "source": [
    "# Select features that are HVGs _and_ present in both data sets.\n",
    "mF <- match(out$ensembl_gene_id, rownames(dataF2))\n",
    "mA <- pmatch(out$mgi_symbol, rownames(dataA2)) # partial, due to use of concatenated gene symbols.\n",
    "keep <- !is.na(mF) & !is.na(mA)"
   ]
  },
  {
   "cell_type": "code",
   "execution_count": 15,
   "metadata": {},
   "outputs": [],
   "source": [
    "dataA3 <- dataA2[mA[keep],]\n",
    "dataF3 <- dataF2[mF[keep],]\n",
    "rownames(dataA3) <- rownames(dataF3)"
   ]
  },
  {
   "cell_type": "code",
   "execution_count": 16,
   "metadata": {},
   "outputs": [],
   "source": [
    "# Rescaling the first dataset to match the coverage of the second.\n",
    "aveA <- rowMeans(dataA3)\n",
    "aveF <- rowMeans(dataF3)\n",
    "dataF3 <- dataF3 * median(aveA/aveF)"
   ]
  },
  {
   "cell_type": "code",
   "execution_count": 17,
   "metadata": {},
   "outputs": [],
   "source": [
    "# Perform log-transformation and save results to file.\n",
    "logDataF3 <- log(1 + dataF3)\n",
    "logDataA3 <- log(1 + dataA3)\n",
    "save(logDataA3, logDataF3, file=\"logdataFandA_all.RData\")"
   ]
  },
  {
   "cell_type": "code",
   "execution_count": 23,
   "metadata": {},
   "outputs": [
    {
     "data": {
      "text/html": [
       "<table>\n",
       "<thead><tr><th></th><th scope=col>other</th><th scope=col>LMPP</th><th scope=col>LMPP</th><th scope=col>MPP</th><th scope=col>MPP</th><th scope=col>MPP</th><th scope=col>LTHSC</th><th scope=col>MPP</th><th scope=col>LMPP</th><th scope=col>MPP</th><th scope=col>⋯</th><th scope=col>CMP</th><th scope=col>CMP</th><th scope=col>MEP</th><th scope=col>MEP</th><th scope=col>CMP</th><th scope=col>CMP</th><th scope=col>GMP</th><th scope=col>GMP</th><th scope=col>MEP</th><th scope=col>CMP</th></tr></thead>\n",
       "<tbody>\n",
       "\t<tr><th scope=row>ENSMUSG00000000171</th><td>0.35842577  </td><td>0.04232184  </td><td>0.17765409  </td><td>0.152970186 </td><td>0.0041200426</td><td>0.006078509 </td><td>0.31127608  </td><td>0.002605536 </td><td>0.342431623 </td><td>0.17496338  </td><td>⋯           </td><td>0.210110648 </td><td>0.439775422 </td><td>0.246811766 </td><td>0.405838365 </td><td>0.35219428  </td><td>0.216196916 </td><td>0.443375460 </td><td>0.4716004   </td><td>0.39093511  </td><td>0.1248594407</td></tr>\n",
       "\t<tr><th scope=row>ENSMUSG00000000290</th><td>0.00000000  </td><td>0.01074956  </td><td>0.00000000  </td><td>0.001989468 </td><td>0.0008253676</td><td>0.006078509 </td><td>0.00000000  </td><td>0.234919301 </td><td>0.001924412 </td><td>0.00000000  </td><td>⋯           </td><td>0.001451211 </td><td>0.001759424 </td><td>0.023982209 </td><td>0.039243797 </td><td>0.01284963  </td><td>0.001103952 </td><td>0.002326966 </td><td>0.0000000   </td><td>0.11401322  </td><td>0.0007406125</td></tr>\n",
       "\t<tr><th scope=row>ENSMUSG00000000594</th><td>0.00000000  </td><td>0.35170863  </td><td>0.23048940  </td><td>0.639826507 </td><td>0.0228566193</td><td>0.346844989 </td><td>0.21297841  </td><td>0.253650963 </td><td>0.496750415 </td><td>0.04522065  </td><td>⋯           </td><td>0.383648271 </td><td>0.578323153 </td><td>0.152764215 </td><td>0.041240956 </td><td>0.31300941  </td><td>0.524282681 </td><td>0.753058981 </td><td>0.8417665   </td><td>0.07112449  </td><td>0.5166663503</td></tr>\n",
       "\t<tr><th scope=row>ENSMUSG00000001082</th><td>0.22020200  </td><td>0.17775768  </td><td>0.06279077  </td><td>0.005956570 </td><td>0.0032973910</td><td>0.014126137 </td><td>0.01209872  </td><td>0.001737778 </td><td>0.278908310 </td><td>0.25932552  </td><td>⋯           </td><td>0.063305166 </td><td>0.615800037 </td><td>0.241742005 </td><td>0.101723403 </td><td>0.19564782  </td><td>0.186393464 </td><td>0.407602696 </td><td>0.4476589   </td><td>0.19721662  </td><td>0.1417185034</td></tr>\n",
       "\t<tr><th scope=row>ENSMUSG00000001380</th><td>0.35842577  </td><td>0.05262824  </td><td>0.00000000  </td><td>0.278103768 </td><td>0.0041200426</td><td>0.008096496 </td><td>0.01809362  </td><td>0.003472541 </td><td>0.003845127 </td><td>0.24976209  </td><td>⋯           </td><td>0.002900319 </td><td>0.265483510 </td><td>0.217303290 </td><td>0.567637634 </td><td>0.39945996  </td><td>0.002206687 </td><td>0.195151354 </td><td>0.2549436   </td><td>0.18295089  </td><td>0.1271455535</td></tr>\n",
       "\t<tr><th scope=row>ENSMUSG00000001750</th><td>0.05976036  </td><td>0.05262824  </td><td>0.06279077  </td><td>0.313655325 </td><td>0.0000000000</td><td>0.004056442 </td><td>0.01809362  </td><td>0.000000000 </td><td>0.001924412 </td><td>0.43557557  </td><td>⋯           </td><td>0.276150267 </td><td>0.107846057 </td><td>0.003231054 </td><td>0.001558162 </td><td>0.10184778  </td><td>0.156146959 </td><td>0.237831198 </td><td>0.3876372   </td><td>0.39093511  </td><td>0.0022201941</td></tr>\n",
       "</tbody>\n",
       "</table>\n"
      ],
      "text/latex": [
       "\\begin{tabular}{r|llllllllllllllllllllllllllllllllllllllllllllllllllllllllllllllllllllllllllllllllllllllllllllllllllllllllllllllllllllllllllllllllllllllllllllllllllllllllllllllllllllllllllllllllllllllllllllllllllllllllllllllllllllllllllllllllllllllllllllllllllllllllllllllllllllllllllllllllllllllllllllllllllllllllllllllllllllllllllllllllllllllllllllllllllllllllllllllllllllllllllllllllllllllllllllllllllllllllllllllllllllllllllllllllllllllllllllllllllllllllllllllllllllllllllllllllllllllllllllllllllllllllllllllllllllllllllllllllllllllllllllllllllllllllllllllllllllllllllllllllllllllllllllllllllllllllllllllllllllllllllllllllllllllllllllllllllllllllllllllllllllllllllllllllllllllllllllllllllllllllllllllllllllllllllllllllllllllllllllllllllllllllllllllllllllllllllllllllllllllllllllllllllllllllllllllllllllllllllllllllllllllllllllllllllllllllllllllllllllllllllllllllllllllllllllllllllllllllllllllllllllllllllllllllllllllllllllllllllllllllllllllllllllllllllllllllllllllllllllllllllllllllllllllllllllllllllllllllllllllllllllllllllllllllllllllllllllllllllllllllllllllllllllllllllllllllllllllllllllllllllllllllllllllllllllllllllllllllllllllllllllllllllllllllllllllllllllllllllllllllllllllllllllllllllllllllllllllllllllllllllllllllllllllllllllllllllllllllllllllllllllllllllllllllllllllllllllllllllllllllllllllllllllllllllllllllllllllllllllllllllllllllllllllllllllllllllllllllllllllllllllllllllllllllllllllllllllllllllllllllllllllllllllllllllllllllllllllllllllllllllllllllllllllllllllllllllllllllllllllllllllllllllllllllllllllllllllllllllllllllllllllllllllllllllllllllllllllllllllllllllllllllllllllllllllllllllllllllllllllllllllllllllllllllllllllllllllllllllllllllllllllllllllllllllllllllllllllllllllllllllllllllllllllllllllllllllllllllllllllllllllllllllllllllllllllllllllllllllllllllllllllllllllllllllllllllllllllllllllllllllllllllllllllllllllllllllllllllllllllllllllllllllllllllllllllllllllllllllllllllllllllllllllllllllllllllllllllllllllllll}\n",
       "  & other & LMPP & LMPP & MPP & MPP & MPP & LTHSC & MPP & LMPP & MPP & ⋯ & CMP & CMP & MEP & MEP & CMP & CMP & GMP & GMP & MEP & CMP\\\\\n",
       "\\hline\n",
       "\tENSMUSG00000000171 & 0.35842577   & 0.04232184   & 0.17765409   & 0.152970186  & 0.0041200426 & 0.006078509  & 0.31127608   & 0.002605536  & 0.342431623  & 0.17496338   & ⋯            & 0.210110648  & 0.439775422  & 0.246811766  & 0.405838365  & 0.35219428   & 0.216196916  & 0.443375460  & 0.4716004    & 0.39093511   & 0.1248594407\\\\\n",
       "\tENSMUSG00000000290 & 0.00000000   & 0.01074956   & 0.00000000   & 0.001989468  & 0.0008253676 & 0.006078509  & 0.00000000   & 0.234919301  & 0.001924412  & 0.00000000   & ⋯            & 0.001451211  & 0.001759424  & 0.023982209  & 0.039243797  & 0.01284963   & 0.001103952  & 0.002326966  & 0.0000000    & 0.11401322   & 0.0007406125\\\\\n",
       "\tENSMUSG00000000594 & 0.00000000   & 0.35170863   & 0.23048940   & 0.639826507  & 0.0228566193 & 0.346844989  & 0.21297841   & 0.253650963  & 0.496750415  & 0.04522065   & ⋯            & 0.383648271  & 0.578323153  & 0.152764215  & 0.041240956  & 0.31300941   & 0.524282681  & 0.753058981  & 0.8417665    & 0.07112449   & 0.5166663503\\\\\n",
       "\tENSMUSG00000001082 & 0.22020200   & 0.17775768   & 0.06279077   & 0.005956570  & 0.0032973910 & 0.014126137  & 0.01209872   & 0.001737778  & 0.278908310  & 0.25932552   & ⋯            & 0.063305166  & 0.615800037  & 0.241742005  & 0.101723403  & 0.19564782   & 0.186393464  & 0.407602696  & 0.4476589    & 0.19721662   & 0.1417185034\\\\\n",
       "\tENSMUSG00000001380 & 0.35842577   & 0.05262824   & 0.00000000   & 0.278103768  & 0.0041200426 & 0.008096496  & 0.01809362   & 0.003472541  & 0.003845127  & 0.24976209   & ⋯            & 0.002900319  & 0.265483510  & 0.217303290  & 0.567637634  & 0.39945996   & 0.002206687  & 0.195151354  & 0.2549436    & 0.18295089   & 0.1271455535\\\\\n",
       "\tENSMUSG00000001750 & 0.05976036   & 0.05262824   & 0.06279077   & 0.313655325  & 0.0000000000 & 0.004056442  & 0.01809362   & 0.000000000  & 0.001924412  & 0.43557557   & ⋯            & 0.276150267  & 0.107846057  & 0.003231054  & 0.001558162  & 0.10184778   & 0.156146959  & 0.237831198  & 0.3876372    & 0.39093511   & 0.0022201941\\\\\n",
       "\\end{tabular}\n"
      ],
      "text/markdown": [
       "\n",
       "| <!--/--> | other | LMPP | LMPP | MPP | MPP | MPP | LTHSC | MPP | LMPP | MPP | ⋯ | CMP | CMP | MEP | MEP | CMP | CMP | GMP | GMP | MEP | CMP | \n",
       "|---|---|---|---|---|---|\n",
       "| ENSMUSG00000000171 | 0.35842577   | 0.04232184   | 0.17765409   | 0.152970186  | 0.0041200426 | 0.006078509  | 0.31127608   | 0.002605536  | 0.342431623  | 0.17496338   | ⋯            | 0.210110648  | 0.439775422  | 0.246811766  | 0.405838365  | 0.35219428   | 0.216196916  | 0.443375460  | 0.4716004    | 0.39093511   | 0.1248594407 | \n",
       "| ENSMUSG00000000290 | 0.00000000   | 0.01074956   | 0.00000000   | 0.001989468  | 0.0008253676 | 0.006078509  | 0.00000000   | 0.234919301  | 0.001924412  | 0.00000000   | ⋯            | 0.001451211  | 0.001759424  | 0.023982209  | 0.039243797  | 0.01284963   | 0.001103952  | 0.002326966  | 0.0000000    | 0.11401322   | 0.0007406125 | \n",
       "| ENSMUSG00000000594 | 0.00000000   | 0.35170863   | 0.23048940   | 0.639826507  | 0.0228566193 | 0.346844989  | 0.21297841   | 0.253650963  | 0.496750415  | 0.04522065   | ⋯            | 0.383648271  | 0.578323153  | 0.152764215  | 0.041240956  | 0.31300941   | 0.524282681  | 0.753058981  | 0.8417665    | 0.07112449   | 0.5166663503 | \n",
       "| ENSMUSG00000001082 | 0.22020200   | 0.17775768   | 0.06279077   | 0.005956570  | 0.0032973910 | 0.014126137  | 0.01209872   | 0.001737778  | 0.278908310  | 0.25932552   | ⋯            | 0.063305166  | 0.615800037  | 0.241742005  | 0.101723403  | 0.19564782   | 0.186393464  | 0.407602696  | 0.4476589    | 0.19721662   | 0.1417185034 | \n",
       "| ENSMUSG00000001380 | 0.35842577   | 0.05262824   | 0.00000000   | 0.278103768  | 0.0041200426 | 0.008096496  | 0.01809362   | 0.003472541  | 0.003845127  | 0.24976209   | ⋯            | 0.002900319  | 0.265483510  | 0.217303290  | 0.567637634  | 0.39945996   | 0.002206687  | 0.195151354  | 0.2549436    | 0.18295089   | 0.1271455535 | \n",
       "| ENSMUSG00000001750 | 0.05976036   | 0.05262824   | 0.06279077   | 0.313655325  | 0.0000000000 | 0.004056442  | 0.01809362   | 0.000000000  | 0.001924412  | 0.43557557   | ⋯            | 0.276150267  | 0.107846057  | 0.003231054  | 0.001558162  | 0.10184778   | 0.156146959  | 0.237831198  | 0.3876372    | 0.39093511   | 0.0022201941 | \n",
       "\n",
       "\n"
      ],
      "text/plain": [
       "                   other      LMPP       LMPP       MPP         MPP         \n",
       "ENSMUSG00000000171 0.35842577 0.04232184 0.17765409 0.152970186 0.0041200426\n",
       "ENSMUSG00000000290 0.00000000 0.01074956 0.00000000 0.001989468 0.0008253676\n",
       "ENSMUSG00000000594 0.00000000 0.35170863 0.23048940 0.639826507 0.0228566193\n",
       "ENSMUSG00000001082 0.22020200 0.17775768 0.06279077 0.005956570 0.0032973910\n",
       "ENSMUSG00000001380 0.35842577 0.05262824 0.00000000 0.278103768 0.0041200426\n",
       "ENSMUSG00000001750 0.05976036 0.05262824 0.06279077 0.313655325 0.0000000000\n",
       "                   MPP         LTHSC      MPP         LMPP        MPP        ⋯\n",
       "ENSMUSG00000000171 0.006078509 0.31127608 0.002605536 0.342431623 0.17496338 ⋯\n",
       "ENSMUSG00000000290 0.006078509 0.00000000 0.234919301 0.001924412 0.00000000 ⋯\n",
       "ENSMUSG00000000594 0.346844989 0.21297841 0.253650963 0.496750415 0.04522065 ⋯\n",
       "ENSMUSG00000001082 0.014126137 0.01209872 0.001737778 0.278908310 0.25932552 ⋯\n",
       "ENSMUSG00000001380 0.008096496 0.01809362 0.003472541 0.003845127 0.24976209 ⋯\n",
       "ENSMUSG00000001750 0.004056442 0.01809362 0.000000000 0.001924412 0.43557557 ⋯\n",
       "                   CMP         CMP         MEP         MEP         CMP       \n",
       "ENSMUSG00000000171 0.210110648 0.439775422 0.246811766 0.405838365 0.35219428\n",
       "ENSMUSG00000000290 0.001451211 0.001759424 0.023982209 0.039243797 0.01284963\n",
       "ENSMUSG00000000594 0.383648271 0.578323153 0.152764215 0.041240956 0.31300941\n",
       "ENSMUSG00000001082 0.063305166 0.615800037 0.241742005 0.101723403 0.19564782\n",
       "ENSMUSG00000001380 0.002900319 0.265483510 0.217303290 0.567637634 0.39945996\n",
       "ENSMUSG00000001750 0.276150267 0.107846057 0.003231054 0.001558162 0.10184778\n",
       "                   CMP         GMP         GMP       MEP        CMP         \n",
       "ENSMUSG00000000171 0.216196916 0.443375460 0.4716004 0.39093511 0.1248594407\n",
       "ENSMUSG00000000290 0.001103952 0.002326966 0.0000000 0.11401322 0.0007406125\n",
       "ENSMUSG00000000594 0.524282681 0.753058981 0.8417665 0.07112449 0.5166663503\n",
       "ENSMUSG00000001082 0.186393464 0.407602696 0.4476589 0.19721662 0.1417185034\n",
       "ENSMUSG00000001380 0.002206687 0.195151354 0.2549436 0.18295089 0.1271455535\n",
       "ENSMUSG00000001750 0.156146959 0.237831198 0.3876372 0.39093511 0.0022201941"
      ]
     },
     "metadata": {},
     "output_type": "display_data"
    },
    {
     "data": {
      "text/html": [
       "<ol class=list-inline>\n",
       "\t<li>3491</li>\n",
       "\t<li>1920</li>\n",
       "</ol>\n"
      ],
      "text/latex": [
       "\\begin{enumerate*}\n",
       "\\item 3491\n",
       "\\item 1920\n",
       "\\end{enumerate*}\n"
      ],
      "text/markdown": [
       "1. 3491\n",
       "2. 1920\n",
       "\n",
       "\n"
      ],
      "text/plain": [
       "[1] 3491 1920"
      ]
     },
     "metadata": {},
     "output_type": "display_data"
    }
   ],
   "source": [
    "head(logDataF3)\n",
    "dim(logDataF3)"
   ]
  },
  {
   "cell_type": "code",
   "execution_count": 38,
   "metadata": {},
   "outputs": [
    {
     "data": {
      "text/html": [
       "<table>\n",
       "<thead><tr><th></th><th scope=col>GMP</th><th scope=col>ERY</th><th scope=col>GMP</th><th scope=col>ERY</th><th scope=col>GMP</th><th scope=col>ERY</th><th scope=col>ERY</th><th scope=col>ERY</th><th scope=col>ERY</th><th scope=col>ERY</th><th scope=col>⋯</th><th scope=col>CMP</th><th scope=col>CMP</th><th scope=col>CMP</th><th scope=col>GMP</th><th scope=col>GMP</th><th scope=col>ERY</th><th scope=col>GMP</th><th scope=col>CMP</th><th scope=col>GMP</th><th scope=col>ERY</th></tr></thead>\n",
       "<tbody>\n",
       "\t<tr><th scope=row>ENSMUSG00000000171</th><td>0.0000000</td><td>0.7133989</td><td>0.7626812</td><td>0.6200165</td><td>0.000000 </td><td>0.0000000</td><td>0.000000 </td><td>0.6782274</td><td>0.5081123</td><td>0.8107793</td><td>⋯        </td><td>0.000000 </td><td>1.013343 </td><td>0.000000 </td><td>0.0000000</td><td>0.0000000</td><td>0.8050633</td><td>0.5404358</td><td>0        </td><td>1.4376265</td><td>1.2533303</td></tr>\n",
       "\t<tr><th scope=row>ENSMUSG00000000290</th><td>0.6317197</td><td>0.0000000</td><td>0.0000000</td><td>0.0000000</td><td>0.000000 </td><td>0.0000000</td><td>0.000000 </td><td>0.0000000</td><td>0.0000000</td><td>0.0000000</td><td>⋯        </td><td>0.000000 </td><td>0.000000 </td><td>0.000000 </td><td>0.6718648</td><td>0.0000000</td><td>0.0000000</td><td>0.0000000</td><td>0        </td><td>0.0000000</td><td>0.0000000</td></tr>\n",
       "\t<tr><th scope=row>ENSMUSG00000000594</th><td>0.6317197</td><td>0.0000000</td><td>0.9991696</td><td>0.0000000</td><td>2.231913 </td><td>0.5136644</td><td>0.000000 </td><td>0.0000000</td><td>0.5081123</td><td>0.0000000</td><td>⋯        </td><td>1.125407 </td><td>1.013343 </td><td>1.250356 </td><td>0.6718648</td><td>0.0000000</td><td>0.0000000</td><td>0.8893345</td><td>0        </td><td>0.5892703</td><td>0.2721228</td></tr>\n",
       "\t<tr><th scope=row>ENSMUSG00000001082</th><td>1.0158408</td><td>0.0000000</td><td>0.0000000</td><td>0.0000000</td><td>1.124741 </td><td>0.0000000</td><td>0.000000 </td><td>0.6782274</td><td>0.5081123</td><td>0.4854034</td><td>⋯        </td><td>0.000000 </td><td>1.013343 </td><td>0.000000 </td><td>0.6718648</td><td>0.0000000</td><td>0.6013382</td><td>0.8893345</td><td>0        </td><td>0.5892703</td><td>0.0000000</td></tr>\n",
       "\t<tr><th scope=row>ENSMUSG00000001380</th><td>1.0158408</td><td>0.7133989</td><td>0.0000000</td><td>0.8278695</td><td>0.000000 </td><td>0.5136644</td><td>1.917527 </td><td>0.0000000</td><td>0.5081123</td><td>0.4854034</td><td>⋯        </td><td>0.000000 </td><td>0.000000 </td><td>0.000000 </td><td>0.0000000</td><td>0.0000000</td><td>0.9742266</td><td>0.5404358</td><td>0        </td><td>0.0000000</td><td>0.6617828</td></tr>\n",
       "\t<tr><th scope=row>ENSMUSG00000001750</th><td>0.0000000</td><td>0.0000000</td><td>0.7626812</td><td>0.0000000</td><td>1.124741 </td><td>0.0000000</td><td>0.000000 </td><td>0.0000000</td><td>0.0000000</td><td>0.0000000</td><td>⋯        </td><td>0.000000 </td><td>0.000000 </td><td>0.000000 </td><td>0.0000000</td><td>0.9982723</td><td>0.0000000</td><td>0.5404358</td><td>0        </td><td>0.9575651</td><td>0.0000000</td></tr>\n",
       "</tbody>\n",
       "</table>\n"
      ],
      "text/latex": [
       "\\begin{tabular}{r|lllllllllllllllllllllllllllllllllllllllllllllllllllllllllllllllllllllllllllllllllllllllllllllllllllllllllllllllllllllllllllllllllllllllllllllllllllllllllllllllllllllllllllllllllllllllllllllllllllllllllllllllllllllllllllllllllllllllllllllllllllllllllllllllllllllllllllllllllllllllllllllllllllllllllllllllllllllllllllllllllllllllllllllllllllllllllllllllllllllllllllllllllllllllllllllllllllllllllllllllllllllllllllllllllllllllllllllllllllllllllllllllllllllllllllllllllllllllllllllllllllllllllllllllllllllllllllllllllllllllllllllllllllllllllllllllllllllllllllllllllllllllllllllllllllllllllllllllllllllllllllllllllllllllllllllllllllllllllllllllllllllllllllllllllllllllllllllllllllllllllllllllllllllllllllllllllllllllllllllllllllllllllllllllllllllllllllllllllllllllllllllllllllllllllllllllllllllllllllllllllllllllllllllllllllllllllllllllllllllllllllllllllllllllllllllllllllllllllllllllllllllllllllllllllllllllllllllllllllllllllllllllllllllllllllllllllllllllllllllllllllllllllllllllllllllllllllllllllllllllllllllllllllllllllllllllllllllllllllllllllllllllllllllllllllllllllllllllllllllllllllllllllllllllllllllllllllllllllllllllllllllllllllllllllllllllllllllllllllllllllllllllllllllllllllllllllllllllllllllllllllllllllllllllllllllllllllllllllllllllllllllllllllllllllllllllllllllllllllllllllllllllllllllllllllllllllllllllllllllllllllllllllllllllllllllllllllllllllllllllllllllllllllllllllllllllllllllllllllllllllllllllllllllllllllllllllllllllllllllllllllllllllllllllllllllllllllllllllllllllllllllllllllllllllllllllllllllllllllllllllllllllllllllllllllllllllllllllllllllllllllllllllllllllllllllllllllllllllllllllllllllllllllllllllllllllllllllllllllllllllllllllllllllllllllllllllllllllllllllllllllllllllllllllllllllllllllllllllllllllllllllllllllllllllllllllllllllllllllllllllllllllllllllllllllllllllllllllllllllllllllllllllllllllllllllllllllllllllllllllllllllllllllllllllllllllllllllllllllllllllllllllllllllllllllllllllllllllllllllllllllllllllllllllllllllllllllllllllllllllllllllllllllllllllllllllllllllllllllllllllllllllllllllllllllllllllllllllllllllllllllllllllllllllllllllllllllllllllllllllllllllllllllllllllllllllllllllllllllllllllllllllllllllllllllllllllllllllllllllllllllllllllllllllllllllllllllllllllllllllllllllllllllllllllllllllllllllllllllllllllllllllllllllllllllllllllllllllllllllllllllllllllllllllllllllllllllllllllllllllllllllllllllllllllllllllllllllllllllllllllllllllllllllllllllllllllllllllllllllllllllllllllllllllllllllllllllllllllllllllllllllllllllllllllllllllllllllllllllllllllllllllllllllllllllllllllllllllllllllllllllllllllllllllllllllllllllllllllllllllllllllllllllllllllllllllllllllllllllllllllllllllllllllllllllllllllllllllllllllllllllllllllllllllllllllllllllllllllllllllllllllllllllllllllllllllllllllllllllllllllllllllll}\n",
       "  & GMP & ERY & GMP & ERY & GMP & ERY & ERY & ERY & ERY & ERY & ⋯ & CMP & CMP & CMP & GMP & GMP & ERY & GMP & CMP & GMP & ERY\\\\\n",
       "\\hline\n",
       "\tENSMUSG00000000171 & 0.0000000 & 0.7133989 & 0.7626812 & 0.6200165 & 0.000000  & 0.0000000 & 0.000000  & 0.6782274 & 0.5081123 & 0.8107793 & ⋯         & 0.000000  & 1.013343  & 0.000000  & 0.0000000 & 0.0000000 & 0.8050633 & 0.5404358 & 0         & 1.4376265 & 1.2533303\\\\\n",
       "\tENSMUSG00000000290 & 0.6317197 & 0.0000000 & 0.0000000 & 0.0000000 & 0.000000  & 0.0000000 & 0.000000  & 0.0000000 & 0.0000000 & 0.0000000 & ⋯         & 0.000000  & 0.000000  & 0.000000  & 0.6718648 & 0.0000000 & 0.0000000 & 0.0000000 & 0         & 0.0000000 & 0.0000000\\\\\n",
       "\tENSMUSG00000000594 & 0.6317197 & 0.0000000 & 0.9991696 & 0.0000000 & 2.231913  & 0.5136644 & 0.000000  & 0.0000000 & 0.5081123 & 0.0000000 & ⋯         & 1.125407  & 1.013343  & 1.250356  & 0.6718648 & 0.0000000 & 0.0000000 & 0.8893345 & 0         & 0.5892703 & 0.2721228\\\\\n",
       "\tENSMUSG00000001082 & 1.0158408 & 0.0000000 & 0.0000000 & 0.0000000 & 1.124741  & 0.0000000 & 0.000000  & 0.6782274 & 0.5081123 & 0.4854034 & ⋯         & 0.000000  & 1.013343  & 0.000000  & 0.6718648 & 0.0000000 & 0.6013382 & 0.8893345 & 0         & 0.5892703 & 0.0000000\\\\\n",
       "\tENSMUSG00000001380 & 1.0158408 & 0.7133989 & 0.0000000 & 0.8278695 & 0.000000  & 0.5136644 & 1.917527  & 0.0000000 & 0.5081123 & 0.4854034 & ⋯         & 0.000000  & 0.000000  & 0.000000  & 0.0000000 & 0.0000000 & 0.9742266 & 0.5404358 & 0         & 0.0000000 & 0.6617828\\\\\n",
       "\tENSMUSG00000001750 & 0.0000000 & 0.0000000 & 0.7626812 & 0.0000000 & 1.124741  & 0.0000000 & 0.000000  & 0.0000000 & 0.0000000 & 0.0000000 & ⋯         & 0.000000  & 0.000000  & 0.000000  & 0.0000000 & 0.9982723 & 0.0000000 & 0.5404358 & 0         & 0.9575651 & 0.0000000\\\\\n",
       "\\end{tabular}\n"
      ],
      "text/markdown": [
       "\n",
       "| <!--/--> | GMP | ERY | GMP | ERY | GMP | ERY | ERY | ERY | ERY | ERY | ⋯ | CMP | CMP | CMP | GMP | GMP | ERY | GMP | CMP | GMP | ERY | \n",
       "|---|---|---|---|---|---|\n",
       "| ENSMUSG00000000171 | 0.0000000 | 0.7133989 | 0.7626812 | 0.6200165 | 0.000000  | 0.0000000 | 0.000000  | 0.6782274 | 0.5081123 | 0.8107793 | ⋯         | 0.000000  | 1.013343  | 0.000000  | 0.0000000 | 0.0000000 | 0.8050633 | 0.5404358 | 0         | 1.4376265 | 1.2533303 | \n",
       "| ENSMUSG00000000290 | 0.6317197 | 0.0000000 | 0.0000000 | 0.0000000 | 0.000000  | 0.0000000 | 0.000000  | 0.0000000 | 0.0000000 | 0.0000000 | ⋯         | 0.000000  | 0.000000  | 0.000000  | 0.6718648 | 0.0000000 | 0.0000000 | 0.0000000 | 0         | 0.0000000 | 0.0000000 | \n",
       "| ENSMUSG00000000594 | 0.6317197 | 0.0000000 | 0.9991696 | 0.0000000 | 2.231913  | 0.5136644 | 0.000000  | 0.0000000 | 0.5081123 | 0.0000000 | ⋯         | 1.125407  | 1.013343  | 1.250356  | 0.6718648 | 0.0000000 | 0.0000000 | 0.8893345 | 0         | 0.5892703 | 0.2721228 | \n",
       "| ENSMUSG00000001082 | 1.0158408 | 0.0000000 | 0.0000000 | 0.0000000 | 1.124741  | 0.0000000 | 0.000000  | 0.6782274 | 0.5081123 | 0.4854034 | ⋯         | 0.000000  | 1.013343  | 0.000000  | 0.6718648 | 0.0000000 | 0.6013382 | 0.8893345 | 0         | 0.5892703 | 0.0000000 | \n",
       "| ENSMUSG00000001380 | 1.0158408 | 0.7133989 | 0.0000000 | 0.8278695 | 0.000000  | 0.5136644 | 1.917527  | 0.0000000 | 0.5081123 | 0.4854034 | ⋯         | 0.000000  | 0.000000  | 0.000000  | 0.0000000 | 0.0000000 | 0.9742266 | 0.5404358 | 0         | 0.0000000 | 0.6617828 | \n",
       "| ENSMUSG00000001750 | 0.0000000 | 0.0000000 | 0.7626812 | 0.0000000 | 1.124741  | 0.0000000 | 0.000000  | 0.0000000 | 0.0000000 | 0.0000000 | ⋯         | 0.000000  | 0.000000  | 0.000000  | 0.0000000 | 0.9982723 | 0.0000000 | 0.5404358 | 0         | 0.9575651 | 0.0000000 | \n",
       "\n",
       "\n"
      ],
      "text/plain": [
       "                   GMP       ERY       GMP       ERY       GMP      ERY      \n",
       "ENSMUSG00000000171 0.0000000 0.7133989 0.7626812 0.6200165 0.000000 0.0000000\n",
       "ENSMUSG00000000290 0.6317197 0.0000000 0.0000000 0.0000000 0.000000 0.0000000\n",
       "ENSMUSG00000000594 0.6317197 0.0000000 0.9991696 0.0000000 2.231913 0.5136644\n",
       "ENSMUSG00000001082 1.0158408 0.0000000 0.0000000 0.0000000 1.124741 0.0000000\n",
       "ENSMUSG00000001380 1.0158408 0.7133989 0.0000000 0.8278695 0.000000 0.5136644\n",
       "ENSMUSG00000001750 0.0000000 0.0000000 0.7626812 0.0000000 1.124741 0.0000000\n",
       "                   ERY      ERY       ERY       ERY       ⋯ CMP      CMP     \n",
       "ENSMUSG00000000171 0.000000 0.6782274 0.5081123 0.8107793 ⋯ 0.000000 1.013343\n",
       "ENSMUSG00000000290 0.000000 0.0000000 0.0000000 0.0000000 ⋯ 0.000000 0.000000\n",
       "ENSMUSG00000000594 0.000000 0.0000000 0.5081123 0.0000000 ⋯ 1.125407 1.013343\n",
       "ENSMUSG00000001082 0.000000 0.6782274 0.5081123 0.4854034 ⋯ 0.000000 1.013343\n",
       "ENSMUSG00000001380 1.917527 0.0000000 0.5081123 0.4854034 ⋯ 0.000000 0.000000\n",
       "ENSMUSG00000001750 0.000000 0.0000000 0.0000000 0.0000000 ⋯ 0.000000 0.000000\n",
       "                   CMP      GMP       GMP       ERY       GMP       CMP\n",
       "ENSMUSG00000000171 0.000000 0.0000000 0.0000000 0.8050633 0.5404358 0  \n",
       "ENSMUSG00000000290 0.000000 0.6718648 0.0000000 0.0000000 0.0000000 0  \n",
       "ENSMUSG00000000594 1.250356 0.6718648 0.0000000 0.0000000 0.8893345 0  \n",
       "ENSMUSG00000001082 0.000000 0.6718648 0.0000000 0.6013382 0.8893345 0  \n",
       "ENSMUSG00000001380 0.000000 0.0000000 0.0000000 0.9742266 0.5404358 0  \n",
       "ENSMUSG00000001750 0.000000 0.0000000 0.9982723 0.0000000 0.5404358 0  \n",
       "                   GMP       ERY      \n",
       "ENSMUSG00000000171 1.4376265 1.2533303\n",
       "ENSMUSG00000000290 0.0000000 0.0000000\n",
       "ENSMUSG00000000594 0.5892703 0.2721228\n",
       "ENSMUSG00000001082 0.5892703 0.0000000\n",
       "ENSMUSG00000001380 0.0000000 0.6617828\n",
       "ENSMUSG00000001750 0.9575651 0.0000000"
      ]
     },
     "metadata": {},
     "output_type": "display_data"
    },
    {
     "data": {
      "text/html": [
       "161"
      ],
      "text/latex": [
       "161"
      ],
      "text/markdown": [
       "161"
      ],
      "text/plain": [
       "[1] 161"
      ]
     },
     "metadata": {},
     "output_type": "display_data"
    }
   ],
   "source": [
    "head(logDataA3)\n",
    "max(dataA)"
   ]
  },
  {
   "cell_type": "code",
   "execution_count": null,
   "metadata": {},
   "outputs": [],
   "source": []
  }
 ],
 "metadata": {
  "kernelspec": {
   "display_name": "R",
   "language": "R",
   "name": "ir"
  },
  "language_info": {
   "codemirror_mode": "r",
   "file_extension": ".r",
   "mimetype": "text/x-r-source",
   "name": "R",
   "pygments_lexer": "r",
   "version": "3.4.3"
  },
  "toc": {
   "collapse_to_match_collapsible_headings": false,
   "colors": {
    "hover_highlight": "#DAA520",
    "navigate_num": "#000000",
    "navigate_text": "#333333",
    "running_highlight": "#FF0000",
    "selected_highlight": "#FFD700",
    "sidebar_border": "#EEEEEE",
    "wrapper_background": "#FFFFFF"
   },
   "moveMenuLeft": true,
   "nav_menu": {
    "height": "0px",
    "width": "250px"
   },
   "navigate_menu": true,
   "number_sections": true,
   "sideBar": true,
   "skip_h1_title": false,
   "threshold": 4,
   "toc_cell": true,
   "toc_section_display": "block",
   "toc_window_display": false,
   "widenNotebook": false
  }
 },
 "nbformat": 4,
 "nbformat_minor": 2
}
