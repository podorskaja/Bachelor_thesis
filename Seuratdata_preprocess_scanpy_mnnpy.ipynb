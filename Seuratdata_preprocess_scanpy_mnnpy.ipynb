{
 "cells": [
  {
   "cell_type": "code",
   "execution_count": 16,
   "metadata": {},
   "outputs": [],
   "source": [
    "import scanpy.api as sc\n",
    "import pandas as pd\n",
    "import loompy\n",
    "import numpy as np\n",
    "import anndata as ad\n",
    "import ntpath"
   ]
  },
  {
   "cell_type": "code",
   "execution_count": 28,
   "metadata": {},
   "outputs": [],
   "source": [
    "def pandas_into_adata(path):\n",
    "    dataset = pd.read_table(path)\n",
    "    var_seq = pd.DataFrame(index=dataset.index)\n",
    "    obs_seq = pd.DataFrame(index=dataset.columns)\n",
    "    X_seq = dataset.values.T\n",
    "    adata = ad.AnnData(X_seq, obs=obs_seq, var=var_seq)\n",
    "    adata.obs['n_counts'] = adata.X.sum(axis=1)\n",
    "    return adata"
   ]
  },
  {
   "cell_type": "code",
   "execution_count": 29,
   "metadata": {},
   "outputs": [],
   "source": [
    "def preprocess(adata):\n",
    "    sc.pp.filter_cells(adata, min_genes=200)\n",
    "    sc.pp.filter_genes(adata, min_cells=3)\n",
    "    sc.pp.normalize_per_cell(adata, counts_per_cell_after=1e4)\n",
    "    filter_result = sc.pp.filter_genes_dispersion(\n",
    "    adata.X, min_mean=0.0125, max_mean=3, min_disp=0.5)\n",
    "    adata.raw = sc.pp.log1p(adata, copy=True)\n",
    "    adata = adata[:, filter_result.gene_subset]\n",
    "    return adata\n"
   ]
  },
  {
   "cell_type": "code",
   "execution_count": 30,
   "metadata": {},
   "outputs": [],
   "source": [
    "def generate_loom_filename(path):\n",
    "    filename = ntpath.basename(path)\n",
    "    filename = filename.rsplit(\".\", maxsplit=1 )[0] + \".loom\"\n",
    "    return filename\n",
    "    "
   ]
  },
  {
   "cell_type": "code",
   "execution_count": 31,
   "metadata": {},
   "outputs": [],
   "source": [
    "def load_preprocess_store(path):\n",
    "    adata = pandas_into_adata(path)\n",
    "    processed = preprocess(adata)\n",
    "    loom_file = generate_loom_filename(path)\n",
    "    adata.write_loom(loom_file)\n",
    "    read = sc.read_loom(loom_file)\n",
    "    return read"
   ]
  },
  {
   "cell_type": "code",
   "execution_count": null,
   "metadata": {},
   "outputs": [],
   "source": [
    "seqwell =load_preprocess_store(\"./pbmc_SeqWell.expressionMatrix.txt\")\n"
   ]
  },
  {
   "cell_type": "code",
   "execution_count": null,
   "metadata": {},
   "outputs": [],
   "source": [
    "seqwell"
   ]
  },
  {
   "cell_type": "code",
   "execution_count": 23,
   "metadata": {},
   "outputs": [],
   "source": [
    "tenx= load_preprocess_store(\"./pbmc_10X.expressionMatrix.txt\")"
   ]
  },
  {
   "cell_type": "code",
   "execution_count": 24,
   "metadata": {},
   "outputs": [
    {
     "data": {
      "text/plain": [
       "AnnData object with n_obs × n_vars = 2638 × 13656 \n",
       "    obs: 'n_counts', 'n_genes'\n",
       "    var: 'n_cells'"
      ]
     },
     "execution_count": 24,
     "metadata": {},
     "output_type": "execute_result"
    }
   ],
   "source": [
    "tenx"
   ]
  },
  {
   "cell_type": "code",
   "execution_count": 26,
   "metadata": {},
   "outputs": [
    {
     "ename": "NameError",
     "evalue": "name 'filter_result' is not defined",
     "output_type": "error",
     "traceback": [
      "\u001b[0;31m---------------------------------------------------------------------------\u001b[0m",
      "\u001b[0;31mNameError\u001b[0m                                 Traceback (most recent call last)",
      "\u001b[0;32m<ipython-input-26-f39a5b9b4657>\u001b[0m in \u001b[0;36m<module>\u001b[0;34m()\u001b[0m\n\u001b[0;32m----> 1\u001b[0;31m \u001b[0mseqwell\u001b[0m \u001b[0;34m=\u001b[0m \u001b[0mseqwell\u001b[0m\u001b[0;34m[\u001b[0m\u001b[0;34m:\u001b[0m\u001b[0;34m,\u001b[0m \u001b[0mfilter_result\u001b[0m\u001b[0;34m.\u001b[0m\u001b[0mgene_subset\u001b[0m\u001b[0;34m]\u001b[0m\u001b[0;34m\u001b[0m\u001b[0m\n\u001b[0m",
      "\u001b[0;31mNameError\u001b[0m: name 'filter_result' is not defined"
     ]
    }
   ],
   "source": [
    "seqwell = seqwell[:, filter_result.gene_subset]\n"
   ]
  },
  {
   "cell_type": "code",
   "execution_count": null,
   "metadata": {},
   "outputs": [],
   "source": []
  }
 ],
 "metadata": {
  "kernelspec": {
   "display_name": "Python 3",
   "language": "python",
   "name": "python3"
  },
  "language_info": {
   "codemirror_mode": {
    "name": "ipython",
    "version": 3
   },
   "file_extension": ".py",
   "mimetype": "text/x-python",
   "name": "python",
   "nbconvert_exporter": "python",
   "pygments_lexer": "ipython3",
   "version": "3.6.5"
  }
 },
 "nbformat": 4,
 "nbformat_minor": 2
}
