{
 "cells": [
  {
   "cell_type": "markdown",
   "metadata": {
    "toc": "true"
   },
   "source": [
    " # Table of Contents\n",
    "<div class=\"toc\" style=\"margin-top: 1em;\"><ul class=\"toc-item\" id=\"toc-level0\"></ul></div>"
   ]
  },
  {
   "cell_type": "code",
   "execution_count": 1,
   "metadata": {},
   "outputs": [
    {
     "name": "stderr",
     "output_type": "stream",
     "text": [
      "Bioconductor version 3.7 (BiocInstaller 1.30.0), ?biocLite for help\n"
     ]
    }
   ],
   "source": [
    "source(\"https://bioconductor.org/biocLite.R\")"
   ]
  },
  {
   "cell_type": "code",
   "execution_count": 4,
   "metadata": {},
   "outputs": [
    {
     "name": "stderr",
     "output_type": "stream",
     "text": [
      "BioC_mirror: https://bioconductor.org\n",
      "Using Bioconductor 3.7 (BiocInstaller 1.30.0), R 3.5.1 (2018-07-02).\n",
      "Old packages: 'git2r'\n"
     ]
    }
   ],
   "source": [
    "biocLite()"
   ]
  },
  {
   "cell_type": "code",
   "execution_count": 5,
   "metadata": {},
   "outputs": [
    {
     "name": "stderr",
     "output_type": "stream",
     "text": [
      "BioC_mirror: https://bioconductor.org\n",
      "Using Bioconductor 3.7 (BiocInstaller 1.30.0), R 3.5.1 (2018-07-02).\n",
      "Installing package(s) ‘scran’\n"
     ]
    },
    {
     "name": "stdout",
     "output_type": "stream",
     "text": [
      "\n",
      "The downloaded binary packages are in\n",
      "\t/var/folders/1w/m236pxg93fqfspflhhqj5g9h0000gn/T//Rtmpoz6WSO/downloaded_packages\n"
     ]
    },
    {
     "name": "stderr",
     "output_type": "stream",
     "text": [
      "Old packages: 'git2r'\n"
     ]
    }
   ],
   "source": [
    "biocLite(\"scran\")"
   ]
  },
  {
   "cell_type": "code",
   "execution_count": null,
   "metadata": {},
   "outputs": [],
   "source": [
    "dataA <- read.table(\"~/Downloads/DataA3_2.txt\")"
   ]
  },
  {
   "cell_type": "code",
   "execution_count": 103,
   "metadata": {},
   "outputs": [],
   "source": [
    "dataF <- read.table(\"~/Downloads/DataF3_2.txt\")"
   ]
  },
  {
   "cell_type": "code",
   "execution_count": 1,
   "metadata": {},
   "outputs": [
    {
     "ename": "ERROR",
     "evalue": "Error in library(scran): there is no package called ‘scran’\n",
     "execution_count": 1,
     "output_type": "error",
     "traceback": [
      "Error in library(scran): there is no package called ‘scran’\nTraceback:\n",
      "1. library(scran)",
      "2. stop(txt, domain = NA)"
     ]
    }
   ],
   "source": [
    "library(scran)"
   ]
  },
  {
   "cell_type": "code",
   "execution_count": 105,
   "metadata": {},
   "outputs": [],
   "source": [
    "dir.create(\"results\", showWarning=FALSE)"
   ]
  },
  {
   "cell_type": "code",
   "execution_count": 106,
   "metadata": {},
   "outputs": [],
   "source": [
    "logDataA3 <- as.matrix(dataA)\n",
    "logDataF3 <- as.matrix(dataF)"
   ]
  },
  {
   "cell_type": "code",
   "execution_count": 107,
   "metadata": {},
   "outputs": [],
   "source": [
    "raw.all <- cbind(logDataF3, logDataA3)"
   ]
  },
  {
   "cell_type": "code",
   "execution_count": 108,
   "metadata": {},
   "outputs": [],
   "source": [
    "first.batch <- rep(c(TRUE, FALSE), c(ncol(logDataF3), ncol(logDataA3)))"
   ]
  },
  {
   "cell_type": "code",
   "execution_count": 109,
   "metadata": {},
   "outputs": [],
   "source": [
    "# Making a plotting function.\n",
    "plotFUN <- function(fname, Y, subset=NULL, ..., xlab=\"tSNE 1\",ylab=\"tSNE 2\",main=\"\") {\n",
    "  if (is.null(subset)) {\n",
    "    subset <- seq_len(nrow(Y))\n",
    "  }\n",
    "  png(fname,width=900,height=700)\n",
    "  par(mfrow=c(1,1),mar=c(6,6,4,2),cex.axis=2,cex.main=3,cex.lab=2.5)\n",
    "  plot(Y[,1], Y[,2], cex=2,\n",
    "       pch=ifelse(first.batch, 21, 1)[subset], \n",
    "       col=ifelse(first.batch, \"black\", \"black\")[subset],\n",
    "       bg=\"white\", xlab=xlab, ylab=ylab, main=main) \n",
    "    dev.off()\n",
    "}"
   ]
  },
  {
   "cell_type": "code",
   "execution_count": 110,
   "metadata": {},
   "outputs": [],
   "source": [
    "batchcolor=c(\"black\",\"yellow\")\n",
    "plotFUNb <- function(fname, Y, subset=NULL, ...) {\n",
    "  if (is.null(subset)) {\n",
    "    subset <- seq_len(nrow(Y))\n",
    "  }\n",
    "  png(fname,width=900,height=700)\n",
    "  par(mfrow=c(1,1),mar=c(6,6,4,2),cex.axis=2,cex.main=3,cex.lab=2.5)\n",
    "  plot(Y[,1], Y[,2], cex=2,\n",
    "       pch=ifelse(first.batch, 21, 1)[subset], \n",
    "       col=\"black\",\n",
    "       bg=\"white\")#,  xlab=\"tSNE 1\",ylab=\"tSNE 2\")\n",
    "  dev.off()\n",
    "    }"
   ]
  },
  {
   "cell_type": "code",
   "execution_count": null,
   "metadata": {},
   "outputs": [],
   "source": []
  },
  {
   "cell_type": "code",
   "execution_count": 111,
   "metadata": {},
   "outputs": [],
   "source": [
    "X.unc <- raw.all"
   ]
  },
  {
   "cell_type": "code",
   "execution_count": 112,
   "metadata": {},
   "outputs": [],
   "source": [
    "t.unc <- t(X.unc)"
   ]
  },
  {
   "cell_type": "code",
   "execution_count": 113,
   "metadata": {},
   "outputs": [],
   "source": [
    "require(Rtsne)\n"
   ]
  },
  {
   "cell_type": "code",
   "execution_count": 114,
   "metadata": {},
   "outputs": [],
   "source": [
    "set.seed(0)"
   ]
  },
  {
   "cell_type": "code",
   "execution_count": 115,
   "metadata": {},
   "outputs": [],
   "source": [
    "all.dists.unc <- as.matrix(dist(t.unc))"
   ]
  },
  {
   "cell_type": "code",
   "execution_count": 116,
   "metadata": {},
   "outputs": [],
   "source": [
    "tsne.unc <- Rtsne(all.dists.unc, is_distance=TRUE, perplexity = 90)"
   ]
  },
  {
   "cell_type": "code",
   "execution_count": 117,
   "metadata": {},
   "outputs": [
    {
     "data": {
      "text/html": [
       "<strong>pdf:</strong> 2"
      ],
      "text/latex": [
       "\\textbf{pdf:} 2"
      ],
      "text/markdown": [
       "**pdf:** 2"
      ],
      "text/plain": [
       "pdf \n",
       "  2 "
      ]
     },
     "metadata": {},
     "output_type": "display_data"
    }
   ],
   "source": [
    "plotFUN(\"results/uncFA.png\", tsne.unc$Y, main=\"Uncorrected\",  xlab=\"tSNE 1\",ylab=\"tSNE 2\")"
   ]
  },
  {
   "cell_type": "code",
   "execution_count": 118,
   "metadata": {},
   "outputs": [
    {
     "data": {
      "text/html": [
       "<strong>pdf:</strong> 2"
      ],
      "text/latex": [
       "\\textbf{pdf:} 2"
      ],
      "text/markdown": [
       "**pdf:** 2"
      ],
      "text/plain": [
       "pdf \n",
       "  2 "
      ]
     },
     "metadata": {},
     "output_type": "display_data"
    }
   ],
   "source": [
    "plotFUNb(\"results/uncFAb.png\", tsne.unc$Y, main=\"Uncorrected\",  xlab=\"tSNE 1\",ylab=\"tSNE 2\")"
   ]
  },
  {
   "cell_type": "code",
   "execution_count": 119,
   "metadata": {},
   "outputs": [
    {
     "data": {
      "text/html": [
       "<table>\n",
       "<thead><tr><th></th><th scope=col>used</th><th scope=col>(Mb)</th><th scope=col>gc trigger</th><th scope=col>(Mb)</th><th scope=col>max used</th><th scope=col>(Mb)</th></tr></thead>\n",
       "<tbody>\n",
       "\t<tr><th scope=row>Ncells</th><td> 3814967</td><td>203.8   </td><td> 5684620</td><td>303.6   </td><td> 5684620</td><td>303.6   </td></tr>\n",
       "\t<tr><th scope=row>Vcells</th><td>19402029</td><td>148.1   </td><td>54004798</td><td>412.1   </td><td>54003441</td><td>412.1   </td></tr>\n",
       "</tbody>\n",
       "</table>\n"
      ],
      "text/latex": [
       "\\begin{tabular}{r|llllll}\n",
       "  & used & (Mb) & gc trigger & (Mb) & max used & (Mb)\\\\\n",
       "\\hline\n",
       "\tNcells &  3814967 & 203.8    &  5684620 & 303.6    &  5684620 & 303.6   \\\\\n",
       "\tVcells & 19402029 & 148.1    & 54004798 & 412.1    & 54003441 & 412.1   \\\\\n",
       "\\end{tabular}\n"
      ],
      "text/markdown": [
       "\n",
       "| <!--/--> | used | (Mb) | gc trigger | (Mb) | max used | (Mb) | \n",
       "|---|---|\n",
       "| Ncells |  3814967 | 203.8    |  5684620 | 303.6    |  5684620 | 303.6    | \n",
       "| Vcells | 19402029 | 148.1    | 54004798 | 412.1    | 54003441 | 412.1    | \n",
       "\n",
       "\n"
      ],
      "text/plain": [
       "       used     (Mb)  gc trigger (Mb)  max used (Mb) \n",
       "Ncells  3814967 203.8  5684620   303.6  5684620 303.6\n",
       "Vcells 19402029 148.1 54004798   412.1 54003441 412.1"
      ]
     },
     "metadata": {},
     "output_type": "display_data"
    }
   ],
   "source": [
    "rm(all.dists.unc)\n",
    "gc()"
   ]
  },
  {
   "cell_type": "code",
   "execution_count": 120,
   "metadata": {},
   "outputs": [],
   "source": [
    "mnn.out<-mnnCorrect(logDataF3, logDataA3,k=20, sigma=0.1,cos.norm.in=TRUE, cos.norm.out=TRUE, var.adj=TRUE,compute.angle=TRUE)\n",
    "\n",
    "X.mnn <- cbind(mnn.out$corrected[[1]], mnn.out$corrected[[2]])\n",
    "t.mnn <- t(X.mnn)"
   ]
  },
  {
   "cell_type": "code",
   "execution_count": 121,
   "metadata": {},
   "outputs": [
    {
     "data": {
      "text/html": [
       "<ol class=list-inline>\n",
       "\t<li>1000</li>\n",
       "\t<li>2000</li>\n",
       "</ol>\n"
      ],
      "text/latex": [
       "\\begin{enumerate*}\n",
       "\\item 1000\n",
       "\\item 2000\n",
       "\\end{enumerate*}\n"
      ],
      "text/markdown": [
       "1. 1000\n",
       "2. 2000\n",
       "\n",
       "\n"
      ],
      "text/plain": [
       "[1] 1000 2000"
      ]
     },
     "metadata": {},
     "output_type": "display_data"
    },
    {
     "data": {
      "text/html": [
       "<ol class=list-inline>\n",
       "\t<li>505</li>\n",
       "\t<li>2000</li>\n",
       "</ol>\n"
      ],
      "text/latex": [
       "\\begin{enumerate*}\n",
       "\\item 505\n",
       "\\item 2000\n",
       "\\end{enumerate*}\n"
      ],
      "text/markdown": [
       "1. 505\n",
       "2. 2000\n",
       "\n",
       "\n"
      ],
      "text/plain": [
       "[1]  505 2000"
      ]
     },
     "metadata": {},
     "output_type": "display_data"
    }
   ],
   "source": [
    "dim(X.mnn)\n",
    "dim(unique(X.mnn))"
   ]
  },
  {
   "cell_type": "code",
   "execution_count": 122,
   "metadata": {},
   "outputs": [
    {
     "data": {
      "text/html": [
       "<strong>pdf:</strong> 2"
      ],
      "text/latex": [
       "\\textbf{pdf:} 2"
      ],
      "text/markdown": [
       "**pdf:** 2"
      ],
      "text/plain": [
       "pdf \n",
       "  2 "
      ]
     },
     "metadata": {},
     "output_type": "display_data"
    }
   ],
   "source": [
    "# plot histogram of angles between batch vectors and 2 svds of the reference batch.\n",
    "png(file=\"results/angles.png\",width=900,height=700)\n",
    "par(mfrow=c(1,1),mar=c(6,6,4,2),cex.axis=2,cex.main=3,cex.lab=2.5)\n",
    "hist(mnn.out$angles[[2]],xlab=\"Angle\",ylab=\"Frequency\",main=\"\")\n",
    "dev.off()"
   ]
  },
  {
   "cell_type": "code",
   "execution_count": 123,
   "metadata": {},
   "outputs": [
    {
     "data": {
      "text/html": [
       "<strong>pdf:</strong> 2"
      ],
      "text/latex": [
       "\\textbf{pdf:} 2"
      ],
      "text/markdown": [
       "**pdf:** 2"
      ],
      "text/plain": [
       "pdf \n",
       "  2 "
      ]
     },
     "metadata": {},
     "output_type": "display_data"
    },
    {
     "data": {
      "text/html": [
       "<strong>pdf:</strong> 2"
      ],
      "text/latex": [
       "\\textbf{pdf:} 2"
      ],
      "text/markdown": [
       "**pdf:** 2"
      ],
      "text/plain": [
       "pdf \n",
       "  2 "
      ]
     },
     "metadata": {},
     "output_type": "display_data"
    }
   ],
   "source": [
    "# Generating a t-SNE plot.\n",
    "set.seed(0)\n",
    "all.dists.mnn <- as.matrix(dist(t.mnn))\n",
    "tsne.mnn <- Rtsne(all.dists.mnn, is_distance=TRUE, perplexity = 90)\n",
    "plotFUN(\"results/mnnFA.png\", tsne.mnn$Y, main=\"MNN\",  xlab=\"tSNE 1\",ylab=\"tSNE 2\")\n",
    "plotFUNb(\"results/mnnFAb3.png\", tsne.mnn$Y, main=\"MNN\",  xlab=\"tSNE 1\",ylab=\"tSNE 2\")"
   ]
  },
  {
   "cell_type": "code",
   "execution_count": 125,
   "metadata": {},
   "outputs": [
    {
     "data": {
      "text/html": [
       "<strong>pdf:</strong> 2"
      ],
      "text/latex": [
       "\\textbf{pdf:} 2"
      ],
      "text/markdown": [
       "**pdf:** 2"
      ],
      "text/plain": [
       "pdf \n",
       "  2 "
      ]
     },
     "metadata": {},
     "output_type": "display_data"
    }
   ],
   "source": [
    "set.seed(0)\n",
    "tsne.mnn2 <- Rtsne(t.mnn, perplexity = 90, check_duplicates = FALSE)\n",
    "plotFUN(\"results/mnnFA_conventsne.png\", tsne.mnn2$Y, main=\"MNN\",  xlab=\"tSNE 1\",ylab=\"tSNE 2\")"
   ]
  },
  {
   "cell_type": "code",
   "execution_count": 124,
   "metadata": {},
   "outputs": [
    {
     "data": {
      "text/html": [
       "<table>\n",
       "<thead><tr><th></th><th scope=col>AAACATACCAAGCT.1</th><th scope=col>AAACATACCCCTAC.1</th><th scope=col>AAACATACCCGTAA.1</th><th scope=col>AAACATACCCTCGT.1</th><th scope=col>AAACATACGAGGTG.1</th><th scope=col>AAACATACGCGAAG.1</th><th scope=col>AAACATACGTCGTA.1</th><th scope=col>AAACATACGTTGCA.1</th><th scope=col>AAACATACTATGGC.1</th><th scope=col>AAACATACTCAGGT.1</th><th scope=col>⋯</th><th scope=col>ACACATCTCGCCTT.11</th><th scope=col>ACACATCTCGTTAG.1</th><th scope=col>ACACATCTCTGGAT.1</th><th scope=col>ACACCAGAAAGGCG.1</th><th scope=col>ACACCAGAAATCGC.1</th><th scope=col>ACACCAGAATGCTG.1</th><th scope=col>ACACCAGACCTATT.1</th><th scope=col>ACACCAGAGACGGA.1</th><th scope=col>ACACCAGAGATGAA.1</th><th scope=col>ACACCAGAGCGTTA.1</th></tr></thead>\n",
       "<tbody>\n",
       "\t<tr><th scope=row>MIR1302-10</th><td>0</td><td>0</td><td>0</td><td>0</td><td>0</td><td>0</td><td>0</td><td>0</td><td>0</td><td>0</td><td>⋯</td><td>0</td><td>0</td><td>0</td><td>0</td><td>0</td><td>0</td><td>0</td><td>0</td><td>0</td><td>0</td></tr>\n",
       "\t<tr><th scope=row>FAM138A</th><td>0</td><td>0</td><td>0</td><td>0</td><td>0</td><td>0</td><td>0</td><td>0</td><td>0</td><td>0</td><td>⋯</td><td>0</td><td>0</td><td>0</td><td>0</td><td>0</td><td>0</td><td>0</td><td>0</td><td>0</td><td>0</td></tr>\n",
       "\t<tr><th scope=row>OR4F5</th><td>0</td><td>0</td><td>0</td><td>0</td><td>0</td><td>0</td><td>0</td><td>0</td><td>0</td><td>0</td><td>⋯</td><td>0</td><td>0</td><td>0</td><td>0</td><td>0</td><td>0</td><td>0</td><td>0</td><td>0</td><td>0</td></tr>\n",
       "\t<tr><th scope=row>RP11-34P13.7</th><td>0</td><td>0</td><td>0</td><td>0</td><td>0</td><td>0</td><td>0</td><td>0</td><td>0</td><td>0</td><td>⋯</td><td>0</td><td>0</td><td>0</td><td>0</td><td>0</td><td>0</td><td>0</td><td>0</td><td>0</td><td>0</td></tr>\n",
       "\t<tr><th scope=row>RP11-34P13.8</th><td>0</td><td>0</td><td>0</td><td>0</td><td>0</td><td>0</td><td>0</td><td>0</td><td>0</td><td>0</td><td>⋯</td><td>0</td><td>0</td><td>0</td><td>0</td><td>0</td><td>0</td><td>0</td><td>0</td><td>0</td><td>0</td></tr>\n",
       "\t<tr><th scope=row>AL627309.1</th><td>0</td><td>0</td><td>0</td><td>0</td><td>0</td><td>0</td><td>0</td><td>0</td><td>0</td><td>0</td><td>⋯</td><td>0</td><td>0</td><td>0</td><td>0</td><td>0</td><td>0</td><td>0</td><td>0</td><td>0</td><td>0</td></tr>\n",
       "</tbody>\n",
       "</table>\n"
      ],
      "text/latex": [
       "\\begin{tabular}{r|llllllllllllllllllllllllllllllllllllllllllllllllllllllllllllllllllllllllllllllllllllllllllllllllllllllllllllllllllllllllllllllllllllllllllllllllllllllllllllllllllllllllllllllllllllllllllllllllllllllllllllllllllllllllllllllllllllllllllllllllllllllllllllllllllllllllllllllllllllllllllllllllllllllllllllllllllllllllllllllllllllllllllllllllllllllllllllllllllllllllllllllllllllllllllllllllllllllllllllllllllllllllllllllllllllllllllllllllllllllllllllllllllllllllllllllllllllllllllllllllllllllllllllllllllllllllllllllllllllllllllllllllllllllllllllllllllllllllllllllllllllllllllllllllllllllllllllllllllllllllllllllllllllllllllllllllllllllllllllllllllllllllllllllllllllllllllllllllllllllllllllllllllllllllllllllllllllllllllllllllllllllllllllllllllllllllllllllllllllllllllllllllllllllllllllllllllllllllllllllllllllllllllllllllllllllllllllllllllllllllllllllllllllllllllllllllllllllllllllllllllllllllllllllllllllllllllllllllllllllllllllllllllllllllllllllllllllllllllllllllllllllllllllllllllllllllllllllllllllllll}\n",
       "  & AAACATACCAAGCT.1 & AAACATACCCCTAC.1 & AAACATACCCGTAA.1 & AAACATACCCTCGT.1 & AAACATACGAGGTG.1 & AAACATACGCGAAG.1 & AAACATACGTCGTA.1 & AAACATACGTTGCA.1 & AAACATACTATGGC.1 & AAACATACTCAGGT.1 & ⋯ & ACACATCTCGCCTT.11 & ACACATCTCGTTAG.1 & ACACATCTCTGGAT.1 & ACACCAGAAAGGCG.1 & ACACCAGAAATCGC.1 & ACACCAGAATGCTG.1 & ACACCAGACCTATT.1 & ACACCAGAGACGGA.1 & ACACCAGAGATGAA.1 & ACACCAGAGCGTTA.1\\\\\n",
       "\\hline\n",
       "\tMIR1302-10 & 0 & 0 & 0 & 0 & 0 & 0 & 0 & 0 & 0 & 0 & ⋯ & 0 & 0 & 0 & 0 & 0 & 0 & 0 & 0 & 0 & 0\\\\\n",
       "\tFAM138A & 0 & 0 & 0 & 0 & 0 & 0 & 0 & 0 & 0 & 0 & ⋯ & 0 & 0 & 0 & 0 & 0 & 0 & 0 & 0 & 0 & 0\\\\\n",
       "\tOR4F5 & 0 & 0 & 0 & 0 & 0 & 0 & 0 & 0 & 0 & 0 & ⋯ & 0 & 0 & 0 & 0 & 0 & 0 & 0 & 0 & 0 & 0\\\\\n",
       "\tRP11-34P13.7 & 0 & 0 & 0 & 0 & 0 & 0 & 0 & 0 & 0 & 0 & ⋯ & 0 & 0 & 0 & 0 & 0 & 0 & 0 & 0 & 0 & 0\\\\\n",
       "\tRP11-34P13.8 & 0 & 0 & 0 & 0 & 0 & 0 & 0 & 0 & 0 & 0 & ⋯ & 0 & 0 & 0 & 0 & 0 & 0 & 0 & 0 & 0 & 0\\\\\n",
       "\tAL627309.1 & 0 & 0 & 0 & 0 & 0 & 0 & 0 & 0 & 0 & 0 & ⋯ & 0 & 0 & 0 & 0 & 0 & 0 & 0 & 0 & 0 & 0\\\\\n",
       "\\end{tabular}\n"
      ],
      "text/markdown": [
       "\n",
       "| <!--/--> | AAACATACCAAGCT.1 | AAACATACCCCTAC.1 | AAACATACCCGTAA.1 | AAACATACCCTCGT.1 | AAACATACGAGGTG.1 | AAACATACGCGAAG.1 | AAACATACGTCGTA.1 | AAACATACGTTGCA.1 | AAACATACTATGGC.1 | AAACATACTCAGGT.1 | ⋯ | ACACATCTCGCCTT.11 | ACACATCTCGTTAG.1 | ACACATCTCTGGAT.1 | ACACCAGAAAGGCG.1 | ACACCAGAAATCGC.1 | ACACCAGAATGCTG.1 | ACACCAGACCTATT.1 | ACACCAGAGACGGA.1 | ACACCAGAGATGAA.1 | ACACCAGAGCGTTA.1 | \n",
       "|---|---|---|---|---|---|\n",
       "| MIR1302-10 | 0 | 0 | 0 | 0 | 0 | 0 | 0 | 0 | 0 | 0 | ⋯ | 0 | 0 | 0 | 0 | 0 | 0 | 0 | 0 | 0 | 0 | \n",
       "| FAM138A | 0 | 0 | 0 | 0 | 0 | 0 | 0 | 0 | 0 | 0 | ⋯ | 0 | 0 | 0 | 0 | 0 | 0 | 0 | 0 | 0 | 0 | \n",
       "| OR4F5 | 0 | 0 | 0 | 0 | 0 | 0 | 0 | 0 | 0 | 0 | ⋯ | 0 | 0 | 0 | 0 | 0 | 0 | 0 | 0 | 0 | 0 | \n",
       "| RP11-34P13.7 | 0 | 0 | 0 | 0 | 0 | 0 | 0 | 0 | 0 | 0 | ⋯ | 0 | 0 | 0 | 0 | 0 | 0 | 0 | 0 | 0 | 0 | \n",
       "| RP11-34P13.8 | 0 | 0 | 0 | 0 | 0 | 0 | 0 | 0 | 0 | 0 | ⋯ | 0 | 0 | 0 | 0 | 0 | 0 | 0 | 0 | 0 | 0 | \n",
       "| AL627309.1 | 0 | 0 | 0 | 0 | 0 | 0 | 0 | 0 | 0 | 0 | ⋯ | 0 | 0 | 0 | 0 | 0 | 0 | 0 | 0 | 0 | 0 | \n",
       "\n",
       "\n"
      ],
      "text/plain": [
       "             AAACATACCAAGCT.1 AAACATACCCCTAC.1 AAACATACCCGTAA.1\n",
       "MIR1302-10   0                0                0               \n",
       "FAM138A      0                0                0               \n",
       "OR4F5        0                0                0               \n",
       "RP11-34P13.7 0                0                0               \n",
       "RP11-34P13.8 0                0                0               \n",
       "AL627309.1   0                0                0               \n",
       "             AAACATACCCTCGT.1 AAACATACGAGGTG.1 AAACATACGCGAAG.1\n",
       "MIR1302-10   0                0                0               \n",
       "FAM138A      0                0                0               \n",
       "OR4F5        0                0                0               \n",
       "RP11-34P13.7 0                0                0               \n",
       "RP11-34P13.8 0                0                0               \n",
       "AL627309.1   0                0                0               \n",
       "             AAACATACGTCGTA.1 AAACATACGTTGCA.1 AAACATACTATGGC.1\n",
       "MIR1302-10   0                0                0               \n",
       "FAM138A      0                0                0               \n",
       "OR4F5        0                0                0               \n",
       "RP11-34P13.7 0                0                0               \n",
       "RP11-34P13.8 0                0                0               \n",
       "AL627309.1   0                0                0               \n",
       "             AAACATACTCAGGT.1 ⋯ ACACATCTCGCCTT.11 ACACATCTCGTTAG.1\n",
       "MIR1302-10   0                ⋯ 0                 0               \n",
       "FAM138A      0                ⋯ 0                 0               \n",
       "OR4F5        0                ⋯ 0                 0               \n",
       "RP11-34P13.7 0                ⋯ 0                 0               \n",
       "RP11-34P13.8 0                ⋯ 0                 0               \n",
       "AL627309.1   0                ⋯ 0                 0               \n",
       "             ACACATCTCTGGAT.1 ACACCAGAAAGGCG.1 ACACCAGAAATCGC.1\n",
       "MIR1302-10   0                0                0               \n",
       "FAM138A      0                0                0               \n",
       "OR4F5        0                0                0               \n",
       "RP11-34P13.7 0                0                0               \n",
       "RP11-34P13.8 0                0                0               \n",
       "AL627309.1   0                0                0               \n",
       "             ACACCAGAATGCTG.1 ACACCAGACCTATT.1 ACACCAGAGACGGA.1\n",
       "MIR1302-10   0                0                0               \n",
       "FAM138A      0                0                0               \n",
       "OR4F5        0                0                0               \n",
       "RP11-34P13.7 0                0                0               \n",
       "RP11-34P13.8 0                0                0               \n",
       "AL627309.1   0                0                0               \n",
       "             ACACCAGAGATGAA.1 ACACCAGAGCGTTA.1\n",
       "MIR1302-10   0                0               \n",
       "FAM138A      0                0               \n",
       "OR4F5        0                0               \n",
       "RP11-34P13.7 0                0               \n",
       "RP11-34P13.8 0                0               \n",
       "AL627309.1   0                0               "
      ]
     },
     "metadata": {},
     "output_type": "display_data"
    }
   ],
   "source": [
    "head(dataA)"
   ]
  },
  {
   "cell_type": "code",
   "execution_count": null,
   "metadata": {},
   "outputs": [],
   "source": []
  }
 ],
 "metadata": {
  "kernelspec": {
   "display_name": "R 3.5.1",
   "language": "R",
   "name": "ir35"
  },
  "language_info": {
   "codemirror_mode": "r",
   "file_extension": ".r",
   "mimetype": "text/x-r-source",
   "name": "R",
   "pygments_lexer": "r",
   "version": "3.5.1"
  },
  "toc": {
   "collapse_to_match_collapsible_headings": false,
   "colors": {
    "hover_highlight": "#DAA520",
    "navigate_num": "#000000",
    "navigate_text": "#333333",
    "running_highlight": "#FF0000",
    "selected_highlight": "#FFD700",
    "sidebar_border": "#EEEEEE",
    "wrapper_background": "#FFFFFF"
   },
   "moveMenuLeft": true,
   "nav_menu": {
    "height": "0px",
    "width": "250px"
   },
   "navigate_menu": true,
   "number_sections": true,
   "sideBar": true,
   "skip_h1_title": false,
   "threshold": 4,
   "toc_cell": true,
   "toc_section_display": "block",
   "toc_window_display": false,
   "widenNotebook": false
  }
 },
 "nbformat": 4,
 "nbformat_minor": 2
}
