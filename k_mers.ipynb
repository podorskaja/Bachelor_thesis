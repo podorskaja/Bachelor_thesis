{
 "cells": [
  {
   "cell_type": "markdown",
   "metadata": {
    "toc": "true"
   },
   "source": [
    " # Table of Contents\n",
    "<div class=\"toc\" style=\"margin-top: 1em;\"><ul class=\"toc-item\" id=\"toc-level0\"></ul></div>"
   ]
  },
  {
   "cell_type": "code",
   "execution_count": 1,
   "metadata": {
    "ExecuteTime": {
     "end_time": "2018-03-01T14:44:39.588854Z",
     "start_time": "2018-03-01T14:44:35.730769Z"
    }
   },
   "outputs": [
    {
     "name": "stderr",
     "output_type": "stream",
     "text": [
      "IOPub data rate exceeded.\n",
      "The notebook server will temporarily stop sending output\n",
      "to the client in order to avoid crashing it.\n",
      "To change this limit, set the config variable\n",
      "`--NotebookApp.iopub_data_rate_limit`.\n"
     ]
    }
   ],
   "source": [
    "import numpy as np\n",
    "import scipy\n",
    "import pandas as pd\n",
    "\n",
    "# Graphic libraries\n",
    "import matplotlib as plt\n",
    "%matplotlib inline\n",
    "import seaborn as sns\n",
    "from plotly.offline import init_notebook_mode, iplot, download_plotlyjs\n",
    "init_notebook_mode()\n",
    "import plotly.graph_objs as go"
   ]
  },
  {
   "cell_type": "code",
   "execution_count": null,
   "metadata": {
    "collapsed": true
   },
   "outputs": [],
   "source": [
    "sadfsadf"
   ]
  },
  {
   "cell_type": "code",
   "execution_count": 2,
   "metadata": {
    "ExecuteTime": {
     "end_time": "2018-03-01T14:44:48.483071Z",
     "start_time": "2018-03-01T14:44:48.478695Z"
    },
    "collapsed": true
   },
   "outputs": [],
   "source": [
    "from pprint import pprint"
   ]
  },
  {
   "cell_type": "code",
   "execution_count": 53,
   "metadata": {
    "ExecuteTime": {
     "end_time": "2018-03-01T15:55:15.027538Z",
     "start_time": "2018-03-01T15:55:15.022141Z"
    },
    "collapsed": true
   },
   "outputs": [],
   "source": [
    "points = [\n",
    "    (10,41),\n",
    "    (22,30),\n",
    "    (11,42),\n",
    "    (20,32),\n",
    "    (12,40),\n",
    "    (21,36),\n",
    "]"
   ]
  },
  {
   "cell_type": "code",
   "execution_count": 54,
   "metadata": {
    "ExecuteTime": {
     "end_time": "2018-03-01T15:55:15.831764Z",
     "start_time": "2018-03-01T15:55:15.825355Z"
    }
   },
   "outputs": [
    {
     "name": "stdout",
     "output_type": "stream",
     "text": [
      "[(10, 41), (22, 30), (11, 42), (20, 32), (12, 40), (21, 36)]\n"
     ]
    }
   ],
   "source": [
    "pprint(points)"
   ]
  },
  {
   "cell_type": "code",
   "execution_count": 60,
   "metadata": {
    "ExecuteTime": {
     "end_time": "2018-03-01T15:56:16.045978Z",
     "start_time": "2018-03-01T15:56:15.802157Z"
    }
   },
   "outputs": [
    {
     "data": {
      "text/plain": [
       "[<matplotlib.lines.Line2D at 0x11bb34128>,\n",
       " <matplotlib.lines.Line2D at 0x11bb34320>]"
      ]
     },
     "execution_count": 60,
     "metadata": {},
     "output_type": "execute_result"
    },
    {
     "data": {
      "image/png": "[encoded data removed]",
      "text/plain": [
       "<matplotlib.figure.Figure at 0x11ba1a630>"
      ]
     },
     "metadata": {},
     "output_type": "display_data"
    }
   ],
   "source": [
    "from matplotlib.pyplot import plot\n",
    "plot(points, 'r)')"
   ]
  },
  {
   "cell_type": "code",
   "execution_count": 69,
   "metadata": {
    "ExecuteTime": {
     "end_time": "2018-03-01T15:58:59.475324Z",
     "start_time": "2018-03-01T15:58:59.470153Z"
    }
   },
   "outputs": [],
   "source": [
    "def mean(data):\n",
    "    'Accurate arithmetic mean'\n",
    "    return round(sum(data) / len(data) , 2)"
   ]
  },
  {
   "cell_type": "code",
   "execution_count": 70,
   "metadata": {
    "ExecuteTime": {
     "end_time": "2018-03-01T15:58:59.900573Z",
     "start_time": "2018-03-01T15:58:59.893499Z"
    },
    "collapsed": true
   },
   "outputs": [],
   "source": [
    "def center (list_of_points):\n",
    "    x_points = list()\n",
    "    y_points = list()\n",
    "\n",
    "    for x, y in list_of_points:\n",
    "        x_points.append(x)\n",
    "        y_points.append(y)\n",
    "    return mean(x_points), mean(y_points)\n",
    "    \n",
    "    \n",
    "    "
   ]
  },
  {
   "cell_type": "code",
   "execution_count": 71,
   "metadata": {
    "ExecuteTime": {
     "end_time": "2018-03-01T15:59:00.248293Z",
     "start_time": "2018-03-01T15:59:00.242233Z"
    }
   },
   "outputs": [
    {
     "data": {
      "text/plain": [
       "(16.0, 36.83)"
      ]
     },
     "execution_count": 71,
     "metadata": {},
     "output_type": "execute_result"
    }
   ],
   "source": [
    "center(points)"
   ]
  },
  {
   "cell_type": "code",
   "execution_count": 77,
   "metadata": {
    "ExecuteTime": {
     "end_time": "2018-03-01T16:01:03.915265Z",
     "start_time": "2018-03-01T16:01:03.910700Z"
    }
   },
   "outputs": [],
   "source": [
    "center_1 = points[0]\n",
    "center_2 = points[1]"
   ]
  },
  {
   "cell_type": "code",
   "execution_count": 80,
   "metadata": {
    "ExecuteTime": {
     "end_time": "2018-03-01T16:05:09.117955Z",
     "start_time": "2018-03-01T16:05:09.112996Z"
    },
    "collapsed": true
   },
   "outputs": [],
   "source": [
    "p1 = (1,0)\n",
    "p2 = (3,0)"
   ]
  },
  {
   "cell_type": "code",
   "execution_count": 90,
   "metadata": {
    "ExecuteTime": {
     "end_time": "2018-03-01T16:09:56.040671Z",
     "start_time": "2018-03-01T16:09:56.023889Z"
    }
   },
   "outputs": [
    {
     "name": "stdout",
     "output_type": "stream",
     "text": [
      "1.0\n",
      "3.0\n"
     ]
    }
   ],
   "source": [
    "from math import sqrt\n",
    "for x,y in p1,p2:\n",
    "    print (sqrt((x**2) - (y**2)))"
   ]
  },
  {
   "cell_type": "code",
   "execution_count": null,
   "metadata": {
    "collapsed": true
   },
   "outputs": [],
   "source": []
  }
 ],
 "metadata": {
  "kernelspec": {
   "display_name": "Python 3",
   "language": "python",
   "name": "python3"
  },
  "language_info": {
   "codemirror_mode": {
    "name": "ipython",
    "version": 3
   },
   "file_extension": ".py",
   "mimetype": "text/x-python",
   "name": "python",
   "nbconvert_exporter": "python",
   "pygments_lexer": "ipython3",
   "version": "3.6.0"
  },
  "toc": {
   "collapse_to_match_collapsible_headings": false,
   "colors": {
    "hover_highlight": "#DAA520",
    "navigate_num": "#000000",
    "navigate_text": "#333333",
    "running_highlight": "#FF0000",
    "selected_highlight": "#FFD700",
    "sidebar_border": "#EEEEEE",
    "wrapper_background": "#FFFFFF"
   },
   "moveMenuLeft": true,
   "nav_menu": {
    "height": "12px",
    "width": "252px"
   },
   "navigate_menu": true,
   "number_sections": true,
   "sideBar": true,
   "skip_h1_title": false,
   "threshold": 4,
   "toc_cell": true,
   "toc_section_display": "block",
   "toc_window_display": false,
   "widenNotebook": false
  }
 },
 "nbformat": 4,
 "nbformat_minor": 2
}
