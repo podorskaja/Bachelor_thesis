{
 "cells": [
  {
   "cell_type": "markdown",
   "metadata": {
    "toc": "true"
   },
   "source": [
    " # Table of Contents\n",
    "<div class=\"toc\" style=\"margin-top: 1em;\"><ul class=\"toc-item\" id=\"toc-level0\"></ul></div>"
   ]
  },
  {
   "cell_type": "code",
   "execution_count": 1,
   "metadata": {},
   "outputs": [
    {
     "name": "stderr",
     "output_type": "stream",
     "text": [
      "Loading required package: ggplot2\n",
      "Loading required package: cowplot\n",
      "\n",
      "Attaching package: ‘cowplot’\n",
      "\n",
      "The following object is masked from ‘package:ggplot2’:\n",
      "\n",
      "    ggsave\n",
      "\n",
      "Loading required package: Matrix\n"
     ]
    }
   ],
   "source": [
    "library(Seurat)\n",
    "# cowplot enables side-by-side ggplots\n",
    "library(cowplot)"
   ]
  },
  {
   "cell_type": "code",
   "execution_count": 2,
   "metadata": {},
   "outputs": [],
   "source": [
    "# load data\n",
    "seqwell.data <- read.table(file = paste0(\"~/Downloads/IntegratedAnalysis_ExpressionMatrices/\", \n",
    "    \"pbmc_SeqWell.expressionMatrix.txt\"))"
   ]
  },
  {
   "cell_type": "code",
   "execution_count": 3,
   "metadata": {},
   "outputs": [],
   "source": [
    "tenx.data <- read.table(file = paste0(\"~/Downloads/IntegratedAnalysis_ExpressionMatrices/\", \n",
    "    \"pbmc_10X.expressionMatrix.txt\"))"
   ]
  },
  {
   "cell_type": "code",
   "execution_count": null,
   "metadata": {},
   "outputs": [],
   "source": [
    "# setup Seurat objects since both count matrices have already filtered\n",
    "# cells, we do no additional filtering here"
   ]
  },
  {
   "cell_type": "code",
   "execution_count": null,
   "metadata": {},
   "outputs": [],
   "source": []
  },
  {
   "cell_type": "code",
   "execution_count": 4,
   "metadata": {},
   "outputs": [],
   "source": [
    "seqwell <- CreateSeuratObject(raw.data = seqwell.data)"
   ]
  },
  {
   "cell_type": "code",
   "execution_count": 7,
   "metadata": {},
   "outputs": [
    {
     "data": {
      "text/html": [
       "3694"
      ],
      "text/latex": [
       "3694"
      ],
      "text/markdown": [
       "3694"
      ],
      "text/plain": [
       "[1] 3694"
      ]
     },
     "metadata": {},
     "output_type": "display_data"
    }
   ],
   "source": [
    "length(seqwell@cell.names)"
   ]
  },
  {
   "cell_type": "code",
   "execution_count": 8,
   "metadata": {},
   "outputs": [
    {
     "data": {
      "text/html": [
       "3694"
      ],
      "text/latex": [
       "3694"
      ],
      "text/markdown": [
       "3694"
      ],
      "text/plain": [
       "[1] 3694"
      ]
     },
     "metadata": {},
     "output_type": "display_data"
    }
   ],
   "source": [
    "length(unique(seqwell@cell.names))"
   ]
  },
  {
   "cell_type": "code",
   "execution_count": null,
   "metadata": {},
   "outputs": [],
   "source": [
    "seqwell <- NormalizeData(object = seqwell)"
   ]
  },
  {
   "cell_type": "code",
   "execution_count": null,
   "metadata": {},
   "outputs": [],
   "source": [
    "seqwell <- ScaleData(object = seqwell)"
   ]
  },
  {
   "cell_type": "code",
   "execution_count": null,
   "metadata": {},
   "outputs": [],
   "source": [
    "seqwell <- FindVariableGenes(object = seqwell, do.plot = FALSE)"
   ]
  },
  {
   "cell_type": "code",
   "execution_count": null,
   "metadata": {},
   "outputs": [],
   "source": [
    "tenx <- CreateSeuratObject(raw.data = tenx.data)"
   ]
  },
  {
   "cell_type": "code",
   "execution_count": null,
   "metadata": {},
   "outputs": [],
   "source": [
    "tenx <- NormalizeData(object = tenx)"
   ]
  },
  {
   "cell_type": "code",
   "execution_count": null,
   "metadata": {},
   "outputs": [],
   "source": [
    "tenx <- ScaleData(object = tenx)"
   ]
  },
  {
   "cell_type": "code",
   "execution_count": null,
   "metadata": {},
   "outputs": [],
   "source": [
    "tenx <- FindVariableGenes(object = tenx, do.plot = FALSE)\n",
    "\n",
    "# we will take the union of the top 2k variable genes in each dataset for\n",
    "# alignment note that we use 1k genes in the manuscript examples, you can\n",
    "# try this here with negligible changes to the overall results\n",
    "hvg.seqwell <- rownames(x = head(x = seqwell@hvg.info, n = 2000))\n",
    "hvg.tenx <- rownames(x = head(x = tenx@hvg.info, n = 2000))\n",
    "hvg.union <- union(x = hvg.seqwell, y = hvg.tenx)\n",
    "\n",
    "# lastly, we set the 'protocol' in each dataset for easy identification\n",
    "# later it will be transferred to the merged object in RunCCA\n",
    "tenx@meta.data[, \"protocol\"] <- \"10X\"\n",
    "seqwell@meta.data[, \"protocol\"] <- \"SeqWell\""
   ]
  }
 ],
 "metadata": {
  "kernelspec": {
   "display_name": "R",
   "language": "R",
   "name": "ir"
  },
  "language_info": {
   "codemirror_mode": "r",
   "file_extension": ".r",
   "mimetype": "text/x-r-source",
   "name": "R",
   "pygments_lexer": "r",
   "version": "3.4.3"
  },
  "toc": {
   "collapse_to_match_collapsible_headings": false,
   "colors": {
    "hover_highlight": "#DAA520",
    "navigate_num": "#000000",
    "navigate_text": "#333333",
    "running_highlight": "#FF0000",
    "selected_highlight": "#FFD700",
    "sidebar_border": "#EEEEEE",
    "wrapper_background": "#FFFFFF"
   },
   "moveMenuLeft": true,
   "nav_menu": {
    "height": "0px",
    "width": "250px"
   },
   "navigate_menu": true,
   "number_sections": true,
   "sideBar": true,
   "skip_h1_title": false,
   "threshold": 4,
   "toc_cell": true,
   "toc_section_display": "block",
   "toc_window_display": false,
   "widenNotebook": false
  }
 },
 "nbformat": 4,
 "nbformat_minor": 2
}
