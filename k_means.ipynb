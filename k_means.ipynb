{
 "cells": [
  {
   "cell_type": "markdown",
   "metadata": {
    "toc": "true"
   },
   "source": [
    " # Table of Contents\n",
    "<div class=\"toc\" style=\"margin-top: 1em;\"><ul class=\"toc-item\" id=\"toc-level0\"></ul></div>"
   ]
  },
  {
   "cell_type": "code",
   "execution_count": 6,
   "metadata": {
    "ExecuteTime": {
     "end_time": "2018-03-02T16:03:40.867076Z",
     "start_time": "2018-03-02T16:03:38.152255Z"
    }
   },
   "outputs": [
    {
     "name": "stderr",
     "output_type": "stream",
     "text": [
      "IOPub data rate exceeded.\n",
      "The notebook server will temporarily stop sending output\n",
      "to the client in order to avoid crashing it.\n",
      "To change this limit, set the config variable\n",
      "`--NotebookApp.iopub_data_rate_limit`.\n"
     ]
    }
   ],
   "source": [
    "import numpy as np\n",
    "import scipy\n",
    "import pandas as pd\n",
    "\n",
    "# Graphic libraries\n",
    "import matplotlib as plt\n",
    "%matplotlib inline\n",
    "import seaborn as sns\n",
    "from plotly.offline import init_notebook_mode, iplot, download_plotlyjs\n",
    "init_notebook_mode()\n",
    "import plotly.graph_objs as go"
   ]
  },
  {
   "cell_type": "code",
   "execution_count": 7,
   "metadata": {
    "ExecuteTime": {
     "end_time": "2018-03-02T16:03:41.276452Z",
     "start_time": "2018-03-02T16:03:40.869839Z"
    }
   },
   "outputs": [
    {
     "ename": "NameError",
     "evalue": "name 'sadfsadf' is not defined",
     "output_type": "error",
     "traceback": [
      "\u001b[0;31m---------------------------------------------------------------------------\u001b[0m",
      "\u001b[0;31mNameError\u001b[0m                                 Traceback (most recent call last)",
      "\u001b[0;32m<ipython-input-7-7f0c89563b1c>\u001b[0m in \u001b[0;36m<module>\u001b[0;34m()\u001b[0m\n\u001b[0;32m----> 1\u001b[0;31m \u001b[0msadfsadf\u001b[0m\u001b[0;34m\u001b[0m\u001b[0m\n\u001b[0m",
      "\u001b[0;31mNameError\u001b[0m: name 'sadfsadf' is not defined"
     ]
    }
   ],
   "source": [
    "sadfsadf"
   ]
  },
  {
   "cell_type": "code",
   "execution_count": null,
   "metadata": {
    "ExecuteTime": {
     "end_time": "2018-03-02T16:03:41.277284Z",
     "start_time": "2018-03-02T15:03:38.963Z"
    },
    "collapsed": true
   },
   "outputs": [],
   "source": [
    "from pprint import pprint"
   ]
  },
  {
   "cell_type": "code",
   "execution_count": null,
   "metadata": {
    "ExecuteTime": {
     "end_time": "2018-03-02T16:03:41.277755Z",
     "start_time": "2018-03-02T15:03:39.400Z"
    },
    "collapsed": true
   },
   "outputs": [],
   "source": [
    "points = [\n",
    "    (10,41),\n",
    "    (22,30),\n",
    "    (11,42),\n",
    "    (20,32),\n",
    "    (12,40),\n",
    "    (21,36),\n",
    "]"
   ]
  },
  {
   "cell_type": "code",
   "execution_count": null,
   "metadata": {
    "ExecuteTime": {
     "end_time": "2018-03-02T16:03:41.278291Z",
     "start_time": "2018-03-02T15:03:39.733Z"
    }
   },
   "outputs": [],
   "source": [
    "pprint(points)"
   ]
  },
  {
   "cell_type": "code",
   "execution_count": null,
   "metadata": {
    "ExecuteTime": {
     "end_time": "2018-03-02T16:03:41.278740Z",
     "start_time": "2018-03-02T15:03:40.218Z"
    }
   },
   "outputs": [],
   "source": [
    "from matplotlib.pyplot import plot\n",
    "plot(points, 'r)')"
   ]
  },
  {
   "cell_type": "code",
   "execution_count": null,
   "metadata": {
    "ExecuteTime": {
     "end_time": "2018-03-02T16:03:41.279146Z",
     "start_time": "2018-03-02T15:03:40.636Z"
    },
    "collapsed": true
   },
   "outputs": [],
   "source": [
    "def mean(data):\n",
    "    'Accurate arithmetic mean'\n",
    "    return round(sum(data) / len(data) , 2)"
   ]
  },
  {
   "cell_type": "code",
   "execution_count": null,
   "metadata": {
    "ExecuteTime": {
     "end_time": "2018-03-02T16:03:41.279676Z",
     "start_time": "2018-03-02T15:03:40.940Z"
    },
    "collapsed": true
   },
   "outputs": [],
   "source": [
    "def center (list_of_points):\n",
    "    x_points = list()\n",
    "    y_points = list()\n",
    "\n",
    "    for x, y in list_of_points:\n",
    "        x_points.append(x)\n",
    "        y_points.append(y)\n",
    "    return mean(x_points), mean(y_points)\n",
    "    \n",
    "    \n",
    "    "
   ]
  },
  {
   "cell_type": "code",
   "execution_count": null,
   "metadata": {
    "ExecuteTime": {
     "end_time": "2018-03-02T16:03:41.279988Z",
     "start_time": "2018-03-02T15:03:41.159Z"
    }
   },
   "outputs": [],
   "source": [
    "center(points)"
   ]
  },
  {
   "cell_type": "code",
   "execution_count": 8,
   "metadata": {
    "ExecuteTime": {
     "end_time": "2018-03-02T16:03:41.404154Z",
     "start_time": "2018-03-02T16:03:41.398068Z"
    },
    "collapsed": true
   },
   "outputs": [],
   "source": [
    "center_1 = points[0]\n",
    "center_2 = points[1]"
   ]
  },
  {
   "cell_type": "code",
   "execution_count": 9,
   "metadata": {
    "ExecuteTime": {
     "end_time": "2018-03-02T16:03:41.538182Z",
     "start_time": "2018-03-02T16:03:41.532549Z"
    },
    "collapsed": true
   },
   "outputs": [],
   "source": [
    "p1 = (1,0)\n",
    "p2 = (3,0)"
   ]
  },
  {
   "cell_type": "code",
   "execution_count": 10,
   "metadata": {
    "ExecuteTime": {
     "end_time": "2018-03-02T16:03:41.736124Z",
     "start_time": "2018-03-02T16:03:41.720290Z"
    }
   },
   "outputs": [
    {
     "name": "stdout",
     "output_type": "stream",
     "text": [
      "1.0\n",
      "3.0\n"
     ]
    }
   ],
   "source": [
    "from math import sqrt\n",
    "for x,y in p1,p2:\n",
    "    print (sqrt((x**2) - (y**2)))"
   ]
  },
  {
   "cell_type": "code",
   "execution_count": 11,
   "metadata": {
    "ExecuteTime": {
     "end_time": "2018-03-02T16:03:41.919269Z",
     "start_time": "2018-03-02T16:03:41.912274Z"
    }
   },
   "outputs": [
    {
     "name": "stdout",
     "output_type": "stream",
     "text": [
      "(10, 41)\n",
      "(22, 30)\n",
      "(11, 42)\n",
      "(20, 32)\n",
      "(12, 40)\n",
      "(21, 36)\n"
     ]
    }
   ],
   "source": [
    "for point in points:\n",
    "    print(point)"
   ]
  },
  {
   "cell_type": "code",
   "execution_count": 27,
   "metadata": {
    "ExecuteTime": {
     "end_time": "2018-03-02T16:09:40.331563Z",
     "start_time": "2018-03-02T16:09:40.325989Z"
    }
   },
   "outputs": [],
   "source": [
    "import random\n",
    "from cmath import sqrt\n",
    "\n",
    "center = random.sample(set(points),2)\n",
    "\n",
    "for x,y in center:\n",
    "    center_point = (sqrt((x**2) - (y**2))),2\n",
    "print"
   ]
  },
  {
   "cell_type": "code",
   "execution_count": null,
   "metadata": {
    "collapsed": true
   },
   "outputs": [],
   "source": []
  }
 ],
 "metadata": {
  "kernelspec": {
   "display_name": "Python 3",
   "language": "python",
   "name": "python3"
  },
  "language_info": {
   "codemirror_mode": {
    "name": "ipython",
    "version": 3
   },
   "file_extension": ".py",
   "mimetype": "text/x-python",
   "name": "python",
   "nbconvert_exporter": "python",
   "pygments_lexer": "ipython3",
   "version": "3.6.0"
  },
  "toc": {
   "collapse_to_match_collapsible_headings": false,
   "colors": {
    "hover_highlight": "#DAA520",
    "navigate_num": "#000000",
    "navigate_text": "#333333",
    "running_highlight": "#FF0000",
    "selected_highlight": "#FFD700",
    "sidebar_border": "#EEEEEE",
    "wrapper_background": "#FFFFFF"
   },
   "moveMenuLeft": true,
   "nav_menu": {
    "height": "12px",
    "width": "252px"
   },
   "navigate_menu": true,
   "number_sections": true,
   "sideBar": true,
   "skip_h1_title": false,
   "threshold": 4,
   "toc_cell": true,
   "toc_section_display": "block",
   "toc_window_display": false,
   "widenNotebook": false
  }
 },
 "nbformat": 4,
 "nbformat_minor": 2
}
