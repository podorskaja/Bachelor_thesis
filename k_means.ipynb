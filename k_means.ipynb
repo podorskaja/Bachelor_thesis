{
 "cells": [
  {
   "cell_type": "markdown",
   "metadata": {
    "toc": "true"
   },
   "source": [
    " # Table of Contents\n",
    "<div class=\"toc\" style=\"margin-top: 1em;\"><ul class=\"toc-item\" id=\"toc-level0\"><li><span><a href=\"http://localhost:8888/notebooks/PythonProjects/Bachelor_thesis/k_means.ipynb#assign-centers\" data-toc-modified-id=\"assign-centers-1\"><span class=\"toc-item-num\">1&nbsp;&nbsp;</span>assign centers</a></span></li></ul></div>"
   ]
  },
  {
   "cell_type": "code",
   "execution_count": 1,
   "metadata": {
    "ExecuteTime": {
     "end_time": "2018-03-03T11:12:01.026373Z",
     "start_time": "2018-03-03T11:11:57.473526Z"
    }
   },
   "outputs": [
    {
     "name": "stderr",
     "output_type": "stream",
     "text": [
      "IOPub data rate exceeded.\n",
      "The notebook server will temporarily stop sending output\n",
      "to the client in order to avoid crashing it.\n",
      "To change this limit, set the config variable\n",
      "`--NotebookApp.iopub_data_rate_limit`.\n"
     ]
    }
   ],
   "source": [
    "import numpy as np\n",
    "import scipy\n",
    "import pandas as pd\n",
    "\n",
    "# Graphic libraries\n",
    "import matplotlib as plt\n",
    "%matplotlib inline\n",
    "import seaborn as sns\n",
    "from plotly.offline import init_notebook_mode, iplot, download_plotlyjs\n",
    "init_notebook_mode()\n",
    "import plotly.graph_objs as go"
   ]
  },
  {
   "cell_type": "code",
   "execution_count": 2,
   "metadata": {
    "ExecuteTime": {
     "end_time": "2018-03-03T11:12:01.034277Z",
     "start_time": "2018-03-03T11:12:01.029087Z"
    },
    "collapsed": true
   },
   "outputs": [],
   "source": [
    "from pprint import pprint"
   ]
  },
  {
   "cell_type": "code",
   "execution_count": 20,
   "metadata": {
    "ExecuteTime": {
     "end_time": "2018-03-03T11:21:55.619396Z",
     "start_time": "2018-03-03T11:21:55.613801Z"
    },
    "collapsed": true
   },
   "outputs": [],
   "source": [
    "points = [\n",
    "    (10,41),\n",
    "    (22,30),\n",
    "    (11,42),\n",
    "    (20,32),\n",
    "    (12,40),\n",
    "    (21,36),\n",
    "]"
   ]
  },
  {
   "cell_type": "code",
   "execution_count": 21,
   "metadata": {
    "ExecuteTime": {
     "end_time": "2018-03-03T11:21:56.062964Z",
     "start_time": "2018-03-03T11:21:56.055177Z"
    }
   },
   "outputs": [
    {
     "name": "stdout",
     "output_type": "stream",
     "text": [
      "(10, 5)\n"
     ]
    }
   ],
   "source": [
    "import random\n",
    "from math import sqrt\n",
    "\n",
    "center1 = (10,5)\n",
    "center2 = (4,7)\n",
    "#center1 = random.choice(points)\n",
    "# center2 = random.sample(set(points),1)\n",
    "\n",
    "print(center1)\n"
   ]
  },
  {
   "cell_type": "code",
   "execution_count": 23,
   "metadata": {
    "ExecuteTime": {
     "end_time": "2018-03-03T11:21:57.366926Z",
     "start_time": "2018-03-03T11:21:57.358809Z"
    }
   },
   "outputs": [
    {
     "name": "stdout",
     "output_type": "stream",
     "text": [
      "(5, 4)\n",
      "5.0\n"
     ]
    }
   ],
   "source": [
    "from math import sqrt\n",
    "pp = [(5,4),(1,7)]\n",
    "x1,y1 = pp[0]\n",
    "x2,y2 = pp[1]\n",
    "print(pp[0])\n",
    "print(sqrt((x1-x2)**2 + (y1-y2)**2 ))"
   ]
  },
  {
   "cell_type": "code",
   "execution_count": 24,
   "metadata": {
    "ExecuteTime": {
     "end_time": "2018-03-03T11:21:58.448560Z",
     "start_time": "2018-03-03T11:21:58.441638Z"
    },
    "collapsed": true
   },
   "outputs": [],
   "source": [
    "from math import sqrt\n",
    "\n",
    "def distance(center, point):\n",
    "    x1,y1 = center\n",
    "    x2,y2 = point\n",
    "    return round(sqrt((x1-x2)**2 + (y1-y2)**2 ),2)\n",
    "    "
   ]
  },
  {
   "cell_type": "code",
   "execution_count": 25,
   "metadata": {
    "ExecuteTime": {
     "end_time": "2018-03-03T11:21:58.721182Z",
     "start_time": "2018-03-03T11:21:58.714580Z"
    }
   },
   "outputs": [
    {
     "data": {
      "text/plain": [
       "True"
      ]
     },
     "execution_count": 25,
     "metadata": {},
     "output_type": "execute_result"
    }
   ],
   "source": [
    "distance(center=(5,7), point=(1,4)) == 5.0"
   ]
  },
  {
   "cell_type": "code",
   "execution_count": 26,
   "metadata": {
    "ExecuteTime": {
     "end_time": "2018-03-03T11:21:59.099668Z",
     "start_time": "2018-03-03T11:21:59.090795Z"
    }
   },
   "outputs": [
    {
     "name": "stdout",
     "output_type": "stream",
     "text": [
      "{(10, 41): [36.0, 34.53], (22, 30): [27.73, 29.21], (11, 42): [37.01, 35.69], (20, 32): [28.79, 29.68], (12, 40): [35.06, 33.96], (21, 36): [32.89, 33.62]}\n"
     ]
    }
   ],
   "source": [
    "dist_dict = dict()\n",
    "\n",
    "{ (1,2) : [36, 37] }\n",
    "\n",
    "for point in points:\n",
    "    dist_dict[point] = [distance(center1,point),distance(center2,point)]\n",
    "\n",
    "print(dist_dict)\n",
    "    \n",
    "    "
   ]
  },
  {
   "cell_type": "code",
   "execution_count": 51,
   "metadata": {
    "ExecuteTime": {
     "end_time": "2018-03-03T11:32:37.089374Z",
     "start_time": "2018-03-03T11:32:37.081721Z"
    },
    "collapsed": true
   },
   "outputs": [],
   "source": [
    "from collections import defaultdict\n",
    "cluster = defaultdict(list)\n",
    "\n",
    "for key,value in dist_dict.items():\n",
    "    if value[0] > value[1]:\n",
    "        # add to center2\n",
    "        cluster[center2].append(key)\n",
    "    else:\n",
    "        # add to center1\n",
    "        cluster[center1].append(key)\n",
    "        "
   ]
  },
  {
   "cell_type": "code",
   "execution_count": 52,
   "metadata": {
    "ExecuteTime": {
     "end_time": "2018-03-03T11:32:37.411377Z",
     "start_time": "2018-03-03T11:32:37.406110Z"
    }
   },
   "outputs": [
    {
     "name": "stdout",
     "output_type": "stream",
     "text": [
      "defaultdict(<class 'list'>, {(4, 7): [(10, 41), (11, 42), (12, 40)], (10, 5): [(22, 30), (20, 32), (21, 36)]})\n"
     ]
    }
   ],
   "source": [
    "print(cluster)"
   ]
  },
  {
   "cell_type": "markdown",
   "metadata": {
    "ExecuteTime": {
     "end_time": "2018-03-03T11:24:32.544507Z",
     "start_time": "2018-03-03T11:24:32.537735Z"
    },
    "collapsed": true
   },
   "source": [
    "# assign centers\n",
    "for i in range(50):\n",
    "    # assign points to centers\n",
    "    # calculate new centers"
   ]
  },
  {
   "cell_type": "code",
   "execution_count": 68,
   "metadata": {
    "ExecuteTime": {
     "end_time": "2018-03-03T11:46:46.637601Z",
     "start_time": "2018-03-03T11:46:46.607442Z"
    }
   },
   "outputs": [
    {
     "name": "stdout",
     "output_type": "stream",
     "text": [
      "[(11.0, 41.0), (21.0, 32.67)]\n"
     ]
    }
   ],
   "source": [
    "new_centers = list()\n",
    "\n",
    "x_p = 0\n",
    "y_p = 0\n",
    "\n",
    "for key, value in cluster.items():\n",
    "    lentgh = len(value)\n",
    "    for x,y in value:\n",
    "        x_p += x\n",
    "        y_p += y\n",
    "    x_p = round(   x_p/lentgh  ,   2 )\n",
    "    y_p = round( y_p/lentgh, 2 )\n",
    "    new_centers.append((x_p , y_p))    \n",
    "\n",
    "    x_p = 0\n",
    "    y_p = 0\n",
    "    \n",
    "print(new_centers)"
   ]
  },
  {
   "cell_type": "code",
   "execution_count": 36,
   "metadata": {
    "ExecuteTime": {
     "end_time": "2018-03-03T11:24:45.074755Z",
     "start_time": "2018-03-03T11:24:45.068961Z"
    }
   },
   "outputs": [
    {
     "name": "stdout",
     "output_type": "stream",
     "text": [
      "(21, 36)\n"
     ]
    }
   ],
   "source": [
    "print(key)"
   ]
  },
  {
   "cell_type": "code",
   "execution_count": 43,
   "metadata": {
    "ExecuteTime": {
     "end_time": "2018-03-03T11:29:58.832108Z",
     "start_time": "2018-03-03T11:29:58.826527Z"
    }
   },
   "outputs": [
    {
     "name": "stdout",
     "output_type": "stream",
     "text": [
      "defaultdict(<class 'list'>, {(4, 7): [(10, 41), (11, 42), (12, 40)], (10, 5): [(22, 30), (20, 32), (21, 36)], (21, 36): []})\n"
     ]
    }
   ],
   "source": [
    "print(cluster)"
   ]
  },
  {
   "cell_type": "code",
   "execution_count": null,
   "metadata": {
    "collapsed": true
   },
   "outputs": [],
   "source": []
  }
 ],
 "metadata": {
  "kernelspec": {
   "display_name": "Python 3",
   "language": "python",
   "name": "python3"
  },
  "language_info": {
   "codemirror_mode": {
    "name": "ipython",
    "version": 3
   },
   "file_extension": ".py",
   "mimetype": "text/x-python",
   "name": "python",
   "nbconvert_exporter": "python",
   "pygments_lexer": "ipython3",
   "version": "3.6.0"
  },
  "toc": {
   "collapse_to_match_collapsible_headings": false,
   "colors": {
    "hover_highlight": "#DAA520",
    "navigate_num": "#000000",
    "navigate_text": "#333333",
    "running_highlight": "#FF0000",
    "selected_highlight": "#FFD700",
    "sidebar_border": "#EEEEEE",
    "wrapper_background": "#FFFFFF"
   },
   "moveMenuLeft": true,
   "nav_menu": {
    "height": "12px",
    "width": "252px"
   },
   "navigate_menu": true,
   "number_sections": true,
   "sideBar": true,
   "skip_h1_title": false,
   "threshold": 4,
   "toc_cell": true,
   "toc_section_display": "block",
   "toc_window_display": false,
   "widenNotebook": false
  }
 },
 "nbformat": 4,
 "nbformat_minor": 2
}
