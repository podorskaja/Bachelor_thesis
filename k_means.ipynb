{
 "cells": [
  {
   "cell_type": "markdown",
   "metadata": {
    "toc": "true"
   },
   "source": [
    " # Table of Contents\n",
    "<div class=\"toc\" style=\"margin-top: 1em;\"><ul class=\"toc-item\" id=\"toc-level0\"><li><span><a href=\"http://localhost:8888/notebooks/PythonProjects/Bachelor_thesis/k_means.ipynb#assign-centers\" data-toc-modified-id=\"assign-centers-1\"><span class=\"toc-item-num\">1&nbsp;&nbsp;</span>assign centers</a></span></li></ul></div>"
   ]
  },
  {
   "cell_type": "code",
   "execution_count": 1,
   "metadata": {
    "ExecuteTime": {
     "end_time": "2018-03-03T11:12:01.026373Z",
     "start_time": "2018-03-03T11:11:57.473526Z"
    }
   },
   "outputs": [
    {
     "name": "stderr",
     "output_type": "stream",
     "text": [
      "IOPub data rate exceeded.\n",
      "The notebook server will temporarily stop sending output\n",
      "to the client in order to avoid crashing it.\n",
      "To change this limit, set the config variable\n",
      "`--NotebookApp.iopub_data_rate_limit`.\n"
     ]
    }
   ],
   "source": [
    "import numpy as np\n",
    "import scipy\n",
    "import pandas as pd\n",
    "\n",
    "# Graphic libraries\n",
    "import matplotlib as plt\n",
    "%matplotlib inline\n",
    "import seaborn as sns\n",
    "from plotly.offline import init_notebook_mode, iplot, download_plotlyjs\n",
    "init_notebook_mode()\n",
    "import plotly.graph_objs as go"
   ]
  },
  {
   "cell_type": "code",
   "execution_count": 2,
   "metadata": {
    "ExecuteTime": {
     "end_time": "2018-03-03T11:12:01.034277Z",
     "start_time": "2018-03-03T11:12:01.029087Z"
    },
    "collapsed": true
   },
   "outputs": [],
   "source": [
    "from pprint import pprint"
   ]
  },
  {
   "cell_type": "code",
   "execution_count": 69,
   "metadata": {
    "ExecuteTime": {
     "end_time": "2018-03-03T11:56:00.429202Z",
     "start_time": "2018-03-03T11:56:00.422730Z"
    },
    "collapsed": true
   },
   "outputs": [],
   "source": [
    "# Points that we have to assign to clusters\n",
    "\n",
    "points = [\n",
    "    (10,41),\n",
    "    (22,30),\n",
    "    (11,42),\n",
    "    (20,32),\n",
    "    (12,40),\n",
    "    (21,36),\n",
    "]"
   ]
  },
  {
   "cell_type": "code",
   "execution_count": 70,
   "metadata": {
    "ExecuteTime": {
     "end_time": "2018-03-03T11:56:00.765010Z",
     "start_time": "2018-03-03T11:56:00.758346Z"
    }
   },
   "outputs": [],
   "source": [
    "# Define two centers\n",
    "\n",
    "center1 = (10,5)\n",
    "center2 = (4,7)\n",
    "\n"
   ]
  },
  {
   "cell_type": "code",
   "execution_count": 106,
   "metadata": {
    "ExecuteTime": {
     "end_time": "2018-03-03T12:25:37.495296Z",
     "start_time": "2018-03-03T12:25:37.488837Z"
    },
    "collapsed": true
   },
   "outputs": [],
   "source": [
    "# Distance function between a center and a point\n",
    "\n",
    "from math import sqrt\n",
    "\n",
    "def distance(center, point):\n",
    "    x1,y1 = center\n",
    "    x2,y2 = point\n",
    "    return round(sqrt((x1-x2)**2 + (y1-y2)**2 ),2)\n",
    "    "
   ]
  },
  {
   "cell_type": "code",
   "execution_count": 107,
   "metadata": {
    "ExecuteTime": {
     "end_time": "2018-03-03T12:25:37.744830Z",
     "start_time": "2018-03-03T12:25:37.735950Z"
    }
   },
   "outputs": [
    {
     "data": {
      "text/plain": [
       "True"
      ]
     },
     "execution_count": 107,
     "metadata": {},
     "output_type": "execute_result"
    }
   ],
   "source": [
    "distance(center=(5,7), point=(1,4)) == 5.0"
   ]
  },
  {
   "cell_type": "code",
   "execution_count": 108,
   "metadata": {
    "ExecuteTime": {
     "end_time": "2018-03-03T12:25:37.989464Z",
     "start_time": "2018-03-03T12:25:37.983482Z"
    }
   },
   "outputs": [],
   "source": [
    "# Make a distance dictionary {} [(point1: (distance to c1, distance to c2), point2:...)]  \n",
    "\n",
    "def dist_dict(points, center1, center2):\n",
    "\n",
    "    d = dict()\n",
    "\n",
    "    for point in points:\n",
    "        d[point] = [distance(center1,point),distance(center2,point)]\n",
    "\n",
    "    return d\n",
    "\n"
   ]
  },
  {
   "cell_type": "code",
   "execution_count": 109,
   "metadata": {
    "ExecuteTime": {
     "end_time": "2018-03-03T12:25:38.243456Z",
     "start_time": "2018-03-03T12:25:38.235234Z"
    },
    "collapsed": true
   },
   "outputs": [],
   "source": [
    "# Make new dictionary 'cluster' and assign points according to the distance to the center\n",
    "\n",
    "def points_assignment_to_centers(dist_dict, center1, center2):\n",
    "    \n",
    "    from collections import defaultdict\n",
    "    \n",
    "    cluster = defaultdict(list)\n",
    "\n",
    "    for key,value in dist_dict.items():\n",
    "        if value[0] > value[1]:\n",
    "            # add to center2\n",
    "            cluster[center2].append(key)\n",
    "        else:\n",
    "            # add to center1\n",
    "            cluster[center1].append(key)\n",
    "    return cluster\n"
   ]
  },
  {
   "cell_type": "code",
   "execution_count": 110,
   "metadata": {
    "ExecuteTime": {
     "end_time": "2018-03-03T12:25:38.447763Z",
     "start_time": "2018-03-03T12:25:38.444362Z"
    }
   },
   "outputs": [],
   "source": [
    "# assign centers\n",
    "#for i in range(50):\n",
    "    # assign points to centers\n",
    "    # calculate new centers"
   ]
  },
  {
   "cell_type": "code",
   "execution_count": 111,
   "metadata": {
    "ExecuteTime": {
     "end_time": "2018-03-03T12:25:38.631851Z",
     "start_time": "2018-03-03T12:25:38.614988Z"
    }
   },
   "outputs": [],
   "source": [
    "# Define new centers, calculation the mean of x and y of all points of the cluster\n",
    "\n",
    "def new_centers(cluster):\n",
    "    \n",
    "    new_centers = list()\n",
    "\n",
    "    x_p = 0\n",
    "    y_p = 0\n",
    "\n",
    "    for key, value in cluster.items():\n",
    "        lentgh = len(value)\n",
    "        for x,y in value:\n",
    "            x_p += x\n",
    "            y_p += y\n",
    "        x_p = round(   x_p/lentgh  ,   2 )\n",
    "        y_p = round( y_p/lentgh, 2 )\n",
    "        new_centers.append((x_p , y_p))    \n",
    "\n",
    "        x_p = 0\n",
    "        y_p = 0\n",
    "\n",
    "    center1,center2 = new_centers\n",
    "    \n",
    "    return new_centers"
   ]
  },
  {
   "cell_type": "code",
   "execution_count": 136,
   "metadata": {
    "ExecuteTime": {
     "end_time": "2018-03-03T12:29:55.677646Z",
     "start_time": "2018-03-03T12:29:55.669691Z"
    },
    "collapsed": true
   },
   "outputs": [],
   "source": [
    "# Points that we have to assign to clusters\n",
    "\n",
    "points = [\n",
    "    (10,41),\n",
    "    (22,30),\n",
    "    (11,42),\n",
    "    (20,32),\n",
    "    (12,40),\n",
    "    (21,36),\n",
    "]\n",
    "\n",
    "for i in range(100):\n",
    "    x = random.choice(range(1, 50000))\n",
    "    y = random.choice(range(1, 50000))\n",
    "    points.append((x, y))"
   ]
  },
  {
   "cell_type": "code",
   "execution_count": 137,
   "metadata": {
    "ExecuteTime": {
     "end_time": "2018-03-03T12:29:56.106801Z",
     "start_time": "2018-03-03T12:29:56.041043Z"
    }
   },
   "outputs": [
    {
     "name": "stdout",
     "output_type": "stream",
     "text": [
      "(4024.87, 31843.52) (29809.61, 22222.02)\n",
      "(7595.9, 29499.73) (34697.51, 21036.0)\n",
      "(9566.0, 28756.04) (37294.11, 20339.77)\n",
      "(9711.67, 28268.98) (37663.18, 20638.38)\n",
      "(10042.58, 27448.06) (38387.04, 21171.36)\n",
      "(10042.58, 27448.06) (38387.04, 21171.36)\n",
      "(10042.58, 27448.06) (38387.04, 21171.36)\n",
      "(10042.58, 27448.06) (38387.04, 21171.36)\n",
      "(10042.58, 27448.06) (38387.04, 21171.36)\n",
      "(10042.58, 27448.06) (38387.04, 21171.36)\n",
      "(10042.58, 27448.06) (38387.04, 21171.36)\n",
      "(10042.58, 27448.06) (38387.04, 21171.36)\n",
      "(10042.58, 27448.06) (38387.04, 21171.36)\n",
      "(10042.58, 27448.06) (38387.04, 21171.36)\n",
      "(10042.58, 27448.06) (38387.04, 21171.36)\n",
      "(10042.58, 27448.06) (38387.04, 21171.36)\n",
      "(10042.58, 27448.06) (38387.04, 21171.36)\n",
      "(10042.58, 27448.06) (38387.04, 21171.36)\n",
      "(10042.58, 27448.06) (38387.04, 21171.36)\n",
      "(10042.58, 27448.06) (38387.04, 21171.36)\n",
      "(10042.58, 27448.06) (38387.04, 21171.36)\n",
      "(10042.58, 27448.06) (38387.04, 21171.36)\n",
      "(10042.58, 27448.06) (38387.04, 21171.36)\n",
      "(10042.58, 27448.06) (38387.04, 21171.36)\n",
      "(10042.58, 27448.06) (38387.04, 21171.36)\n",
      "(10042.58, 27448.06) (38387.04, 21171.36)\n",
      "(10042.58, 27448.06) (38387.04, 21171.36)\n",
      "(10042.58, 27448.06) (38387.04, 21171.36)\n",
      "(10042.58, 27448.06) (38387.04, 21171.36)\n",
      "(10042.58, 27448.06) (38387.04, 21171.36)\n",
      "(10042.58, 27448.06) (38387.04, 21171.36)\n",
      "(10042.58, 27448.06) (38387.04, 21171.36)\n",
      "(10042.58, 27448.06) (38387.04, 21171.36)\n",
      "(10042.58, 27448.06) (38387.04, 21171.36)\n",
      "(10042.58, 27448.06) (38387.04, 21171.36)\n",
      "(10042.58, 27448.06) (38387.04, 21171.36)\n",
      "(10042.58, 27448.06) (38387.04, 21171.36)\n",
      "(10042.58, 27448.06) (38387.04, 21171.36)\n",
      "(10042.58, 27448.06) (38387.04, 21171.36)\n",
      "(10042.58, 27448.06) (38387.04, 21171.36)\n",
      "(10042.58, 27448.06) (38387.04, 21171.36)\n",
      "(10042.58, 27448.06) (38387.04, 21171.36)\n",
      "(10042.58, 27448.06) (38387.04, 21171.36)\n",
      "(10042.58, 27448.06) (38387.04, 21171.36)\n",
      "(10042.58, 27448.06) (38387.04, 21171.36)\n",
      "(10042.58, 27448.06) (38387.04, 21171.36)\n",
      "(10042.58, 27448.06) (38387.04, 21171.36)\n",
      "(10042.58, 27448.06) (38387.04, 21171.36)\n",
      "(10042.58, 27448.06) (38387.04, 21171.36)\n",
      "(10042.58, 27448.06) (38387.04, 21171.36)\n"
     ]
    }
   ],
   "source": [
    "# Define two centers\n",
    "\n",
    "center1 = (10,5)\n",
    "center2 = (4,7)\n",
    "\n",
    "\n",
    "\n",
    "for i in range(50):\n",
    "    dist = dist_dict(points, center1, center2)\n",
    "    set_of_points = points_assignment_to_centers(dist, center1, center2)\n",
    "    n_centers = new_centers(set_of_points)\n",
    "    center1,center2 = n_centers\n",
    "    print(center1,center2)"
   ]
  },
  {
   "cell_type": "code",
   "execution_count": null,
   "metadata": {
    "collapsed": true
   },
   "outputs": [],
   "source": []
  },
  {
   "cell_type": "code",
   "execution_count": null,
   "metadata": {
    "collapsed": true
   },
   "outputs": [],
   "source": []
  }
 ],
 "metadata": {
  "kernelspec": {
   "display_name": "Python 3",
   "language": "python",
   "name": "python3"
  },
  "language_info": {
   "codemirror_mode": {
    "name": "ipython",
    "version": 3
   },
   "file_extension": ".py",
   "mimetype": "text/x-python",
   "name": "python",
   "nbconvert_exporter": "python",
   "pygments_lexer": "ipython3",
   "version": "3.6.0"
  },
  "toc": {
   "collapse_to_match_collapsible_headings": false,
   "colors": {
    "hover_highlight": "#DAA520",
    "navigate_num": "#000000",
    "navigate_text": "#333333",
    "running_highlight": "#FF0000",
    "selected_highlight": "#FFD700",
    "sidebar_border": "#EEEEEE",
    "wrapper_background": "#FFFFFF"
   },
   "moveMenuLeft": true,
   "nav_menu": {
    "height": "12px",
    "width": "252px"
   },
   "navigate_menu": true,
   "number_sections": true,
   "sideBar": true,
   "skip_h1_title": false,
   "threshold": 4,
   "toc_cell": true,
   "toc_section_display": "block",
   "toc_window_display": false,
   "widenNotebook": false
  }
 },
 "nbformat": 4,
 "nbformat_minor": 2
}
